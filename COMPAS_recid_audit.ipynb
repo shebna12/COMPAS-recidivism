{
  "nbformat": 4,
  "nbformat_minor": 0,
  "metadata": {
    "colab": {
      "name": "COMPAS_recid_audit.ipynb",
      "provenance": [],
      "collapsed_sections": [
        "5pdF42SzzUb3",
        "Gl9woqTvaa-S",
        "f_4PmBnl56vX",
        "TuhblHYE5p2A",
        "WMj48XX77oT-",
        "dlxWr9K5vF2_",
        "Z1u1IH7FvKU-",
        "PlGvUdU4vPgn",
        "kSgaiMqQ0IsR",
        "TI1jHoJu75B1",
        "-1q2zJwV7-0s",
        "8bqudere7_Go",
        "1SpxhPCE02_H",
        "j3WPMw2FJoSU",
        "Ncw3FCf0QAK8",
        "WwiwcdMhQALA",
        "vl3hf5Y7_8LT",
        "rpLFeVlwQALW",
        "otna62iqQALc",
        "ZQ9MfXsCQALi",
        "qorioKtzQALs",
        "Xs9Zwg7dQAMA",
        "pNvY-BcWQAMQ",
        "QTdH1QroHyXc",
        "-_WeFmSPwqCl",
        "AGZ-A6usx-3E"
      ],
      "toc_visible": true
    },
    "kernelspec": {
      "name": "python3",
      "display_name": "Python 3"
    },
    "widgets": {
      "application/vnd.jupyter.widget-state+json": {
        "edb6a5046436469aa610a301447e67b1": {
          "model_module": "@jupyter-widgets/controls",
          "model_name": "HBoxModel",
          "state": {
            "_view_name": "HBoxView",
            "_dom_classes": [],
            "_model_name": "HBoxModel",
            "_view_module": "@jupyter-widgets/controls",
            "_model_module_version": "1.5.0",
            "_view_count": null,
            "_view_module_version": "1.5.0",
            "box_style": "",
            "layout": "IPY_MODEL_bbc0f991454b4dacb880146fc203f815",
            "_model_module": "@jupyter-widgets/controls",
            "children": [
              "IPY_MODEL_8bd264e557df45fab50dda4e27f1daa7",
              "IPY_MODEL_579a91f2b07a4261bdcc1e7def0bd7be",
              "IPY_MODEL_c075ccedab5e4bbfb4dc54fac08ccd7d"
            ]
          }
        },
        "bbc0f991454b4dacb880146fc203f815": {
          "model_module": "@jupyter-widgets/base",
          "model_name": "LayoutModel",
          "state": {
            "_view_name": "LayoutView",
            "grid_template_rows": null,
            "right": null,
            "justify_content": null,
            "_view_module": "@jupyter-widgets/base",
            "overflow": null,
            "_model_module_version": "1.2.0",
            "_view_count": null,
            "flex_flow": null,
            "width": null,
            "min_width": null,
            "border": null,
            "align_items": null,
            "bottom": null,
            "_model_module": "@jupyter-widgets/base",
            "top": null,
            "grid_column": null,
            "overflow_y": null,
            "overflow_x": null,
            "grid_auto_flow": null,
            "grid_area": null,
            "grid_template_columns": null,
            "flex": null,
            "_model_name": "LayoutModel",
            "justify_items": null,
            "grid_row": null,
            "max_height": null,
            "align_content": null,
            "visibility": null,
            "align_self": null,
            "height": null,
            "min_height": null,
            "padding": null,
            "grid_auto_rows": null,
            "grid_gap": null,
            "max_width": null,
            "order": null,
            "_view_module_version": "1.2.0",
            "grid_template_areas": null,
            "object_position": null,
            "object_fit": null,
            "grid_auto_columns": null,
            "margin": null,
            "display": null,
            "left": null
          }
        },
        "8bd264e557df45fab50dda4e27f1daa7": {
          "model_module": "@jupyter-widgets/controls",
          "model_name": "HTMLModel",
          "state": {
            "_view_name": "HTMLView",
            "style": "IPY_MODEL_e8afaab565cc4389a596a575c0148f80",
            "_dom_classes": [],
            "description": "",
            "_model_name": "HTMLModel",
            "placeholder": "​",
            "_view_module": "@jupyter-widgets/controls",
            "_model_module_version": "1.5.0",
            "value": "Summarize dataset: 100%",
            "_view_count": null,
            "_view_module_version": "1.5.0",
            "description_tooltip": null,
            "_model_module": "@jupyter-widgets/controls",
            "layout": "IPY_MODEL_c4ad5921479d4e7cafcc71343b594ec2"
          }
        },
        "579a91f2b07a4261bdcc1e7def0bd7be": {
          "model_module": "@jupyter-widgets/controls",
          "model_name": "FloatProgressModel",
          "state": {
            "_view_name": "ProgressView",
            "style": "IPY_MODEL_14c4c122491c4ec9a363d0b39f9d625b",
            "_dom_classes": [],
            "description": "",
            "_model_name": "FloatProgressModel",
            "bar_style": "success",
            "max": 24,
            "_view_module": "@jupyter-widgets/controls",
            "_model_module_version": "1.5.0",
            "value": 24,
            "_view_count": null,
            "_view_module_version": "1.5.0",
            "orientation": "horizontal",
            "min": 0,
            "description_tooltip": null,
            "_model_module": "@jupyter-widgets/controls",
            "layout": "IPY_MODEL_259faee545ca4edf817139cd1b35a553"
          }
        },
        "c075ccedab5e4bbfb4dc54fac08ccd7d": {
          "model_module": "@jupyter-widgets/controls",
          "model_name": "HTMLModel",
          "state": {
            "_view_name": "HTMLView",
            "style": "IPY_MODEL_d0c05f90ecbd45cfa997aa82805f64d8",
            "_dom_classes": [],
            "description": "",
            "_model_name": "HTMLModel",
            "placeholder": "​",
            "_view_module": "@jupyter-widgets/controls",
            "_model_module_version": "1.5.0",
            "value": " 24/24 [00:10&lt;00:00,  1.30it/s, Completed]",
            "_view_count": null,
            "_view_module_version": "1.5.0",
            "description_tooltip": null,
            "_model_module": "@jupyter-widgets/controls",
            "layout": "IPY_MODEL_0746de4dfe9e4d7e85af5d72e4545fa9"
          }
        },
        "e8afaab565cc4389a596a575c0148f80": {
          "model_module": "@jupyter-widgets/controls",
          "model_name": "DescriptionStyleModel",
          "state": {
            "_view_name": "StyleView",
            "_model_name": "DescriptionStyleModel",
            "description_width": "",
            "_view_module": "@jupyter-widgets/base",
            "_model_module_version": "1.5.0",
            "_view_count": null,
            "_view_module_version": "1.2.0",
            "_model_module": "@jupyter-widgets/controls"
          }
        },
        "c4ad5921479d4e7cafcc71343b594ec2": {
          "model_module": "@jupyter-widgets/base",
          "model_name": "LayoutModel",
          "state": {
            "_view_name": "LayoutView",
            "grid_template_rows": null,
            "right": null,
            "justify_content": null,
            "_view_module": "@jupyter-widgets/base",
            "overflow": null,
            "_model_module_version": "1.2.0",
            "_view_count": null,
            "flex_flow": null,
            "width": null,
            "min_width": null,
            "border": null,
            "align_items": null,
            "bottom": null,
            "_model_module": "@jupyter-widgets/base",
            "top": null,
            "grid_column": null,
            "overflow_y": null,
            "overflow_x": null,
            "grid_auto_flow": null,
            "grid_area": null,
            "grid_template_columns": null,
            "flex": null,
            "_model_name": "LayoutModel",
            "justify_items": null,
            "grid_row": null,
            "max_height": null,
            "align_content": null,
            "visibility": null,
            "align_self": null,
            "height": null,
            "min_height": null,
            "padding": null,
            "grid_auto_rows": null,
            "grid_gap": null,
            "max_width": null,
            "order": null,
            "_view_module_version": "1.2.0",
            "grid_template_areas": null,
            "object_position": null,
            "object_fit": null,
            "grid_auto_columns": null,
            "margin": null,
            "display": null,
            "left": null
          }
        },
        "14c4c122491c4ec9a363d0b39f9d625b": {
          "model_module": "@jupyter-widgets/controls",
          "model_name": "ProgressStyleModel",
          "state": {
            "_view_name": "StyleView",
            "_model_name": "ProgressStyleModel",
            "description_width": "",
            "_view_module": "@jupyter-widgets/base",
            "_model_module_version": "1.5.0",
            "_view_count": null,
            "_view_module_version": "1.2.0",
            "bar_color": null,
            "_model_module": "@jupyter-widgets/controls"
          }
        },
        "259faee545ca4edf817139cd1b35a553": {
          "model_module": "@jupyter-widgets/base",
          "model_name": "LayoutModel",
          "state": {
            "_view_name": "LayoutView",
            "grid_template_rows": null,
            "right": null,
            "justify_content": null,
            "_view_module": "@jupyter-widgets/base",
            "overflow": null,
            "_model_module_version": "1.2.0",
            "_view_count": null,
            "flex_flow": null,
            "width": null,
            "min_width": null,
            "border": null,
            "align_items": null,
            "bottom": null,
            "_model_module": "@jupyter-widgets/base",
            "top": null,
            "grid_column": null,
            "overflow_y": null,
            "overflow_x": null,
            "grid_auto_flow": null,
            "grid_area": null,
            "grid_template_columns": null,
            "flex": null,
            "_model_name": "LayoutModel",
            "justify_items": null,
            "grid_row": null,
            "max_height": null,
            "align_content": null,
            "visibility": null,
            "align_self": null,
            "height": null,
            "min_height": null,
            "padding": null,
            "grid_auto_rows": null,
            "grid_gap": null,
            "max_width": null,
            "order": null,
            "_view_module_version": "1.2.0",
            "grid_template_areas": null,
            "object_position": null,
            "object_fit": null,
            "grid_auto_columns": null,
            "margin": null,
            "display": null,
            "left": null
          }
        },
        "d0c05f90ecbd45cfa997aa82805f64d8": {
          "model_module": "@jupyter-widgets/controls",
          "model_name": "DescriptionStyleModel",
          "state": {
            "_view_name": "StyleView",
            "_model_name": "DescriptionStyleModel",
            "description_width": "",
            "_view_module": "@jupyter-widgets/base",
            "_model_module_version": "1.5.0",
            "_view_count": null,
            "_view_module_version": "1.2.0",
            "_model_module": "@jupyter-widgets/controls"
          }
        },
        "0746de4dfe9e4d7e85af5d72e4545fa9": {
          "model_module": "@jupyter-widgets/base",
          "model_name": "LayoutModel",
          "state": {
            "_view_name": "LayoutView",
            "grid_template_rows": null,
            "right": null,
            "justify_content": null,
            "_view_module": "@jupyter-widgets/base",
            "overflow": null,
            "_model_module_version": "1.2.0",
            "_view_count": null,
            "flex_flow": null,
            "width": null,
            "min_width": null,
            "border": null,
            "align_items": null,
            "bottom": null,
            "_model_module": "@jupyter-widgets/base",
            "top": null,
            "grid_column": null,
            "overflow_y": null,
            "overflow_x": null,
            "grid_auto_flow": null,
            "grid_area": null,
            "grid_template_columns": null,
            "flex": null,
            "_model_name": "LayoutModel",
            "justify_items": null,
            "grid_row": null,
            "max_height": null,
            "align_content": null,
            "visibility": null,
            "align_self": null,
            "height": null,
            "min_height": null,
            "padding": null,
            "grid_auto_rows": null,
            "grid_gap": null,
            "max_width": null,
            "order": null,
            "_view_module_version": "1.2.0",
            "grid_template_areas": null,
            "object_position": null,
            "object_fit": null,
            "grid_auto_columns": null,
            "margin": null,
            "display": null,
            "left": null
          }
        },
        "34923915b63b42c98ff12884d405d8b6": {
          "model_module": "@jupyter-widgets/controls",
          "model_name": "HBoxModel",
          "state": {
            "_view_name": "HBoxView",
            "_dom_classes": [],
            "_model_name": "HBoxModel",
            "_view_module": "@jupyter-widgets/controls",
            "_model_module_version": "1.5.0",
            "_view_count": null,
            "_view_module_version": "1.5.0",
            "box_style": "",
            "layout": "IPY_MODEL_da40640f8fc24659af71eb4a10fb14b7",
            "_model_module": "@jupyter-widgets/controls",
            "children": [
              "IPY_MODEL_2aa1f2c2399b4408abe6b326437065af",
              "IPY_MODEL_f27e4ef79aa2466780d386d2f9e655d3",
              "IPY_MODEL_cacf90a2ac254f09ae576756500d3404"
            ]
          }
        },
        "da40640f8fc24659af71eb4a10fb14b7": {
          "model_module": "@jupyter-widgets/base",
          "model_name": "LayoutModel",
          "state": {
            "_view_name": "LayoutView",
            "grid_template_rows": null,
            "right": null,
            "justify_content": null,
            "_view_module": "@jupyter-widgets/base",
            "overflow": null,
            "_model_module_version": "1.2.0",
            "_view_count": null,
            "flex_flow": null,
            "width": null,
            "min_width": null,
            "border": null,
            "align_items": null,
            "bottom": null,
            "_model_module": "@jupyter-widgets/base",
            "top": null,
            "grid_column": null,
            "overflow_y": null,
            "overflow_x": null,
            "grid_auto_flow": null,
            "grid_area": null,
            "grid_template_columns": null,
            "flex": null,
            "_model_name": "LayoutModel",
            "justify_items": null,
            "grid_row": null,
            "max_height": null,
            "align_content": null,
            "visibility": null,
            "align_self": null,
            "height": null,
            "min_height": null,
            "padding": null,
            "grid_auto_rows": null,
            "grid_gap": null,
            "max_width": null,
            "order": null,
            "_view_module_version": "1.2.0",
            "grid_template_areas": null,
            "object_position": null,
            "object_fit": null,
            "grid_auto_columns": null,
            "margin": null,
            "display": null,
            "left": null
          }
        },
        "2aa1f2c2399b4408abe6b326437065af": {
          "model_module": "@jupyter-widgets/controls",
          "model_name": "HTMLModel",
          "state": {
            "_view_name": "HTMLView",
            "style": "IPY_MODEL_919e45e63af74cedb31fe9767cea5987",
            "_dom_classes": [],
            "description": "",
            "_model_name": "HTMLModel",
            "placeholder": "​",
            "_view_module": "@jupyter-widgets/controls",
            "_model_module_version": "1.5.0",
            "value": "Generate report structure: 100%",
            "_view_count": null,
            "_view_module_version": "1.5.0",
            "description_tooltip": null,
            "_model_module": "@jupyter-widgets/controls",
            "layout": "IPY_MODEL_ef8cf2a465d94891a3f033bb8ecdd4ca"
          }
        },
        "f27e4ef79aa2466780d386d2f9e655d3": {
          "model_module": "@jupyter-widgets/controls",
          "model_name": "FloatProgressModel",
          "state": {
            "_view_name": "ProgressView",
            "style": "IPY_MODEL_5f6905c4a6d548a6ae5985dc1478e3da",
            "_dom_classes": [],
            "description": "",
            "_model_name": "FloatProgressModel",
            "bar_style": "success",
            "max": 1,
            "_view_module": "@jupyter-widgets/controls",
            "_model_module_version": "1.5.0",
            "value": 1,
            "_view_count": null,
            "_view_module_version": "1.5.0",
            "orientation": "horizontal",
            "min": 0,
            "description_tooltip": null,
            "_model_module": "@jupyter-widgets/controls",
            "layout": "IPY_MODEL_89bac482d83b41329f149dc28a74ea44"
          }
        },
        "cacf90a2ac254f09ae576756500d3404": {
          "model_module": "@jupyter-widgets/controls",
          "model_name": "HTMLModel",
          "state": {
            "_view_name": "HTMLView",
            "style": "IPY_MODEL_00293556f10b4a558a8a2fb6f1f15a69",
            "_dom_classes": [],
            "description": "",
            "_model_name": "HTMLModel",
            "placeholder": "​",
            "_view_module": "@jupyter-widgets/controls",
            "_model_module_version": "1.5.0",
            "value": " 1/1 [00:05&lt;00:00,  5.94s/it]",
            "_view_count": null,
            "_view_module_version": "1.5.0",
            "description_tooltip": null,
            "_model_module": "@jupyter-widgets/controls",
            "layout": "IPY_MODEL_faa7fd6ef2654e509d448c93843d0239"
          }
        },
        "919e45e63af74cedb31fe9767cea5987": {
          "model_module": "@jupyter-widgets/controls",
          "model_name": "DescriptionStyleModel",
          "state": {
            "_view_name": "StyleView",
            "_model_name": "DescriptionStyleModel",
            "description_width": "",
            "_view_module": "@jupyter-widgets/base",
            "_model_module_version": "1.5.0",
            "_view_count": null,
            "_view_module_version": "1.2.0",
            "_model_module": "@jupyter-widgets/controls"
          }
        },
        "ef8cf2a465d94891a3f033bb8ecdd4ca": {
          "model_module": "@jupyter-widgets/base",
          "model_name": "LayoutModel",
          "state": {
            "_view_name": "LayoutView",
            "grid_template_rows": null,
            "right": null,
            "justify_content": null,
            "_view_module": "@jupyter-widgets/base",
            "overflow": null,
            "_model_module_version": "1.2.0",
            "_view_count": null,
            "flex_flow": null,
            "width": null,
            "min_width": null,
            "border": null,
            "align_items": null,
            "bottom": null,
            "_model_module": "@jupyter-widgets/base",
            "top": null,
            "grid_column": null,
            "overflow_y": null,
            "overflow_x": null,
            "grid_auto_flow": null,
            "grid_area": null,
            "grid_template_columns": null,
            "flex": null,
            "_model_name": "LayoutModel",
            "justify_items": null,
            "grid_row": null,
            "max_height": null,
            "align_content": null,
            "visibility": null,
            "align_self": null,
            "height": null,
            "min_height": null,
            "padding": null,
            "grid_auto_rows": null,
            "grid_gap": null,
            "max_width": null,
            "order": null,
            "_view_module_version": "1.2.0",
            "grid_template_areas": null,
            "object_position": null,
            "object_fit": null,
            "grid_auto_columns": null,
            "margin": null,
            "display": null,
            "left": null
          }
        },
        "5f6905c4a6d548a6ae5985dc1478e3da": {
          "model_module": "@jupyter-widgets/controls",
          "model_name": "ProgressStyleModel",
          "state": {
            "_view_name": "StyleView",
            "_model_name": "ProgressStyleModel",
            "description_width": "",
            "_view_module": "@jupyter-widgets/base",
            "_model_module_version": "1.5.0",
            "_view_count": null,
            "_view_module_version": "1.2.0",
            "bar_color": null,
            "_model_module": "@jupyter-widgets/controls"
          }
        },
        "89bac482d83b41329f149dc28a74ea44": {
          "model_module": "@jupyter-widgets/base",
          "model_name": "LayoutModel",
          "state": {
            "_view_name": "LayoutView",
            "grid_template_rows": null,
            "right": null,
            "justify_content": null,
            "_view_module": "@jupyter-widgets/base",
            "overflow": null,
            "_model_module_version": "1.2.0",
            "_view_count": null,
            "flex_flow": null,
            "width": null,
            "min_width": null,
            "border": null,
            "align_items": null,
            "bottom": null,
            "_model_module": "@jupyter-widgets/base",
            "top": null,
            "grid_column": null,
            "overflow_y": null,
            "overflow_x": null,
            "grid_auto_flow": null,
            "grid_area": null,
            "grid_template_columns": null,
            "flex": null,
            "_model_name": "LayoutModel",
            "justify_items": null,
            "grid_row": null,
            "max_height": null,
            "align_content": null,
            "visibility": null,
            "align_self": null,
            "height": null,
            "min_height": null,
            "padding": null,
            "grid_auto_rows": null,
            "grid_gap": null,
            "max_width": null,
            "order": null,
            "_view_module_version": "1.2.0",
            "grid_template_areas": null,
            "object_position": null,
            "object_fit": null,
            "grid_auto_columns": null,
            "margin": null,
            "display": null,
            "left": null
          }
        },
        "00293556f10b4a558a8a2fb6f1f15a69": {
          "model_module": "@jupyter-widgets/controls",
          "model_name": "DescriptionStyleModel",
          "state": {
            "_view_name": "StyleView",
            "_model_name": "DescriptionStyleModel",
            "description_width": "",
            "_view_module": "@jupyter-widgets/base",
            "_model_module_version": "1.5.0",
            "_view_count": null,
            "_view_module_version": "1.2.0",
            "_model_module": "@jupyter-widgets/controls"
          }
        },
        "faa7fd6ef2654e509d448c93843d0239": {
          "model_module": "@jupyter-widgets/base",
          "model_name": "LayoutModel",
          "state": {
            "_view_name": "LayoutView",
            "grid_template_rows": null,
            "right": null,
            "justify_content": null,
            "_view_module": "@jupyter-widgets/base",
            "overflow": null,
            "_model_module_version": "1.2.0",
            "_view_count": null,
            "flex_flow": null,
            "width": null,
            "min_width": null,
            "border": null,
            "align_items": null,
            "bottom": null,
            "_model_module": "@jupyter-widgets/base",
            "top": null,
            "grid_column": null,
            "overflow_y": null,
            "overflow_x": null,
            "grid_auto_flow": null,
            "grid_area": null,
            "grid_template_columns": null,
            "flex": null,
            "_model_name": "LayoutModel",
            "justify_items": null,
            "grid_row": null,
            "max_height": null,
            "align_content": null,
            "visibility": null,
            "align_self": null,
            "height": null,
            "min_height": null,
            "padding": null,
            "grid_auto_rows": null,
            "grid_gap": null,
            "max_width": null,
            "order": null,
            "_view_module_version": "1.2.0",
            "grid_template_areas": null,
            "object_position": null,
            "object_fit": null,
            "grid_auto_columns": null,
            "margin": null,
            "display": null,
            "left": null
          }
        },
        "8cda600b0dc4451abfe6fee91f485fc6": {
          "model_module": "@jupyter-widgets/controls",
          "model_name": "HBoxModel",
          "state": {
            "_view_name": "HBoxView",
            "_dom_classes": [],
            "_model_name": "HBoxModel",
            "_view_module": "@jupyter-widgets/controls",
            "_model_module_version": "1.5.0",
            "_view_count": null,
            "_view_module_version": "1.5.0",
            "box_style": "",
            "layout": "IPY_MODEL_595d4eee29ce47deb018e63f4b246d52",
            "_model_module": "@jupyter-widgets/controls",
            "children": [
              "IPY_MODEL_5eeb34a5a782434eb95010226f6b2659",
              "IPY_MODEL_39b4e14812eb4948a4e75df1bb609fbb",
              "IPY_MODEL_b80e8529a85a495f93e0a513e022711c"
            ]
          }
        },
        "595d4eee29ce47deb018e63f4b246d52": {
          "model_module": "@jupyter-widgets/base",
          "model_name": "LayoutModel",
          "state": {
            "_view_name": "LayoutView",
            "grid_template_rows": null,
            "right": null,
            "justify_content": null,
            "_view_module": "@jupyter-widgets/base",
            "overflow": null,
            "_model_module_version": "1.2.0",
            "_view_count": null,
            "flex_flow": null,
            "width": null,
            "min_width": null,
            "border": null,
            "align_items": null,
            "bottom": null,
            "_model_module": "@jupyter-widgets/base",
            "top": null,
            "grid_column": null,
            "overflow_y": null,
            "overflow_x": null,
            "grid_auto_flow": null,
            "grid_area": null,
            "grid_template_columns": null,
            "flex": null,
            "_model_name": "LayoutModel",
            "justify_items": null,
            "grid_row": null,
            "max_height": null,
            "align_content": null,
            "visibility": null,
            "align_self": null,
            "height": null,
            "min_height": null,
            "padding": null,
            "grid_auto_rows": null,
            "grid_gap": null,
            "max_width": null,
            "order": null,
            "_view_module_version": "1.2.0",
            "grid_template_areas": null,
            "object_position": null,
            "object_fit": null,
            "grid_auto_columns": null,
            "margin": null,
            "display": null,
            "left": null
          }
        },
        "5eeb34a5a782434eb95010226f6b2659": {
          "model_module": "@jupyter-widgets/controls",
          "model_name": "HTMLModel",
          "state": {
            "_view_name": "HTMLView",
            "style": "IPY_MODEL_4dd8d8eda98f4c14b08e544a10cc3f7f",
            "_dom_classes": [],
            "description": "",
            "_model_name": "HTMLModel",
            "placeholder": "​",
            "_view_module": "@jupyter-widgets/controls",
            "_model_module_version": "1.5.0",
            "value": "Render HTML: 100%",
            "_view_count": null,
            "_view_module_version": "1.5.0",
            "description_tooltip": null,
            "_model_module": "@jupyter-widgets/controls",
            "layout": "IPY_MODEL_802ddc6eecad459ba4894f194a34f944"
          }
        },
        "39b4e14812eb4948a4e75df1bb609fbb": {
          "model_module": "@jupyter-widgets/controls",
          "model_name": "FloatProgressModel",
          "state": {
            "_view_name": "ProgressView",
            "style": "IPY_MODEL_9d3f8f457501414296c89c2acbfee5c3",
            "_dom_classes": [],
            "description": "",
            "_model_name": "FloatProgressModel",
            "bar_style": "success",
            "max": 1,
            "_view_module": "@jupyter-widgets/controls",
            "_model_module_version": "1.5.0",
            "value": 1,
            "_view_count": null,
            "_view_module_version": "1.5.0",
            "orientation": "horizontal",
            "min": 0,
            "description_tooltip": null,
            "_model_module": "@jupyter-widgets/controls",
            "layout": "IPY_MODEL_fbf526fc43834f1790d0d62e8ff50e39"
          }
        },
        "b80e8529a85a495f93e0a513e022711c": {
          "model_module": "@jupyter-widgets/controls",
          "model_name": "HTMLModel",
          "state": {
            "_view_name": "HTMLView",
            "style": "IPY_MODEL_98ada91409634753b6a6a971cb934193",
            "_dom_classes": [],
            "description": "",
            "_model_name": "HTMLModel",
            "placeholder": "​",
            "_view_module": "@jupyter-widgets/controls",
            "_model_module_version": "1.5.0",
            "value": " 1/1 [00:01&lt;00:00,  1.43s/it]",
            "_view_count": null,
            "_view_module_version": "1.5.0",
            "description_tooltip": null,
            "_model_module": "@jupyter-widgets/controls",
            "layout": "IPY_MODEL_145e4110e1f542be910570887ebe4c38"
          }
        },
        "4dd8d8eda98f4c14b08e544a10cc3f7f": {
          "model_module": "@jupyter-widgets/controls",
          "model_name": "DescriptionStyleModel",
          "state": {
            "_view_name": "StyleView",
            "_model_name": "DescriptionStyleModel",
            "description_width": "",
            "_view_module": "@jupyter-widgets/base",
            "_model_module_version": "1.5.0",
            "_view_count": null,
            "_view_module_version": "1.2.0",
            "_model_module": "@jupyter-widgets/controls"
          }
        },
        "802ddc6eecad459ba4894f194a34f944": {
          "model_module": "@jupyter-widgets/base",
          "model_name": "LayoutModel",
          "state": {
            "_view_name": "LayoutView",
            "grid_template_rows": null,
            "right": null,
            "justify_content": null,
            "_view_module": "@jupyter-widgets/base",
            "overflow": null,
            "_model_module_version": "1.2.0",
            "_view_count": null,
            "flex_flow": null,
            "width": null,
            "min_width": null,
            "border": null,
            "align_items": null,
            "bottom": null,
            "_model_module": "@jupyter-widgets/base",
            "top": null,
            "grid_column": null,
            "overflow_y": null,
            "overflow_x": null,
            "grid_auto_flow": null,
            "grid_area": null,
            "grid_template_columns": null,
            "flex": null,
            "_model_name": "LayoutModel",
            "justify_items": null,
            "grid_row": null,
            "max_height": null,
            "align_content": null,
            "visibility": null,
            "align_self": null,
            "height": null,
            "min_height": null,
            "padding": null,
            "grid_auto_rows": null,
            "grid_gap": null,
            "max_width": null,
            "order": null,
            "_view_module_version": "1.2.0",
            "grid_template_areas": null,
            "object_position": null,
            "object_fit": null,
            "grid_auto_columns": null,
            "margin": null,
            "display": null,
            "left": null
          }
        },
        "9d3f8f457501414296c89c2acbfee5c3": {
          "model_module": "@jupyter-widgets/controls",
          "model_name": "ProgressStyleModel",
          "state": {
            "_view_name": "StyleView",
            "_model_name": "ProgressStyleModel",
            "description_width": "",
            "_view_module": "@jupyter-widgets/base",
            "_model_module_version": "1.5.0",
            "_view_count": null,
            "_view_module_version": "1.2.0",
            "bar_color": null,
            "_model_module": "@jupyter-widgets/controls"
          }
        },
        "fbf526fc43834f1790d0d62e8ff50e39": {
          "model_module": "@jupyter-widgets/base",
          "model_name": "LayoutModel",
          "state": {
            "_view_name": "LayoutView",
            "grid_template_rows": null,
            "right": null,
            "justify_content": null,
            "_view_module": "@jupyter-widgets/base",
            "overflow": null,
            "_model_module_version": "1.2.0",
            "_view_count": null,
            "flex_flow": null,
            "width": null,
            "min_width": null,
            "border": null,
            "align_items": null,
            "bottom": null,
            "_model_module": "@jupyter-widgets/base",
            "top": null,
            "grid_column": null,
            "overflow_y": null,
            "overflow_x": null,
            "grid_auto_flow": null,
            "grid_area": null,
            "grid_template_columns": null,
            "flex": null,
            "_model_name": "LayoutModel",
            "justify_items": null,
            "grid_row": null,
            "max_height": null,
            "align_content": null,
            "visibility": null,
            "align_self": null,
            "height": null,
            "min_height": null,
            "padding": null,
            "grid_auto_rows": null,
            "grid_gap": null,
            "max_width": null,
            "order": null,
            "_view_module_version": "1.2.0",
            "grid_template_areas": null,
            "object_position": null,
            "object_fit": null,
            "grid_auto_columns": null,
            "margin": null,
            "display": null,
            "left": null
          }
        },
        "98ada91409634753b6a6a971cb934193": {
          "model_module": "@jupyter-widgets/controls",
          "model_name": "DescriptionStyleModel",
          "state": {
            "_view_name": "StyleView",
            "_model_name": "DescriptionStyleModel",
            "description_width": "",
            "_view_module": "@jupyter-widgets/base",
            "_model_module_version": "1.5.0",
            "_view_count": null,
            "_view_module_version": "1.2.0",
            "_model_module": "@jupyter-widgets/controls"
          }
        },
        "145e4110e1f542be910570887ebe4c38": {
          "model_module": "@jupyter-widgets/base",
          "model_name": "LayoutModel",
          "state": {
            "_view_name": "LayoutView",
            "grid_template_rows": null,
            "right": null,
            "justify_content": null,
            "_view_module": "@jupyter-widgets/base",
            "overflow": null,
            "_model_module_version": "1.2.0",
            "_view_count": null,
            "flex_flow": null,
            "width": null,
            "min_width": null,
            "border": null,
            "align_items": null,
            "bottom": null,
            "_model_module": "@jupyter-widgets/base",
            "top": null,
            "grid_column": null,
            "overflow_y": null,
            "overflow_x": null,
            "grid_auto_flow": null,
            "grid_area": null,
            "grid_template_columns": null,
            "flex": null,
            "_model_name": "LayoutModel",
            "justify_items": null,
            "grid_row": null,
            "max_height": null,
            "align_content": null,
            "visibility": null,
            "align_self": null,
            "height": null,
            "min_height": null,
            "padding": null,
            "grid_auto_rows": null,
            "grid_gap": null,
            "max_width": null,
            "order": null,
            "_view_module_version": "1.2.0",
            "grid_template_areas": null,
            "object_position": null,
            "object_fit": null,
            "grid_auto_columns": null,
            "margin": null,
            "display": null,
            "left": null
          }
        },
        "497931aecfa84799bee46cd9687361da": {
          "model_module": "@jupyter-widgets/controls",
          "model_name": "HBoxModel",
          "state": {
            "_view_name": "HBoxView",
            "_dom_classes": [],
            "_model_name": "HBoxModel",
            "_view_module": "@jupyter-widgets/controls",
            "_model_module_version": "1.5.0",
            "_view_count": null,
            "_view_module_version": "1.5.0",
            "box_style": "",
            "layout": "IPY_MODEL_cc34a371f57946559a336d28947a478c",
            "_model_module": "@jupyter-widgets/controls",
            "children": [
              "IPY_MODEL_574e3a8ed2814f319a12a2bcd8757635",
              "IPY_MODEL_56c35e63ded24b48a1353678068182e7",
              "IPY_MODEL_cf02df499a03417c82386401347e9947"
            ]
          }
        },
        "cc34a371f57946559a336d28947a478c": {
          "model_module": "@jupyter-widgets/base",
          "model_name": "LayoutModel",
          "state": {
            "_view_name": "LayoutView",
            "grid_template_rows": null,
            "right": null,
            "justify_content": null,
            "_view_module": "@jupyter-widgets/base",
            "overflow": null,
            "_model_module_version": "1.2.0",
            "_view_count": null,
            "flex_flow": null,
            "width": null,
            "min_width": null,
            "border": null,
            "align_items": null,
            "bottom": null,
            "_model_module": "@jupyter-widgets/base",
            "top": null,
            "grid_column": null,
            "overflow_y": null,
            "overflow_x": null,
            "grid_auto_flow": null,
            "grid_area": null,
            "grid_template_columns": null,
            "flex": null,
            "_model_name": "LayoutModel",
            "justify_items": null,
            "grid_row": null,
            "max_height": null,
            "align_content": null,
            "visibility": null,
            "align_self": null,
            "height": null,
            "min_height": null,
            "padding": null,
            "grid_auto_rows": null,
            "grid_gap": null,
            "max_width": null,
            "order": null,
            "_view_module_version": "1.2.0",
            "grid_template_areas": null,
            "object_position": null,
            "object_fit": null,
            "grid_auto_columns": null,
            "margin": null,
            "display": null,
            "left": null
          }
        },
        "574e3a8ed2814f319a12a2bcd8757635": {
          "model_module": "@jupyter-widgets/controls",
          "model_name": "HTMLModel",
          "state": {
            "_view_name": "HTMLView",
            "style": "IPY_MODEL_b3cfedc92eac4c4382bb7596dae5ad39",
            "_dom_classes": [],
            "description": "",
            "_model_name": "HTMLModel",
            "placeholder": "​",
            "_view_module": "@jupyter-widgets/controls",
            "_model_module_version": "1.5.0",
            "value": "Export report to file: 100%",
            "_view_count": null,
            "_view_module_version": "1.5.0",
            "description_tooltip": null,
            "_model_module": "@jupyter-widgets/controls",
            "layout": "IPY_MODEL_da3625c3d546420db050db55029628fc"
          }
        },
        "56c35e63ded24b48a1353678068182e7": {
          "model_module": "@jupyter-widgets/controls",
          "model_name": "FloatProgressModel",
          "state": {
            "_view_name": "ProgressView",
            "style": "IPY_MODEL_066bcd29ee014bfabb0745323a61c956",
            "_dom_classes": [],
            "description": "",
            "_model_name": "FloatProgressModel",
            "bar_style": "success",
            "max": 1,
            "_view_module": "@jupyter-widgets/controls",
            "_model_module_version": "1.5.0",
            "value": 1,
            "_view_count": null,
            "_view_module_version": "1.5.0",
            "orientation": "horizontal",
            "min": 0,
            "description_tooltip": null,
            "_model_module": "@jupyter-widgets/controls",
            "layout": "IPY_MODEL_ec3c504e3a5049789ffb38d41dbefbf4"
          }
        },
        "cf02df499a03417c82386401347e9947": {
          "model_module": "@jupyter-widgets/controls",
          "model_name": "HTMLModel",
          "state": {
            "_view_name": "HTMLView",
            "style": "IPY_MODEL_e7ecf491cb014d2e9734d0787b3b2f3b",
            "_dom_classes": [],
            "description": "",
            "_model_name": "HTMLModel",
            "placeholder": "​",
            "_view_module": "@jupyter-widgets/controls",
            "_model_module_version": "1.5.0",
            "value": " 1/1 [00:00&lt;00:00,  2.25it/s]",
            "_view_count": null,
            "_view_module_version": "1.5.0",
            "description_tooltip": null,
            "_model_module": "@jupyter-widgets/controls",
            "layout": "IPY_MODEL_4a14ce3e3baf48cfb3d10e27f6ddebe5"
          }
        },
        "b3cfedc92eac4c4382bb7596dae5ad39": {
          "model_module": "@jupyter-widgets/controls",
          "model_name": "DescriptionStyleModel",
          "state": {
            "_view_name": "StyleView",
            "_model_name": "DescriptionStyleModel",
            "description_width": "",
            "_view_module": "@jupyter-widgets/base",
            "_model_module_version": "1.5.0",
            "_view_count": null,
            "_view_module_version": "1.2.0",
            "_model_module": "@jupyter-widgets/controls"
          }
        },
        "da3625c3d546420db050db55029628fc": {
          "model_module": "@jupyter-widgets/base",
          "model_name": "LayoutModel",
          "state": {
            "_view_name": "LayoutView",
            "grid_template_rows": null,
            "right": null,
            "justify_content": null,
            "_view_module": "@jupyter-widgets/base",
            "overflow": null,
            "_model_module_version": "1.2.0",
            "_view_count": null,
            "flex_flow": null,
            "width": null,
            "min_width": null,
            "border": null,
            "align_items": null,
            "bottom": null,
            "_model_module": "@jupyter-widgets/base",
            "top": null,
            "grid_column": null,
            "overflow_y": null,
            "overflow_x": null,
            "grid_auto_flow": null,
            "grid_area": null,
            "grid_template_columns": null,
            "flex": null,
            "_model_name": "LayoutModel",
            "justify_items": null,
            "grid_row": null,
            "max_height": null,
            "align_content": null,
            "visibility": null,
            "align_self": null,
            "height": null,
            "min_height": null,
            "padding": null,
            "grid_auto_rows": null,
            "grid_gap": null,
            "max_width": null,
            "order": null,
            "_view_module_version": "1.2.0",
            "grid_template_areas": null,
            "object_position": null,
            "object_fit": null,
            "grid_auto_columns": null,
            "margin": null,
            "display": null,
            "left": null
          }
        },
        "066bcd29ee014bfabb0745323a61c956": {
          "model_module": "@jupyter-widgets/controls",
          "model_name": "ProgressStyleModel",
          "state": {
            "_view_name": "StyleView",
            "_model_name": "ProgressStyleModel",
            "description_width": "",
            "_view_module": "@jupyter-widgets/base",
            "_model_module_version": "1.5.0",
            "_view_count": null,
            "_view_module_version": "1.2.0",
            "bar_color": null,
            "_model_module": "@jupyter-widgets/controls"
          }
        },
        "ec3c504e3a5049789ffb38d41dbefbf4": {
          "model_module": "@jupyter-widgets/base",
          "model_name": "LayoutModel",
          "state": {
            "_view_name": "LayoutView",
            "grid_template_rows": null,
            "right": null,
            "justify_content": null,
            "_view_module": "@jupyter-widgets/base",
            "overflow": null,
            "_model_module_version": "1.2.0",
            "_view_count": null,
            "flex_flow": null,
            "width": null,
            "min_width": null,
            "border": null,
            "align_items": null,
            "bottom": null,
            "_model_module": "@jupyter-widgets/base",
            "top": null,
            "grid_column": null,
            "overflow_y": null,
            "overflow_x": null,
            "grid_auto_flow": null,
            "grid_area": null,
            "grid_template_columns": null,
            "flex": null,
            "_model_name": "LayoutModel",
            "justify_items": null,
            "grid_row": null,
            "max_height": null,
            "align_content": null,
            "visibility": null,
            "align_self": null,
            "height": null,
            "min_height": null,
            "padding": null,
            "grid_auto_rows": null,
            "grid_gap": null,
            "max_width": null,
            "order": null,
            "_view_module_version": "1.2.0",
            "grid_template_areas": null,
            "object_position": null,
            "object_fit": null,
            "grid_auto_columns": null,
            "margin": null,
            "display": null,
            "left": null
          }
        },
        "e7ecf491cb014d2e9734d0787b3b2f3b": {
          "model_module": "@jupyter-widgets/controls",
          "model_name": "DescriptionStyleModel",
          "state": {
            "_view_name": "StyleView",
            "_model_name": "DescriptionStyleModel",
            "description_width": "",
            "_view_module": "@jupyter-widgets/base",
            "_model_module_version": "1.5.0",
            "_view_count": null,
            "_view_module_version": "1.2.0",
            "_model_module": "@jupyter-widgets/controls"
          }
        },
        "4a14ce3e3baf48cfb3d10e27f6ddebe5": {
          "model_module": "@jupyter-widgets/base",
          "model_name": "LayoutModel",
          "state": {
            "_view_name": "LayoutView",
            "grid_template_rows": null,
            "right": null,
            "justify_content": null,
            "_view_module": "@jupyter-widgets/base",
            "overflow": null,
            "_model_module_version": "1.2.0",
            "_view_count": null,
            "flex_flow": null,
            "width": null,
            "min_width": null,
            "border": null,
            "align_items": null,
            "bottom": null,
            "_model_module": "@jupyter-widgets/base",
            "top": null,
            "grid_column": null,
            "overflow_y": null,
            "overflow_x": null,
            "grid_auto_flow": null,
            "grid_area": null,
            "grid_template_columns": null,
            "flex": null,
            "_model_name": "LayoutModel",
            "justify_items": null,
            "grid_row": null,
            "max_height": null,
            "align_content": null,
            "visibility": null,
            "align_self": null,
            "height": null,
            "min_height": null,
            "padding": null,
            "grid_auto_rows": null,
            "grid_gap": null,
            "max_width": null,
            "order": null,
            "_view_module_version": "1.2.0",
            "grid_template_areas": null,
            "object_position": null,
            "object_fit": null,
            "grid_auto_columns": null,
            "margin": null,
            "display": null,
            "left": null
          }
        }
      }
    }
  },
  "cells": [
    {
      "cell_type": "markdown",
      "metadata": {
        "id": "I8UNwqq3BCt5"
      },
      "source": [
        "# Setup environment"
      ]
    },
    {
      "cell_type": "code",
      "metadata": {
        "id": "nNWS44pBgbbQ",
        "colab": {
          "base_uri": "https://localhost:8080/"
        },
        "outputId": "d5624ead-3a9f-4a1c-85a8-bee5931b73d3"
      },
      "source": [
        "from google.colab import drive\n",
        "drive.mount('/content/drive')"
      ],
      "execution_count": 1,
      "outputs": [
        {
          "output_type": "stream",
          "text": [
            "Mounted at /content/drive\n"
          ],
          "name": "stdout"
        }
      ]
    },
    {
      "cell_type": "code",
      "metadata": {
        "id": "qaX5q1QFgUVi"
      },
      "source": [
        "filepath = '/content/drive/MyDrive/Violence Fairness/'"
      ],
      "execution_count": 2,
      "outputs": []
    },
    {
      "cell_type": "markdown",
      "metadata": {
        "id": "5pdF42SzzUb3"
      },
      "source": [
        "# Install Packages"
      ]
    },
    {
      "cell_type": "code",
      "metadata": {
        "id": "9TqPPrRtxpuh",
        "colab": {
          "base_uri": "https://localhost:8080/",
          "height": 1000
        },
        "outputId": "1fb68bc4-4c0b-4001-e693-1dced62fe018"
      },
      "source": [
        "!pip install parity-fairness --upgrade"
      ],
      "execution_count": 3,
      "outputs": [
        {
          "output_type": "stream",
          "text": [
            "Collecting parity-fairness\n",
            "  Downloading https://files.pythonhosted.org/packages/a0/98/6bbc1db6520bd51e0876ee2a8733fefbe32e58c3d09f24d3d74051dff92f/parity-fairness-0.1.30.tar.gz\n",
            "Requirement already satisfied, skipping upgrade: matplotlib in /usr/local/lib/python3.6/dist-packages (from parity-fairness) (3.2.2)\n",
            "Requirement already satisfied, skipping upgrade: joblib in /usr/local/lib/python3.6/dist-packages (from parity-fairness) (1.0.0)\n",
            "Requirement already satisfied, skipping upgrade: numpy in /usr/local/lib/python3.6/dist-packages (from parity-fairness) (1.19.5)\n",
            "Requirement already satisfied, skipping upgrade: altair in /usr/local/lib/python3.6/dist-packages (from parity-fairness) (4.1.0)\n",
            "Requirement already satisfied, skipping upgrade: pandas in /usr/local/lib/python3.6/dist-packages (from parity-fairness) (1.1.5)\n",
            "Requirement already satisfied, skipping upgrade: scikit_learn in /usr/local/lib/python3.6/dist-packages (from parity-fairness) (0.22.2.post1)\n",
            "Requirement already satisfied, skipping upgrade: sklearn in /usr/local/lib/python3.6/dist-packages (from parity-fairness) (0.0)\n",
            "Collecting aif360\n",
            "\u001b[?25l  Downloading https://files.pythonhosted.org/packages/3b/e9/f2a936a00c65ce7b4d45587a33c4522fabd773f7325d505a87d133a1dabc/aif360-0.3.0-py3-none-any.whl (165kB)\n",
            "\u001b[K     |████████████████████████████████| 174kB 6.3MB/s \n",
            "\u001b[?25hRequirement already satisfied, skipping upgrade: plotly in /usr/local/lib/python3.6/dist-packages (from parity-fairness) (4.4.1)\n",
            "Requirement already satisfied, skipping upgrade: Ipython in /usr/local/lib/python3.6/dist-packages (from parity-fairness) (5.5.0)\n",
            "Collecting fairlearn\n",
            "\u001b[?25l  Downloading https://files.pythonhosted.org/packages/3a/c6/64bdd611982cd2afef284f10022d1003b266ae7f86914418b8deda3ce2b2/fairlearn-0.5.0-py3-none-any.whl (24.6MB)\n",
            "\u001b[K     |████████████████████████████████| 24.6MB 178kB/s \n",
            "\u001b[?25hCollecting dice_ml\n",
            "\u001b[?25l  Downloading https://files.pythonhosted.org/packages/ee/5a/7c94dea50f61a7a4a793fa9b06f2940b5af32d145d1b248311c9bc88744f/dice_ml-0.4-py3-none-any.whl (134kB)\n",
            "\u001b[K     |████████████████████████████████| 143kB 54.3MB/s \n",
            "\u001b[?25hCollecting interpret\n",
            "  Downloading https://files.pythonhosted.org/packages/46/ce/444e5098422d15d28db4498da608866b14d8a18a8be68630af1146c80984/interpret-0.2.4-py3-none-any.whl\n",
            "Collecting BlackBoxAuditing\n",
            "\u001b[?25l  Downloading https://files.pythonhosted.org/packages/d8/2e/e2e7166bc78eb599b602ca79ace1ceba2ef83b69a0b708c9a7eb729347bf/BlackBoxAuditing-0.1.54.tar.gz (2.6MB)\n",
            "\u001b[K     |████████████████████████████████| 2.6MB 37.0MB/s \n",
            "\u001b[?25hCollecting witwidget\n",
            "\u001b[?25l  Downloading https://files.pythonhosted.org/packages/bd/d3/1b243ff5d17883764bbc4edcdbfb8214152d7dc860ee76ec93b2c5b53b11/witwidget-1.8.0-py3-none-any.whl (1.5MB)\n",
            "\u001b[K     |████████████████████████████████| 1.6MB 44.1MB/s \n",
            "\u001b[?25hCollecting boto3\n",
            "\u001b[?25l  Downloading https://files.pythonhosted.org/packages/18/c0/db041aa805b6275b52a02e15457fc4615f80226516b9bef3d59565538ec4/boto3-1.16.59-py2.py3-none-any.whl (130kB)\n",
            "\u001b[K     |████████████████████████████████| 133kB 39.2MB/s \n",
            "\u001b[?25hRequirement already satisfied, skipping upgrade: kiwisolver>=1.0.1 in /usr/local/lib/python3.6/dist-packages (from matplotlib->parity-fairness) (1.3.1)\n",
            "Requirement already satisfied, skipping upgrade: pyparsing!=2.0.4,!=2.1.2,!=2.1.6,>=2.0.1 in /usr/local/lib/python3.6/dist-packages (from matplotlib->parity-fairness) (2.4.7)\n",
            "Requirement already satisfied, skipping upgrade: python-dateutil>=2.1 in /usr/local/lib/python3.6/dist-packages (from matplotlib->parity-fairness) (2.8.1)\n",
            "Requirement already satisfied, skipping upgrade: cycler>=0.10 in /usr/local/lib/python3.6/dist-packages (from matplotlib->parity-fairness) (0.10.0)\n",
            "Requirement already satisfied, skipping upgrade: entrypoints in /usr/local/lib/python3.6/dist-packages (from altair->parity-fairness) (0.3)\n",
            "Requirement already satisfied, skipping upgrade: toolz in /usr/local/lib/python3.6/dist-packages (from altair->parity-fairness) (0.11.1)\n",
            "Requirement already satisfied, skipping upgrade: jsonschema in /usr/local/lib/python3.6/dist-packages (from altair->parity-fairness) (2.6.0)\n",
            "Requirement already satisfied, skipping upgrade: jinja2 in /usr/local/lib/python3.6/dist-packages (from altair->parity-fairness) (2.11.2)\n",
            "Requirement already satisfied, skipping upgrade: pytz>=2017.2 in /usr/local/lib/python3.6/dist-packages (from pandas->parity-fairness) (2018.9)\n",
            "Requirement already satisfied, skipping upgrade: scipy>=0.17.0 in /usr/local/lib/python3.6/dist-packages (from scikit_learn->parity-fairness) (1.4.1)\n",
            "Requirement already satisfied, skipping upgrade: six in /usr/local/lib/python3.6/dist-packages (from plotly->parity-fairness) (1.15.0)\n",
            "Requirement already satisfied, skipping upgrade: retrying>=1.3.3 in /usr/local/lib/python3.6/dist-packages (from plotly->parity-fairness) (1.3.3)\n",
            "Requirement already satisfied, skipping upgrade: pickleshare in /usr/local/lib/python3.6/dist-packages (from Ipython->parity-fairness) (0.7.5)\n",
            "Requirement already satisfied, skipping upgrade: pygments in /usr/local/lib/python3.6/dist-packages (from Ipython->parity-fairness) (2.6.1)\n",
            "Requirement already satisfied, skipping upgrade: traitlets>=4.2 in /usr/local/lib/python3.6/dist-packages (from Ipython->parity-fairness) (4.3.3)\n",
            "Requirement already satisfied, skipping upgrade: decorator in /usr/local/lib/python3.6/dist-packages (from Ipython->parity-fairness) (4.4.2)\n",
            "Requirement already satisfied, skipping upgrade: prompt-toolkit<2.0.0,>=1.0.4 in /usr/local/lib/python3.6/dist-packages (from Ipython->parity-fairness) (1.0.18)\n",
            "Requirement already satisfied, skipping upgrade: simplegeneric>0.8 in /usr/local/lib/python3.6/dist-packages (from Ipython->parity-fairness) (0.8.1)\n",
            "Requirement already satisfied, skipping upgrade: pexpect; sys_platform != \"win32\" in /usr/local/lib/python3.6/dist-packages (from Ipython->parity-fairness) (4.8.0)\n",
            "Requirement already satisfied, skipping upgrade: setuptools>=18.5 in /usr/local/lib/python3.6/dist-packages (from Ipython->parity-fairness) (51.3.3)\n",
            "Requirement already satisfied, skipping upgrade: torch in /usr/local/lib/python3.6/dist-packages (from dice_ml->parity-fairness) (1.7.0+cu101)\n",
            "Requirement already satisfied, skipping upgrade: torchvision in /usr/local/lib/python3.6/dist-packages (from dice_ml->parity-fairness) (0.8.1+cu101)\n",
            "Requirement already satisfied, skipping upgrade: h5py in /usr/local/lib/python3.6/dist-packages (from dice_ml->parity-fairness) (2.10.0)\n",
            "Requirement already satisfied, skipping upgrade: tensorflow>=1.13.0-rc1 in /usr/local/lib/python3.6/dist-packages (from dice_ml->parity-fairness) (2.4.0)\n",
            "Collecting interpret-core[dash,debug,decisiontree,ebm,lime,linear,notebook,plotly,required,sensitivity,shap,skoperules,treeinterpreter]>=0.2.4\n",
            "\u001b[?25l  Downloading https://files.pythonhosted.org/packages/d5/b6/e90ac757fda64caaea262c9fcce2d02fb4d141236aa40ce5f62c4d66efe1/interpret_core-0.2.4-py3-none-any.whl (5.8MB)\n",
            "\u001b[K     |████████████████████████████████| 5.8MB 23.6MB/s \n",
            "\u001b[?25hRequirement already satisfied, skipping upgrade: networkx in /usr/local/lib/python3.6/dist-packages (from BlackBoxAuditing->parity-fairness) (2.5)\n",
            "Requirement already satisfied, skipping upgrade: oauth2client>=4.1.3 in /usr/local/lib/python3.6/dist-packages (from witwidget->parity-fairness) (4.1.3)\n",
            "Requirement already satisfied, skipping upgrade: ipywidgets>=7.0.0 in /usr/local/lib/python3.6/dist-packages (from witwidget->parity-fairness) (7.6.3)\n",
            "Requirement already satisfied, skipping upgrade: absl-py>=0.4 in /usr/local/lib/python3.6/dist-packages (from witwidget->parity-fairness) (0.10.0)\n",
            "Requirement already satisfied, skipping upgrade: google-api-python-client>=1.7.8 in /usr/local/lib/python3.6/dist-packages (from witwidget->parity-fairness) (1.7.12)\n",
            "Requirement already satisfied, skipping upgrade: jupyter<2,>=1.0 in /usr/local/lib/python3.6/dist-packages (from witwidget->parity-fairness) (1.0.0)\n",
            "Collecting s3transfer<0.4.0,>=0.3.0\n",
            "\u001b[?25l  Downloading https://files.pythonhosted.org/packages/ea/43/4b4a1b26eb03a429a4c37ca7fdf369d938bd60018fc194e94b8379b0c77c/s3transfer-0.3.4-py2.py3-none-any.whl (69kB)\n",
            "\u001b[K     |████████████████████████████████| 71kB 5.9MB/s \n",
            "\u001b[?25hCollecting botocore<1.20.0,>=1.19.59\n",
            "\u001b[?25l  Downloading https://files.pythonhosted.org/packages/ee/10/08dc3b74cc9c47a2c81b2e88e06c2661783b86fd77fc80f7a3eb1bf56905/botocore-1.19.59-py2.py3-none-any.whl (7.2MB)\n",
            "\u001b[K     |████████████████████████████████| 7.2MB 54.4MB/s \n",
            "\u001b[?25hCollecting jmespath<1.0.0,>=0.7.1\n",
            "  Downloading https://files.pythonhosted.org/packages/07/cb/5f001272b6faeb23c1c9e0acc04d48eaaf5c862c17709d20e3469c6e0139/jmespath-0.10.0-py2.py3-none-any.whl\n",
            "Requirement already satisfied, skipping upgrade: MarkupSafe>=0.23 in /usr/local/lib/python3.6/dist-packages (from jinja2->altair->parity-fairness) (1.1.1)\n",
            "Requirement already satisfied, skipping upgrade: ipython-genutils in /usr/local/lib/python3.6/dist-packages (from traitlets>=4.2->Ipython->parity-fairness) (0.2.0)\n",
            "Requirement already satisfied, skipping upgrade: wcwidth in /usr/local/lib/python3.6/dist-packages (from prompt-toolkit<2.0.0,>=1.0.4->Ipython->parity-fairness) (0.2.5)\n",
            "Requirement already satisfied, skipping upgrade: ptyprocess>=0.5 in /usr/local/lib/python3.6/dist-packages (from pexpect; sys_platform != \"win32\"->Ipython->parity-fairness) (0.7.0)\n",
            "Requirement already satisfied, skipping upgrade: typing-extensions in /usr/local/lib/python3.6/dist-packages (from torch->dice_ml->parity-fairness) (3.7.4.3)\n",
            "Requirement already satisfied, skipping upgrade: future in /usr/local/lib/python3.6/dist-packages (from torch->dice_ml->parity-fairness) (0.16.0)\n",
            "Requirement already satisfied, skipping upgrade: dataclasses in /usr/local/lib/python3.6/dist-packages (from torch->dice_ml->parity-fairness) (0.8)\n",
            "Requirement already satisfied, skipping upgrade: pillow>=4.1.1 in /usr/local/lib/python3.6/dist-packages (from torchvision->dice_ml->parity-fairness) (7.0.0)\n",
            "Requirement already satisfied, skipping upgrade: astunparse~=1.6.3 in /usr/local/lib/python3.6/dist-packages (from tensorflow>=1.13.0-rc1->dice_ml->parity-fairness) (1.6.3)\n",
            "Requirement already satisfied, skipping upgrade: gast==0.3.3 in /usr/local/lib/python3.6/dist-packages (from tensorflow>=1.13.0-rc1->dice_ml->parity-fairness) (0.3.3)\n",
            "Requirement already satisfied, skipping upgrade: tensorboard~=2.4 in /usr/local/lib/python3.6/dist-packages (from tensorflow>=1.13.0-rc1->dice_ml->parity-fairness) (2.4.0)\n",
            "Requirement already satisfied, skipping upgrade: google-pasta~=0.2 in /usr/local/lib/python3.6/dist-packages (from tensorflow>=1.13.0-rc1->dice_ml->parity-fairness) (0.2.0)\n",
            "Requirement already satisfied, skipping upgrade: keras-preprocessing~=1.1.2 in /usr/local/lib/python3.6/dist-packages (from tensorflow>=1.13.0-rc1->dice_ml->parity-fairness) (1.1.2)\n",
            "Requirement already satisfied, skipping upgrade: grpcio~=1.32.0 in /usr/local/lib/python3.6/dist-packages (from tensorflow>=1.13.0-rc1->dice_ml->parity-fairness) (1.32.0)\n",
            "Requirement already satisfied, skipping upgrade: flatbuffers~=1.12.0 in /usr/local/lib/python3.6/dist-packages (from tensorflow>=1.13.0-rc1->dice_ml->parity-fairness) (1.12)\n",
            "Requirement already satisfied, skipping upgrade: protobuf>=3.9.2 in /usr/local/lib/python3.6/dist-packages (from tensorflow>=1.13.0-rc1->dice_ml->parity-fairness) (3.12.4)\n",
            "Requirement already satisfied, skipping upgrade: termcolor~=1.1.0 in /usr/local/lib/python3.6/dist-packages (from tensorflow>=1.13.0-rc1->dice_ml->parity-fairness) (1.1.0)\n",
            "Requirement already satisfied, skipping upgrade: wheel~=0.35 in /usr/local/lib/python3.6/dist-packages (from tensorflow>=1.13.0-rc1->dice_ml->parity-fairness) (0.36.2)\n",
            "Requirement already satisfied, skipping upgrade: wrapt~=1.12.1 in /usr/local/lib/python3.6/dist-packages (from tensorflow>=1.13.0-rc1->dice_ml->parity-fairness) (1.12.1)\n",
            "Requirement already satisfied, skipping upgrade: tensorflow-estimator<2.5.0,>=2.4.0rc0 in /usr/local/lib/python3.6/dist-packages (from tensorflow>=1.13.0-rc1->dice_ml->parity-fairness) (2.4.0)\n",
            "Requirement already satisfied, skipping upgrade: opt-einsum~=3.3.0 in /usr/local/lib/python3.6/dist-packages (from tensorflow>=1.13.0-rc1->dice_ml->parity-fairness) (3.3.0)\n",
            "Collecting dash-table>=4.1.0; extra == \"dash\"\n",
            "\u001b[?25l  Downloading https://files.pythonhosted.org/packages/3d/ae/96cb64b58d76391604b57f8c747f9a19ab2122e7ba214e2e0cf35484962b/dash_table-4.11.2.tar.gz (1.8MB)\n",
            "\u001b[K     |████████████████████████████████| 1.8MB 46.0MB/s \n",
            "\u001b[?25hCollecting dash>=1.0.0; extra == \"dash\"\n",
            "\u001b[?25l  Downloading https://files.pythonhosted.org/packages/bc/b4/0bd5c94fdcb0eccb93c3c8068fe10f5607e542337d0b8f6e2d88078316a9/dash-1.19.0.tar.gz (75kB)\n",
            "\u001b[K     |████████████████████████████████| 81kB 7.3MB/s \n",
            "\u001b[?25hCollecting dash-cytoscape>=0.1.1; extra == \"dash\"\n",
            "\u001b[?25l  Downloading https://files.pythonhosted.org/packages/a1/98/93b356b47aca71d4fb1065990137b6b75eb527e8d1cd0e87dc037cead113/dash_cytoscape-0.2.0.tar.gz (3.6MB)\n",
            "\u001b[K     |████████████████████████████████| 3.6MB 42.1MB/s \n",
            "\u001b[?25hCollecting gevent>=1.3.6; extra == \"dash\"\n",
            "\u001b[?25l  Downloading https://files.pythonhosted.org/packages/f5/90/000736e587a720f8eef2bcd384456ce2add5ddfc3c63cf51a7ea13412cb6/gevent-21.1.2-cp36-cp36m-manylinux2010_x86_64.whl (5.5MB)\n",
            "\u001b[K     |████████████████████████████████| 5.5MB 41.2MB/s \n",
            "\u001b[?25hRequirement already satisfied, skipping upgrade: requests>=2.19.0; extra == \"dash\" in /usr/local/lib/python3.6/dist-packages (from interpret-core[dash,debug,decisiontree,ebm,lime,linear,notebook,plotly,required,sensitivity,shap,skoperules,treeinterpreter]>=0.2.4->interpret->parity-fairness) (2.23.0)\n",
            "Collecting psutil>=5.6.2; extra == \"debug\"\n",
            "\u001b[?25l  Downloading https://files.pythonhosted.org/packages/da/82/56cd16a4c5f53e3e5dd7b2c30d5c803e124f218ebb644ca9c30bc907eadd/psutil-5.8.0-cp36-cp36m-manylinux2010_x86_64.whl (291kB)\n",
            "\u001b[K     |████████████████████████████████| 296kB 51.1MB/s \n",
            "\u001b[?25hCollecting lime>=0.1.1.33; extra == \"lime\"\n",
            "\u001b[?25l  Downloading https://files.pythonhosted.org/packages/f5/86/91a13127d83d793ecb50eb75e716f76e6eda809b6803c5a4ff462339789e/lime-0.2.0.1.tar.gz (275kB)\n",
            "\u001b[K     |████████████████████████████████| 276kB 50.9MB/s \n",
            "\u001b[?25hCollecting ipykernel>=5.1.0; extra == \"notebook\"\n",
            "\u001b[?25l  Downloading https://files.pythonhosted.org/packages/7d/cc/e8908bbb2921732f6851ebbbe4b77b925aab62e644ab9402f21c84fa6107/ipykernel-5.4.3-py3-none-any.whl (120kB)\n",
            "\u001b[K     |████████████████████████████████| 122kB 51.1MB/s \n",
            "\u001b[?25hCollecting SALib>=1.3.3; extra == \"sensitivity\"\n",
            "\u001b[?25l  Downloading https://files.pythonhosted.org/packages/ba/36/84735444f4faded327e1158ed15228a3ff57268f351c799f0038ee68b53f/SALib-1.3.12.tar.gz (855kB)\n",
            "\u001b[K     |████████████████████████████████| 860kB 44.4MB/s \n",
            "\u001b[?25hCollecting shap>=0.28.5; extra == \"shap\"\n",
            "\u001b[?25l  Downloading https://files.pythonhosted.org/packages/44/20/54381999efe3000f70a7f68af79ba857cfa3f82278ab0e02e6ba1c06b002/shap-0.38.1.tar.gz (352kB)\n",
            "\u001b[K     |████████████████████████████████| 358kB 38.4MB/s \n",
            "\u001b[?25hRequirement already satisfied, skipping upgrade: dill>=0.2.5; extra == \"shap\" in /usr/local/lib/python3.6/dist-packages (from interpret-core[dash,debug,decisiontree,ebm,lime,linear,notebook,plotly,required,sensitivity,shap,skoperules,treeinterpreter]>=0.2.4->interpret->parity-fairness) (0.3.3)\n",
            "Collecting skope-rules>=1.0.1; extra == \"skoperules\"\n",
            "  Downloading https://files.pythonhosted.org/packages/3f/5b/d3ea2e1635601557945c0a166b206b0b6e8b284cb74cb4bdb1b423ec7dd4/skope_rules-1.0.1-py3-none-any.whl\n",
            "Collecting treeinterpreter>=0.2.2; extra == \"treeinterpreter\"\n",
            "  Downloading https://files.pythonhosted.org/packages/af/19/fa8556093f6b8c7374825118e05cf5a99c71262392382c3642ab1fd8a742/treeinterpreter-0.2.3-py2.py3-none-any.whl\n",
            "Requirement already satisfied, skipping upgrade: rsa>=3.1.4 in /usr/local/lib/python3.6/dist-packages (from oauth2client>=4.1.3->witwidget->parity-fairness) (4.6)\n",
            "Requirement already satisfied, skipping upgrade: pyasn1-modules>=0.0.5 in /usr/local/lib/python3.6/dist-packages (from oauth2client>=4.1.3->witwidget->parity-fairness) (0.2.8)\n",
            "Requirement already satisfied, skipping upgrade: pyasn1>=0.1.7 in /usr/local/lib/python3.6/dist-packages (from oauth2client>=4.1.3->witwidget->parity-fairness) (0.4.8)\n",
            "Requirement already satisfied, skipping upgrade: httplib2>=0.9.1 in /usr/local/lib/python3.6/dist-packages (from oauth2client>=4.1.3->witwidget->parity-fairness) (0.17.4)\n",
            "Requirement already satisfied, skipping upgrade: nbformat>=4.2.0 in /usr/local/lib/python3.6/dist-packages (from ipywidgets>=7.0.0->witwidget->parity-fairness) (5.0.8)\n",
            "Requirement already satisfied, skipping upgrade: jupyterlab-widgets>=1.0.0; python_version >= \"3.6\" in /usr/local/lib/python3.6/dist-packages (from ipywidgets>=7.0.0->witwidget->parity-fairness) (1.0.0)\n",
            "Requirement already satisfied, skipping upgrade: widgetsnbextension~=3.5.0 in /usr/local/lib/python3.6/dist-packages (from ipywidgets>=7.0.0->witwidget->parity-fairness) (3.5.1)\n",
            "Requirement already satisfied, skipping upgrade: google-auth>=1.4.1 in /usr/local/lib/python3.6/dist-packages (from google-api-python-client>=1.7.8->witwidget->parity-fairness) (1.17.2)\n",
            "Requirement already satisfied, skipping upgrade: uritemplate<4dev,>=3.0.0 in /usr/local/lib/python3.6/dist-packages (from google-api-python-client>=1.7.8->witwidget->parity-fairness) (3.0.1)\n",
            "Requirement already satisfied, skipping upgrade: google-auth-httplib2>=0.0.3 in /usr/local/lib/python3.6/dist-packages (from google-api-python-client>=1.7.8->witwidget->parity-fairness) (0.0.4)\n",
            "Requirement already satisfied, skipping upgrade: nbconvert in /usr/local/lib/python3.6/dist-packages (from jupyter<2,>=1.0->witwidget->parity-fairness) (5.6.1)\n",
            "Requirement already satisfied, skipping upgrade: qtconsole in /usr/local/lib/python3.6/dist-packages (from jupyter<2,>=1.0->witwidget->parity-fairness) (5.0.1)\n",
            "Requirement already satisfied, skipping upgrade: notebook in /usr/local/lib/python3.6/dist-packages (from jupyter<2,>=1.0->witwidget->parity-fairness) (5.3.1)\n",
            "Requirement already satisfied, skipping upgrade: jupyter-console in /usr/local/lib/python3.6/dist-packages (from jupyter<2,>=1.0->witwidget->parity-fairness) (5.2.0)\n",
            "Collecting urllib3<1.27,>=1.25.4; python_version != \"3.4\"\n",
            "\u001b[?25l  Downloading https://files.pythonhosted.org/packages/f5/71/45d36a8df68f3ebb098d6861b2c017f3d094538c0fb98fa61d4dc43e69b9/urllib3-1.26.2-py2.py3-none-any.whl (136kB)\n",
            "\u001b[K     |████████████████████████████████| 143kB 53.4MB/s \n",
            "\u001b[?25hRequirement already satisfied, skipping upgrade: werkzeug>=0.11.15 in /usr/local/lib/python3.6/dist-packages (from tensorboard~=2.4->tensorflow>=1.13.0-rc1->dice_ml->parity-fairness) (1.0.1)\n",
            "Requirement already satisfied, skipping upgrade: markdown>=2.6.8 in /usr/local/lib/python3.6/dist-packages (from tensorboard~=2.4->tensorflow>=1.13.0-rc1->dice_ml->parity-fairness) (3.3.3)\n",
            "Requirement already satisfied, skipping upgrade: google-auth-oauthlib<0.5,>=0.4.1 in /usr/local/lib/python3.6/dist-packages (from tensorboard~=2.4->tensorflow>=1.13.0-rc1->dice_ml->parity-fairness) (0.4.2)\n",
            "Requirement already satisfied, skipping upgrade: tensorboard-plugin-wit>=1.6.0 in /usr/local/lib/python3.6/dist-packages (from tensorboard~=2.4->tensorflow>=1.13.0-rc1->dice_ml->parity-fairness) (1.7.0)\n",
            "Requirement already satisfied, skipping upgrade: Flask>=1.0.4 in /usr/local/lib/python3.6/dist-packages (from dash>=1.0.0; extra == \"dash\"->interpret-core[dash,debug,decisiontree,ebm,lime,linear,notebook,plotly,required,sensitivity,shap,skoperules,treeinterpreter]>=0.2.4->interpret->parity-fairness) (1.1.2)\n",
            "Collecting flask-compress\n",
            "  Downloading https://files.pythonhosted.org/packages/b2/7a/9c4641f975fb9daaf945dc39da6a52fd5693ab3bbc2d53780eab3b5106f4/Flask_Compress-1.8.0-py3-none-any.whl\n",
            "Collecting dash_renderer==1.9.0\n",
            "\u001b[?25l  Downloading https://files.pythonhosted.org/packages/be/a6/dd1edfe7b1102274e93991736c35b2a5e1a63b524c8d9f41bbb30f17340b/dash_renderer-1.9.0.tar.gz (1.0MB)\n",
            "\u001b[K     |████████████████████████████████| 1.0MB 49.4MB/s \n",
            "\u001b[?25hCollecting dash-core-components==1.15.0\n",
            "\u001b[?25l  Downloading https://files.pythonhosted.org/packages/22/78/ae0829e673f3df77403bcdb35073b1ed2f156080f5bcac6f21c1047d73fe/dash_core_components-1.15.0.tar.gz (3.5MB)\n",
            "\u001b[K     |████████████████████████████████| 3.5MB 36.2MB/s \n",
            "\u001b[?25hCollecting dash-html-components==1.1.2\n",
            "\u001b[?25l  Downloading https://files.pythonhosted.org/packages/3f/25/56de2708128fe375eecc2e18e0ccdc3a853494966e36334ec8a30be99b94/dash_html_components-1.1.2.tar.gz (188kB)\n",
            "\u001b[K     |████████████████████████████████| 194kB 38.5MB/s \n",
            "\u001b[?25hCollecting greenlet<2.0,>=0.4.17; platform_python_implementation == \"CPython\"\n",
            "\u001b[?25l  Downloading https://files.pythonhosted.org/packages/22/e2/9fbb24cf1ee89813ded3761314562a83a2822ad2bf5682eef0d0c99e2a5d/greenlet-1.0.0-cp36-cp36m-manylinux2010_x86_64.whl (156kB)\n",
            "\u001b[K     |████████████████████████████████| 163kB 55.0MB/s \n",
            "\u001b[?25hCollecting zope.interface\n",
            "\u001b[?25l  Downloading https://files.pythonhosted.org/packages/82/b0/da8afd9b3bd50c7665ecdac062f182982af1173c9081f9af7261091c5588/zope.interface-5.2.0-cp36-cp36m-manylinux2010_x86_64.whl (236kB)\n",
            "\u001b[K     |████████████████████████████████| 245kB 57.2MB/s \n",
            "\u001b[?25hCollecting zope.event\n",
            "  Downloading https://files.pythonhosted.org/packages/9e/85/b45408c64f3b888976f1d5b37eed8d746b8d5729a66a49ec846fda27d371/zope.event-4.5.0-py2.py3-none-any.whl\n",
            "Requirement already satisfied, skipping upgrade: certifi>=2017.4.17 in /usr/local/lib/python3.6/dist-packages (from requests>=2.19.0; extra == \"dash\"->interpret-core[dash,debug,decisiontree,ebm,lime,linear,notebook,plotly,required,sensitivity,shap,skoperules,treeinterpreter]>=0.2.4->interpret->parity-fairness) (2020.12.5)\n",
            "Requirement already satisfied, skipping upgrade: chardet<4,>=3.0.2 in /usr/local/lib/python3.6/dist-packages (from requests>=2.19.0; extra == \"dash\"->interpret-core[dash,debug,decisiontree,ebm,lime,linear,notebook,plotly,required,sensitivity,shap,skoperules,treeinterpreter]>=0.2.4->interpret->parity-fairness) (3.0.4)\n",
            "Requirement already satisfied, skipping upgrade: idna<3,>=2.5 in /usr/local/lib/python3.6/dist-packages (from requests>=2.19.0; extra == \"dash\"->interpret-core[dash,debug,decisiontree,ebm,lime,linear,notebook,plotly,required,sensitivity,shap,skoperules,treeinterpreter]>=0.2.4->interpret->parity-fairness) (2.10)\n",
            "Requirement already satisfied, skipping upgrade: tqdm in /usr/local/lib/python3.6/dist-packages (from lime>=0.1.1.33; extra == \"lime\"->interpret-core[dash,debug,decisiontree,ebm,lime,linear,notebook,plotly,required,sensitivity,shap,skoperules,treeinterpreter]>=0.2.4->interpret->parity-fairness) (4.41.1)\n",
            "Requirement already satisfied, skipping upgrade: scikit-image>=0.12 in /usr/local/lib/python3.6/dist-packages (from lime>=0.1.1.33; extra == \"lime\"->interpret-core[dash,debug,decisiontree,ebm,lime,linear,notebook,plotly,required,sensitivity,shap,skoperules,treeinterpreter]>=0.2.4->interpret->parity-fairness) (0.16.2)\n",
            "Requirement already satisfied, skipping upgrade: jupyter-client in /usr/local/lib/python3.6/dist-packages (from ipykernel>=5.1.0; extra == \"notebook\"->interpret-core[dash,debug,decisiontree,ebm,lime,linear,notebook,plotly,required,sensitivity,shap,skoperules,treeinterpreter]>=0.2.4->interpret->parity-fairness) (5.3.5)\n",
            "Requirement already satisfied, skipping upgrade: tornado>=4.2 in /usr/local/lib/python3.6/dist-packages (from ipykernel>=5.1.0; extra == \"notebook\"->interpret-core[dash,debug,decisiontree,ebm,lime,linear,notebook,plotly,required,sensitivity,shap,skoperules,treeinterpreter]>=0.2.4->interpret->parity-fairness) (5.1.1)\n",
            "Collecting slicer==0.0.7\n",
            "  Downloading https://files.pythonhosted.org/packages/78/c2/b3f55dfdb8af9812fdb9baf70cacf3b9e82e505b2bd4324d588888b81202/slicer-0.0.7-py3-none-any.whl\n",
            "Requirement already satisfied, skipping upgrade: numba in /usr/local/lib/python3.6/dist-packages (from shap>=0.28.5; extra == \"shap\"->interpret-core[dash,debug,decisiontree,ebm,lime,linear,notebook,plotly,required,sensitivity,shap,skoperules,treeinterpreter]>=0.2.4->interpret->parity-fairness) (0.48.0)\n",
            "Requirement already satisfied, skipping upgrade: cloudpickle in /usr/local/lib/python3.6/dist-packages (from shap>=0.28.5; extra == \"shap\"->interpret-core[dash,debug,decisiontree,ebm,lime,linear,notebook,plotly,required,sensitivity,shap,skoperules,treeinterpreter]>=0.2.4->interpret->parity-fairness) (1.3.0)\n",
            "Requirement already satisfied, skipping upgrade: jupyter-core in /usr/local/lib/python3.6/dist-packages (from nbformat>=4.2.0->ipywidgets>=7.0.0->witwidget->parity-fairness) (4.7.0)\n",
            "Requirement already satisfied, skipping upgrade: cachetools<5.0,>=2.0.0 in /usr/local/lib/python3.6/dist-packages (from google-auth>=1.4.1->google-api-python-client>=1.7.8->witwidget->parity-fairness) (4.2.0)\n",
            "Requirement already satisfied, skipping upgrade: mistune<2,>=0.8.1 in /usr/local/lib/python3.6/dist-packages (from nbconvert->jupyter<2,>=1.0->witwidget->parity-fairness) (0.8.4)\n",
            "Requirement already satisfied, skipping upgrade: defusedxml in /usr/local/lib/python3.6/dist-packages (from nbconvert->jupyter<2,>=1.0->witwidget->parity-fairness) (0.6.0)\n",
            "Requirement already satisfied, skipping upgrade: testpath in /usr/local/lib/python3.6/dist-packages (from nbconvert->jupyter<2,>=1.0->witwidget->parity-fairness) (0.4.4)\n",
            "Requirement already satisfied, skipping upgrade: bleach in /usr/local/lib/python3.6/dist-packages (from nbconvert->jupyter<2,>=1.0->witwidget->parity-fairness) (3.2.1)\n",
            "Requirement already satisfied, skipping upgrade: pandocfilters>=1.4.1 in /usr/local/lib/python3.6/dist-packages (from nbconvert->jupyter<2,>=1.0->witwidget->parity-fairness) (1.4.3)\n",
            "Requirement already satisfied, skipping upgrade: pyzmq>=17.1 in /usr/local/lib/python3.6/dist-packages (from qtconsole->jupyter<2,>=1.0->witwidget->parity-fairness) (20.0.0)\n",
            "Requirement already satisfied, skipping upgrade: qtpy in /usr/local/lib/python3.6/dist-packages (from qtconsole->jupyter<2,>=1.0->witwidget->parity-fairness) (1.9.0)\n",
            "Requirement already satisfied, skipping upgrade: Send2Trash in /usr/local/lib/python3.6/dist-packages (from notebook->jupyter<2,>=1.0->witwidget->parity-fairness) (1.5.0)\n",
            "Requirement already satisfied, skipping upgrade: terminado>=0.8.1 in /usr/local/lib/python3.6/dist-packages (from notebook->jupyter<2,>=1.0->witwidget->parity-fairness) (0.9.2)\n",
            "Requirement already satisfied, skipping upgrade: importlib-metadata; python_version < \"3.8\" in /usr/local/lib/python3.6/dist-packages (from markdown>=2.6.8->tensorboard~=2.4->tensorflow>=1.13.0-rc1->dice_ml->parity-fairness) (3.3.0)\n",
            "Requirement already satisfied, skipping upgrade: requests-oauthlib>=0.7.0 in /usr/local/lib/python3.6/dist-packages (from google-auth-oauthlib<0.5,>=0.4.1->tensorboard~=2.4->tensorflow>=1.13.0-rc1->dice_ml->parity-fairness) (1.3.0)\n",
            "Requirement already satisfied, skipping upgrade: click>=5.1 in /usr/local/lib/python3.6/dist-packages (from Flask>=1.0.4->dash>=1.0.0; extra == \"dash\"->interpret-core[dash,debug,decisiontree,ebm,lime,linear,notebook,plotly,required,sensitivity,shap,skoperules,treeinterpreter]>=0.2.4->interpret->parity-fairness) (7.1.2)\n",
            "Requirement already satisfied, skipping upgrade: itsdangerous>=0.24 in /usr/local/lib/python3.6/dist-packages (from Flask>=1.0.4->dash>=1.0.0; extra == \"dash\"->interpret-core[dash,debug,decisiontree,ebm,lime,linear,notebook,plotly,required,sensitivity,shap,skoperules,treeinterpreter]>=0.2.4->interpret->parity-fairness) (1.1.0)\n",
            "Collecting brotli\n",
            "\u001b[?25l  Downloading https://files.pythonhosted.org/packages/b4/d3/7c98f05b7b9103e2f3a112ba42f269c798155b3e5404fb80bb8f823aaebe/Brotli-1.0.9-cp36-cp36m-manylinux1_x86_64.whl (357kB)\n",
            "\u001b[K     |████████████████████████████████| 358kB 52.1MB/s \n",
            "\u001b[?25hRequirement already satisfied, skipping upgrade: PyWavelets>=0.4.0 in /usr/local/lib/python3.6/dist-packages (from scikit-image>=0.12->lime>=0.1.1.33; extra == \"lime\"->interpret-core[dash,debug,decisiontree,ebm,lime,linear,notebook,plotly,required,sensitivity,shap,skoperules,treeinterpreter]>=0.2.4->interpret->parity-fairness) (1.1.1)\n",
            "Requirement already satisfied, skipping upgrade: imageio>=2.3.0 in /usr/local/lib/python3.6/dist-packages (from scikit-image>=0.12->lime>=0.1.1.33; extra == \"lime\"->interpret-core[dash,debug,decisiontree,ebm,lime,linear,notebook,plotly,required,sensitivity,shap,skoperules,treeinterpreter]>=0.2.4->interpret->parity-fairness) (2.4.1)\n",
            "Requirement already satisfied, skipping upgrade: llvmlite<0.32.0,>=0.31.0dev0 in /usr/local/lib/python3.6/dist-packages (from numba->shap>=0.28.5; extra == \"shap\"->interpret-core[dash,debug,decisiontree,ebm,lime,linear,notebook,plotly,required,sensitivity,shap,skoperules,treeinterpreter]>=0.2.4->interpret->parity-fairness) (0.31.0)\n",
            "Requirement already satisfied, skipping upgrade: packaging in /usr/local/lib/python3.6/dist-packages (from bleach->nbconvert->jupyter<2,>=1.0->witwidget->parity-fairness) (20.8)\n",
            "Requirement already satisfied, skipping upgrade: webencodings in /usr/local/lib/python3.6/dist-packages (from bleach->nbconvert->jupyter<2,>=1.0->witwidget->parity-fairness) (0.5.1)\n",
            "Requirement already satisfied, skipping upgrade: zipp>=0.5 in /usr/local/lib/python3.6/dist-packages (from importlib-metadata; python_version < \"3.8\"->markdown>=2.6.8->tensorboard~=2.4->tensorflow>=1.13.0-rc1->dice_ml->parity-fairness) (3.4.0)\n",
            "Requirement already satisfied, skipping upgrade: oauthlib>=3.0.0 in /usr/local/lib/python3.6/dist-packages (from requests-oauthlib>=0.7.0->google-auth-oauthlib<0.5,>=0.4.1->tensorboard~=2.4->tensorflow>=1.13.0-rc1->dice_ml->parity-fairness) (3.1.0)\n",
            "Building wheels for collected packages: parity-fairness, BlackBoxAuditing, dash-table, dash, dash-cytoscape, lime, SALib, shap, dash-renderer, dash-core-components, dash-html-components\n",
            "  Building wheel for parity-fairness (setup.py) ... \u001b[?25l\u001b[?25hdone\n",
            "  Created wheel for parity-fairness: filename=parity_fairness-0.1.30-cp36-none-any.whl size=20856 sha256=ebe5c188537169a1c9fc0eb98bdf7dcb831928801cdc614ef961a98ed00b0942\n",
            "  Stored in directory: /root/.cache/pip/wheels/03/d3/8c/482d9b0cebba34e3a1e24897cf37d778cfa60f80f74ff1aba6\n",
            "  Building wheel for BlackBoxAuditing (setup.py) ... \u001b[?25l\u001b[?25hdone\n",
            "  Created wheel for BlackBoxAuditing: filename=BlackBoxAuditing-0.1.54-py2.py3-none-any.whl size=1394769 sha256=76e1c0c22ee168d062f4b9b5d0eaeb6118057a3d8e6e01fecdb3f18d77eb5128\n",
            "  Stored in directory: /root/.cache/pip/wheels/66/82/7b/ac2a79b8caf97e15ed415162a7f272cbba1e2e2c851fa76ae3\n",
            "  Building wheel for dash-table (setup.py) ... \u001b[?25l\u001b[?25hdone\n",
            "  Created wheel for dash-table: filename=dash_table-4.11.2-cp36-none-any.whl size=1839870 sha256=948bd337b9e2493789725a02d68e5d0d381725a9fea5825a2cf4aad55cf47a2a\n",
            "  Stored in directory: /root/.cache/pip/wheels/72/d9/f6/2ad62ac0037f1f0c0d3d10948a596b594a069057df0656ac3f\n",
            "  Building wheel for dash (setup.py) ... \u001b[?25l\u001b[?25hdone\n",
            "  Created wheel for dash: filename=dash-1.19.0-cp36-none-any.whl size=84013 sha256=0774de67208e5b99be3dfb127f2761d72a47dc9e35f6255459ec59d4d4c96ace\n",
            "  Stored in directory: /root/.cache/pip/wheels/f7/50/a7/a230ff7f503b10120bff18c2524a375bb85a61ce6b519c8a77\n",
            "  Building wheel for dash-cytoscape (setup.py) ... \u001b[?25l\u001b[?25hdone\n",
            "  Created wheel for dash-cytoscape: filename=dash_cytoscape-0.2.0-cp36-none-any.whl size=3608257 sha256=119405b82f31a0b676b456d5e3c4752cd44dcc730c30eb71ac0e6fe942e3735b\n",
            "  Stored in directory: /root/.cache/pip/wheels/4f/1d/23/ab865d134a3af49104ec463cb6b4b8637ce6b763c71d285055\n",
            "  Building wheel for lime (setup.py) ... \u001b[?25l\u001b[?25hdone\n",
            "  Created wheel for lime: filename=lime-0.2.0.1-cp36-none-any.whl size=283846 sha256=f642492ca4941f9ec685aa1c3f2d0f8eff311c5cd80b50228b6f42896ed0a6f8\n",
            "  Stored in directory: /root/.cache/pip/wheels/4c/4f/a5/0bc765457bd41378bf3ce8d17d7495369d6e7ca3b712c60c89\n",
            "  Building wheel for SALib (setup.py) ... \u001b[?25l\u001b[?25hdone\n",
            "  Created wheel for SALib: filename=SALib-1.3.12-py2.py3-none-any.whl size=729049 sha256=0bf109ad4b47b7353f6ddd365566d59c98a4736b99e342900854452590e0b8d9\n",
            "  Stored in directory: /root/.cache/pip/wheels/04/5c/9f/09d58ab84d5a7ef7d2e5fedc5cd2f46a64a77c99035571aa0c\n",
            "  Building wheel for shap (setup.py) ... \u001b[?25l\u001b[?25hdone\n",
            "  Created wheel for shap: filename=shap-0.38.1-cp36-cp36m-linux_x86_64.whl size=489395 sha256=7c588838bdbc6d7fabf546aa641a7afce87f62d124434046193056fd7982b16c\n",
            "  Stored in directory: /root/.cache/pip/wheels/a8/fb/e4/88012be41842b9be62ae18d82d1b1e880daf8539d1fef1fa00\n",
            "  Building wheel for dash-renderer (setup.py) ... \u001b[?25l\u001b[?25hdone\n",
            "  Created wheel for dash-renderer: filename=dash_renderer-1.9.0-cp36-none-any.whl size=1014869 sha256=993294d9fd51a79a7e858a553dca2221effbdc13db7149ff5537525f3b1638a5\n",
            "  Stored in directory: /root/.cache/pip/wheels/46/a0/ec/2be2e8fc750e623d76f9690c397cc5ab28b33d0a16a49e10c5\n",
            "  Building wheel for dash-core-components (setup.py) ... \u001b[?25l\u001b[?25hdone\n",
            "  Created wheel for dash-core-components: filename=dash_core_components-1.15.0-cp36-none-any.whl size=3527014 sha256=5f6bbb7700db7922df86c0c20725427eeaeb8567cf1ba1f7fa02138dd63deba1\n",
            "  Stored in directory: /root/.cache/pip/wheels/53/3d/be/d628d6f66eedf9597f0c89c8ff43a5020ad1c25152c77d8e9f\n",
            "  Building wheel for dash-html-components (setup.py) ... \u001b[?25l\u001b[?25hdone\n",
            "  Created wheel for dash-html-components: filename=dash_html_components-1.1.2-cp36-none-any.whl size=427830 sha256=2775bbbf6244fd935781f7596851460ebc5ed6ba4c4fcd0ef5389cd46fe865fa\n",
            "  Stored in directory: /root/.cache/pip/wheels/44/95/70/0dc41f9b4e31b8a7ea22193aad5647b2c85cfab37bf13c0242\n",
            "Successfully built parity-fairness BlackBoxAuditing dash-table dash dash-cytoscape lime SALib shap dash-renderer dash-core-components dash-html-components\n",
            "\u001b[31mERROR: requests 2.23.0 has requirement urllib3!=1.25.0,!=1.25.1,<1.26,>=1.21.1, but you'll have urllib3 1.26.2 which is incompatible.\u001b[0m\n",
            "\u001b[31mERROR: google-colab 1.0.0 has requirement ipykernel~=4.10, but you'll have ipykernel 5.4.3 which is incompatible.\u001b[0m\n",
            "\u001b[31mERROR: datascience 0.10.6 has requirement folium==0.2.1, but you'll have folium 0.8.3 which is incompatible.\u001b[0m\n",
            "Installing collected packages: aif360, fairlearn, dice-ml, dash-table, brotli, flask-compress, dash-renderer, dash-core-components, dash-html-components, dash, dash-cytoscape, greenlet, zope.interface, zope.event, gevent, psutil, lime, ipykernel, SALib, slicer, shap, skope-rules, treeinterpreter, interpret-core, interpret, BlackBoxAuditing, witwidget, urllib3, jmespath, botocore, s3transfer, boto3, parity-fairness\n",
            "  Found existing installation: psutil 5.4.8\n",
            "    Uninstalling psutil-5.4.8:\n",
            "      Successfully uninstalled psutil-5.4.8\n",
            "  Found existing installation: ipykernel 4.10.1\n",
            "    Uninstalling ipykernel-4.10.1:\n",
            "      Successfully uninstalled ipykernel-4.10.1\n",
            "  Found existing installation: urllib3 1.24.3\n",
            "    Uninstalling urllib3-1.24.3:\n",
            "      Successfully uninstalled urllib3-1.24.3\n",
            "Successfully installed BlackBoxAuditing-0.1.54 SALib-1.3.12 aif360-0.3.0 boto3-1.16.59 botocore-1.19.59 brotli-1.0.9 dash-1.19.0 dash-core-components-1.15.0 dash-cytoscape-0.2.0 dash-html-components-1.1.2 dash-renderer-1.9.0 dash-table-4.11.2 dice-ml-0.4 fairlearn-0.5.0 flask-compress-1.8.0 gevent-21.1.2 greenlet-1.0.0 interpret-0.2.4 interpret-core-0.2.4 ipykernel-5.4.3 jmespath-0.10.0 lime-0.2.0.1 parity-fairness-0.1.30 psutil-5.8.0 s3transfer-0.3.4 shap-0.38.1 skope-rules-1.0.1 slicer-0.0.7 treeinterpreter-0.2.3 urllib3-1.26.2 witwidget-1.8.0 zope.event-4.5.0 zope.interface-5.2.0\n"
          ],
          "name": "stdout"
        },
        {
          "output_type": "display_data",
          "data": {
            "application/vnd.colab-display-data+json": {
              "pip_warning": {
                "packages": [
                  "ipykernel"
                ]
              }
            }
          },
          "metadata": {
            "tags": []
          }
        }
      ]
    },
    {
      "cell_type": "code",
      "metadata": {
        "id": "a79XoxbGahKM",
        "colab": {
          "base_uri": "https://localhost:8080/"
        },
        "outputId": "c6af4a53-075f-4c9c-f43d-a8a0fce450b9"
      },
      "source": [
        "!pip install pandas-profiling --upgrade"
      ],
      "execution_count": 4,
      "outputs": [
        {
          "output_type": "stream",
          "text": [
            "Collecting pandas-profiling\n",
            "\u001b[?25l  Downloading https://files.pythonhosted.org/packages/3d/8e/645ad7f304dd8d6d7181d22d4bd3d6356331c80c2944a25be3ebe617ec38/pandas_profiling-2.10.0-py2.py3-none-any.whl (239kB)\n",
            "\r\u001b[K     |█▍                              | 10kB 16.2MB/s eta 0:00:01\r\u001b[K     |██▊                             | 20kB 11.6MB/s eta 0:00:01\r\u001b[K     |████                            | 30kB 8.3MB/s eta 0:00:01\r\u001b[K     |█████▌                          | 40kB 6.8MB/s eta 0:00:01\r\u001b[K     |██████▉                         | 51kB 4.4MB/s eta 0:00:01\r\u001b[K     |████████▏                       | 61kB 4.7MB/s eta 0:00:01\r\u001b[K     |█████████▋                      | 71kB 5.0MB/s eta 0:00:01\r\u001b[K     |███████████                     | 81kB 5.0MB/s eta 0:00:01\r\u001b[K     |████████████▎                   | 92kB 5.2MB/s eta 0:00:01\r\u001b[K     |█████████████▋                  | 102kB 5.3MB/s eta 0:00:01\r\u001b[K     |███████████████                 | 112kB 5.3MB/s eta 0:00:01\r\u001b[K     |████████████████▍               | 122kB 5.3MB/s eta 0:00:01\r\u001b[K     |█████████████████▊              | 133kB 5.3MB/s eta 0:00:01\r\u001b[K     |███████████████████▏            | 143kB 5.3MB/s eta 0:00:01\r\u001b[K     |████████████████████▌           | 153kB 5.3MB/s eta 0:00:01\r\u001b[K     |█████████████████████▉          | 163kB 5.3MB/s eta 0:00:01\r\u001b[K     |███████████████████████▏        | 174kB 5.3MB/s eta 0:00:01\r\u001b[K     |████████████████████████▋       | 184kB 5.3MB/s eta 0:00:01\r\u001b[K     |██████████████████████████      | 194kB 5.3MB/s eta 0:00:01\r\u001b[K     |███████████████████████████▎    | 204kB 5.3MB/s eta 0:00:01\r\u001b[K     |████████████████████████████▊   | 215kB 5.3MB/s eta 0:00:01\r\u001b[K     |██████████████████████████████  | 225kB 5.3MB/s eta 0:00:01\r\u001b[K     |███████████████████████████████▍| 235kB 5.3MB/s eta 0:00:01\r\u001b[K     |████████████████████████████████| 245kB 5.3MB/s \n",
            "\u001b[?25hRequirement already satisfied, skipping upgrade: missingno>=0.4.2 in /usr/local/lib/python3.6/dist-packages (from pandas-profiling) (0.4.2)\n",
            "Requirement already satisfied, skipping upgrade: scipy>=1.4.1 in /usr/local/lib/python3.6/dist-packages (from pandas-profiling) (1.4.1)\n",
            "Requirement already satisfied, skipping upgrade: jinja2>=2.11.1 in /usr/local/lib/python3.6/dist-packages (from pandas-profiling) (2.11.2)\n",
            "Collecting requests>=2.24.0\n",
            "\u001b[?25l  Downloading https://files.pythonhosted.org/packages/29/c1/24814557f1d22c56d50280771a17307e6bf87b70727d975fd6b2ce6b014a/requests-2.25.1-py2.py3-none-any.whl (61kB)\n",
            "\u001b[K     |████████████████████████████████| 61kB 3.3MB/s \n",
            "\u001b[?25hRequirement already satisfied, skipping upgrade: attrs>=19.3.0 in /usr/local/lib/python3.6/dist-packages (from pandas-profiling) (20.3.0)\n",
            "Collecting tangled-up-in-unicode>=0.0.6\n",
            "\u001b[?25l  Downloading https://files.pythonhosted.org/packages/4a/e2/e588ab9298d4989ce7fdb2b97d18aac878d99dbdc379a4476a09d9271b68/tangled_up_in_unicode-0.0.6-py3-none-any.whl (3.1MB)\n",
            "\u001b[K     |████████████████████████████████| 3.1MB 6.6MB/s \n",
            "\u001b[?25hCollecting visions[type_image_path]==0.6.0\n",
            "\u001b[?25l  Downloading https://files.pythonhosted.org/packages/98/30/b1e70bc55962239c4c3c9660e892be2d8247a882135a3035c10ff7f02cde/visions-0.6.0-py3-none-any.whl (75kB)\n",
            "\u001b[K     |████████████████████████████████| 81kB 8.4MB/s \n",
            "\u001b[?25hCollecting confuse>=1.0.0\n",
            "  Downloading https://files.pythonhosted.org/packages/6d/55/b4726d81e5d6509fa3441f770f8a9524612627dc1b2a7d6209d1d20083fe/confuse-1.4.0-py2.py3-none-any.whl\n",
            "Requirement already satisfied, skipping upgrade: seaborn>=0.10.1 in /usr/local/lib/python3.6/dist-packages (from pandas-profiling) (0.11.1)\n",
            "Requirement already satisfied, skipping upgrade: numpy>=1.16.0 in /usr/local/lib/python3.6/dist-packages (from pandas-profiling) (1.19.5)\n",
            "Requirement already satisfied, skipping upgrade: joblib in /usr/local/lib/python3.6/dist-packages (from pandas-profiling) (1.0.0)\n",
            "Collecting phik>=0.10.0\n",
            "\u001b[?25l  Downloading https://files.pythonhosted.org/packages/d9/27/d4197ed93c26d9eeedb7c73c0f24462a65c617807c3140e012950c35ccf9/phik-0.11.0.tar.gz (594kB)\n",
            "\u001b[K     |████████████████████████████████| 604kB 26.2MB/s \n",
            "\u001b[?25hRequirement already satisfied, skipping upgrade: ipywidgets>=7.5.1 in /usr/local/lib/python3.6/dist-packages (from pandas-profiling) (7.6.3)\n",
            "Collecting htmlmin>=0.1.12\n",
            "  Downloading https://files.pythonhosted.org/packages/b3/e7/fcd59e12169de19f0131ff2812077f964c6b960e7c09804d30a7bf2ab461/htmlmin-0.1.12.tar.gz\n",
            "Requirement already satisfied, skipping upgrade: matplotlib>=3.2.0 in /usr/local/lib/python3.6/dist-packages (from pandas-profiling) (3.2.2)\n",
            "Requirement already satisfied, skipping upgrade: pandas!=1.0.0,!=1.0.1,!=1.0.2,!=1.1.0,>=0.25.3 in /usr/local/lib/python3.6/dist-packages (from pandas-profiling) (1.1.5)\n",
            "Collecting tqdm>=4.48.2\n",
            "\u001b[?25l  Downloading https://files.pythonhosted.org/packages/80/02/8f8880a4fd6625461833abcf679d4c12a44c76f9925f92bf212bb6cefaad/tqdm-4.56.0-py2.py3-none-any.whl (72kB)\n",
            "\u001b[K     |████████████████████████████████| 81kB 7.6MB/s \n",
            "\u001b[?25hRequirement already satisfied, skipping upgrade: MarkupSafe>=0.23 in /usr/local/lib/python3.6/dist-packages (from jinja2>=2.11.1->pandas-profiling) (1.1.1)\n",
            "Requirement already satisfied, skipping upgrade: urllib3<1.27,>=1.21.1 in /usr/local/lib/python3.6/dist-packages (from requests>=2.24.0->pandas-profiling) (1.26.2)\n",
            "Requirement already satisfied, skipping upgrade: certifi>=2017.4.17 in /usr/local/lib/python3.6/dist-packages (from requests>=2.24.0->pandas-profiling) (2020.12.5)\n",
            "Requirement already satisfied, skipping upgrade: idna<3,>=2.5 in /usr/local/lib/python3.6/dist-packages (from requests>=2.24.0->pandas-profiling) (2.10)\n",
            "Requirement already satisfied, skipping upgrade: chardet<5,>=3.0.2 in /usr/local/lib/python3.6/dist-packages (from requests>=2.24.0->pandas-profiling) (3.0.4)\n",
            "Requirement already satisfied, skipping upgrade: networkx>=2.4 in /usr/local/lib/python3.6/dist-packages (from visions[type_image_path]==0.6.0->pandas-profiling) (2.5)\n",
            "Collecting imagehash; extra == \"type_image_path\"\n",
            "\u001b[?25l  Downloading https://files.pythonhosted.org/packages/8e/18/9dbb772b5ef73a3069c66bb5bf29b9fb4dd57af0d5790c781c3f559bcca6/ImageHash-4.2.0-py2.py3-none-any.whl (295kB)\n",
            "\u001b[K     |████████████████████████████████| 296kB 43.1MB/s \n",
            "\u001b[?25hRequirement already satisfied, skipping upgrade: Pillow; extra == \"type_image_path\" in /usr/local/lib/python3.6/dist-packages (from visions[type_image_path]==0.6.0->pandas-profiling) (7.0.0)\n",
            "Requirement already satisfied, skipping upgrade: pyyaml in /usr/local/lib/python3.6/dist-packages (from confuse>=1.0.0->pandas-profiling) (3.13)\n",
            "Requirement already satisfied, skipping upgrade: numba>=0.38.1 in /usr/local/lib/python3.6/dist-packages (from phik>=0.10.0->pandas-profiling) (0.48.0)\n",
            "Requirement already satisfied, skipping upgrade: ipython>=4.0.0; python_version >= \"3.3\" in /usr/local/lib/python3.6/dist-packages (from ipywidgets>=7.5.1->pandas-profiling) (5.5.0)\n",
            "Requirement already satisfied, skipping upgrade: widgetsnbextension~=3.5.0 in /usr/local/lib/python3.6/dist-packages (from ipywidgets>=7.5.1->pandas-profiling) (3.5.1)\n",
            "Requirement already satisfied, skipping upgrade: nbformat>=4.2.0 in /usr/local/lib/python3.6/dist-packages (from ipywidgets>=7.5.1->pandas-profiling) (5.0.8)\n",
            "Requirement already satisfied, skipping upgrade: traitlets>=4.3.1 in /usr/local/lib/python3.6/dist-packages (from ipywidgets>=7.5.1->pandas-profiling) (4.3.3)\n",
            "Requirement already satisfied, skipping upgrade: ipykernel>=4.5.1 in /usr/local/lib/python3.6/dist-packages (from ipywidgets>=7.5.1->pandas-profiling) (5.4.3)\n",
            "Requirement already satisfied, skipping upgrade: jupyterlab-widgets>=1.0.0; python_version >= \"3.6\" in /usr/local/lib/python3.6/dist-packages (from ipywidgets>=7.5.1->pandas-profiling) (1.0.0)\n",
            "Requirement already satisfied, skipping upgrade: cycler>=0.10 in /usr/local/lib/python3.6/dist-packages (from matplotlib>=3.2.0->pandas-profiling) (0.10.0)\n",
            "Requirement already satisfied, skipping upgrade: pyparsing!=2.0.4,!=2.1.2,!=2.1.6,>=2.0.1 in /usr/local/lib/python3.6/dist-packages (from matplotlib>=3.2.0->pandas-profiling) (2.4.7)\n",
            "Requirement already satisfied, skipping upgrade: kiwisolver>=1.0.1 in /usr/local/lib/python3.6/dist-packages (from matplotlib>=3.2.0->pandas-profiling) (1.3.1)\n",
            "Requirement already satisfied, skipping upgrade: python-dateutil>=2.1 in /usr/local/lib/python3.6/dist-packages (from matplotlib>=3.2.0->pandas-profiling) (2.8.1)\n",
            "Requirement already satisfied, skipping upgrade: pytz>=2017.2 in /usr/local/lib/python3.6/dist-packages (from pandas!=1.0.0,!=1.0.1,!=1.0.2,!=1.1.0,>=0.25.3->pandas-profiling) (2018.9)\n",
            "Requirement already satisfied, skipping upgrade: decorator>=4.3.0 in /usr/local/lib/python3.6/dist-packages (from networkx>=2.4->visions[type_image_path]==0.6.0->pandas-profiling) (4.4.2)\n",
            "Requirement already satisfied, skipping upgrade: PyWavelets in /usr/local/lib/python3.6/dist-packages (from imagehash; extra == \"type_image_path\"->visions[type_image_path]==0.6.0->pandas-profiling) (1.1.1)\n",
            "Requirement already satisfied, skipping upgrade: six in /usr/local/lib/python3.6/dist-packages (from imagehash; extra == \"type_image_path\"->visions[type_image_path]==0.6.0->pandas-profiling) (1.15.0)\n",
            "Requirement already satisfied, skipping upgrade: llvmlite<0.32.0,>=0.31.0dev0 in /usr/local/lib/python3.6/dist-packages (from numba>=0.38.1->phik>=0.10.0->pandas-profiling) (0.31.0)\n",
            "Requirement already satisfied, skipping upgrade: setuptools in /usr/local/lib/python3.6/dist-packages (from numba>=0.38.1->phik>=0.10.0->pandas-profiling) (51.3.3)\n",
            "Requirement already satisfied, skipping upgrade: pexpect; sys_platform != \"win32\" in /usr/local/lib/python3.6/dist-packages (from ipython>=4.0.0; python_version >= \"3.3\"->ipywidgets>=7.5.1->pandas-profiling) (4.8.0)\n",
            "Requirement already satisfied, skipping upgrade: pickleshare in /usr/local/lib/python3.6/dist-packages (from ipython>=4.0.0; python_version >= \"3.3\"->ipywidgets>=7.5.1->pandas-profiling) (0.7.5)\n",
            "Requirement already satisfied, skipping upgrade: simplegeneric>0.8 in /usr/local/lib/python3.6/dist-packages (from ipython>=4.0.0; python_version >= \"3.3\"->ipywidgets>=7.5.1->pandas-profiling) (0.8.1)\n",
            "Requirement already satisfied, skipping upgrade: pygments in /usr/local/lib/python3.6/dist-packages (from ipython>=4.0.0; python_version >= \"3.3\"->ipywidgets>=7.5.1->pandas-profiling) (2.6.1)\n",
            "Requirement already satisfied, skipping upgrade: prompt-toolkit<2.0.0,>=1.0.4 in /usr/local/lib/python3.6/dist-packages (from ipython>=4.0.0; python_version >= \"3.3\"->ipywidgets>=7.5.1->pandas-profiling) (1.0.18)\n",
            "Requirement already satisfied, skipping upgrade: notebook>=4.4.1 in /usr/local/lib/python3.6/dist-packages (from widgetsnbextension~=3.5.0->ipywidgets>=7.5.1->pandas-profiling) (5.3.1)\n",
            "Requirement already satisfied, skipping upgrade: ipython-genutils in /usr/local/lib/python3.6/dist-packages (from nbformat>=4.2.0->ipywidgets>=7.5.1->pandas-profiling) (0.2.0)\n",
            "Requirement already satisfied, skipping upgrade: jupyter-core in /usr/local/lib/python3.6/dist-packages (from nbformat>=4.2.0->ipywidgets>=7.5.1->pandas-profiling) (4.7.0)\n",
            "Requirement already satisfied, skipping upgrade: jsonschema!=2.5.0,>=2.4 in /usr/local/lib/python3.6/dist-packages (from nbformat>=4.2.0->ipywidgets>=7.5.1->pandas-profiling) (2.6.0)\n",
            "Requirement already satisfied, skipping upgrade: jupyter-client in /usr/local/lib/python3.6/dist-packages (from ipykernel>=4.5.1->ipywidgets>=7.5.1->pandas-profiling) (5.3.5)\n",
            "Requirement already satisfied, skipping upgrade: tornado>=4.2 in /usr/local/lib/python3.6/dist-packages (from ipykernel>=4.5.1->ipywidgets>=7.5.1->pandas-profiling) (5.1.1)\n",
            "Requirement already satisfied, skipping upgrade: ptyprocess>=0.5 in /usr/local/lib/python3.6/dist-packages (from pexpect; sys_platform != \"win32\"->ipython>=4.0.0; python_version >= \"3.3\"->ipywidgets>=7.5.1->pandas-profiling) (0.7.0)\n",
            "Requirement already satisfied, skipping upgrade: wcwidth in /usr/local/lib/python3.6/dist-packages (from prompt-toolkit<2.0.0,>=1.0.4->ipython>=4.0.0; python_version >= \"3.3\"->ipywidgets>=7.5.1->pandas-profiling) (0.2.5)\n",
            "Requirement already satisfied, skipping upgrade: nbconvert in /usr/local/lib/python3.6/dist-packages (from notebook>=4.4.1->widgetsnbextension~=3.5.0->ipywidgets>=7.5.1->pandas-profiling) (5.6.1)\n",
            "Requirement already satisfied, skipping upgrade: Send2Trash in /usr/local/lib/python3.6/dist-packages (from notebook>=4.4.1->widgetsnbextension~=3.5.0->ipywidgets>=7.5.1->pandas-profiling) (1.5.0)\n",
            "Requirement already satisfied, skipping upgrade: terminado>=0.8.1 in /usr/local/lib/python3.6/dist-packages (from notebook>=4.4.1->widgetsnbextension~=3.5.0->ipywidgets>=7.5.1->pandas-profiling) (0.9.2)\n",
            "Requirement already satisfied, skipping upgrade: pyzmq>=13 in /usr/local/lib/python3.6/dist-packages (from jupyter-client->ipykernel>=4.5.1->ipywidgets>=7.5.1->pandas-profiling) (20.0.0)\n",
            "Requirement already satisfied, skipping upgrade: mistune<2,>=0.8.1 in /usr/local/lib/python3.6/dist-packages (from nbconvert->notebook>=4.4.1->widgetsnbextension~=3.5.0->ipywidgets>=7.5.1->pandas-profiling) (0.8.4)\n",
            "Requirement already satisfied, skipping upgrade: testpath in /usr/local/lib/python3.6/dist-packages (from nbconvert->notebook>=4.4.1->widgetsnbextension~=3.5.0->ipywidgets>=7.5.1->pandas-profiling) (0.4.4)\n",
            "Requirement already satisfied, skipping upgrade: entrypoints>=0.2.2 in /usr/local/lib/python3.6/dist-packages (from nbconvert->notebook>=4.4.1->widgetsnbextension~=3.5.0->ipywidgets>=7.5.1->pandas-profiling) (0.3)\n",
            "Requirement already satisfied, skipping upgrade: pandocfilters>=1.4.1 in /usr/local/lib/python3.6/dist-packages (from nbconvert->notebook>=4.4.1->widgetsnbextension~=3.5.0->ipywidgets>=7.5.1->pandas-profiling) (1.4.3)\n",
            "Requirement already satisfied, skipping upgrade: defusedxml in /usr/local/lib/python3.6/dist-packages (from nbconvert->notebook>=4.4.1->widgetsnbextension~=3.5.0->ipywidgets>=7.5.1->pandas-profiling) (0.6.0)\n",
            "Requirement already satisfied, skipping upgrade: bleach in /usr/local/lib/python3.6/dist-packages (from nbconvert->notebook>=4.4.1->widgetsnbextension~=3.5.0->ipywidgets>=7.5.1->pandas-profiling) (3.2.1)\n",
            "Requirement already satisfied, skipping upgrade: packaging in /usr/local/lib/python3.6/dist-packages (from bleach->nbconvert->notebook>=4.4.1->widgetsnbextension~=3.5.0->ipywidgets>=7.5.1->pandas-profiling) (20.8)\n",
            "Requirement already satisfied, skipping upgrade: webencodings in /usr/local/lib/python3.6/dist-packages (from bleach->nbconvert->notebook>=4.4.1->widgetsnbextension~=3.5.0->ipywidgets>=7.5.1->pandas-profiling) (0.5.1)\n",
            "Building wheels for collected packages: phik, htmlmin\n",
            "  Building wheel for phik (setup.py) ... \u001b[?25l\u001b[?25hdone\n",
            "  Created wheel for phik: filename=phik-0.11.0-cp36-none-any.whl size=599738 sha256=0e3b46876879de1be3137c49d41e5231fff27d9dd16ed84c4d981f5db335769b\n",
            "  Stored in directory: /root/.cache/pip/wheels/af/54/11/aba77f21075918de02f7964eabfe8c10d5542df9e6ad10b225\n",
            "  Building wheel for htmlmin (setup.py) ... \u001b[?25l\u001b[?25hdone\n",
            "  Created wheel for htmlmin: filename=htmlmin-0.1.12-cp36-none-any.whl size=27085 sha256=84e41d3bef62943c3a7d14c163a228bbb4c9941963ccbec3fe51319ebab0989d\n",
            "  Stored in directory: /root/.cache/pip/wheels/43/07/ac/7c5a9d708d65247ac1f94066cf1db075540b85716c30255459\n",
            "Successfully built phik htmlmin\n",
            "\u001b[31mERROR: google-colab 1.0.0 has requirement ipykernel~=4.10, but you'll have ipykernel 5.4.3 which is incompatible.\u001b[0m\n",
            "\u001b[31mERROR: google-colab 1.0.0 has requirement requests~=2.23.0, but you'll have requests 2.25.1 which is incompatible.\u001b[0m\n",
            "\u001b[31mERROR: datascience 0.10.6 has requirement folium==0.2.1, but you'll have folium 0.8.3 which is incompatible.\u001b[0m\n",
            "Installing collected packages: requests, tangled-up-in-unicode, imagehash, visions, confuse, phik, htmlmin, tqdm, pandas-profiling\n",
            "  Found existing installation: requests 2.23.0\n",
            "    Uninstalling requests-2.23.0:\n",
            "      Successfully uninstalled requests-2.23.0\n",
            "  Found existing installation: tqdm 4.41.1\n",
            "    Uninstalling tqdm-4.41.1:\n",
            "      Successfully uninstalled tqdm-4.41.1\n",
            "  Found existing installation: pandas-profiling 1.4.1\n",
            "    Uninstalling pandas-profiling-1.4.1:\n",
            "      Successfully uninstalled pandas-profiling-1.4.1\n",
            "Successfully installed confuse-1.4.0 htmlmin-0.1.12 imagehash-4.2.0 pandas-profiling-2.10.0 phik-0.11.0 requests-2.25.1 tangled-up-in-unicode-0.0.6 tqdm-4.56.0 visions-0.6.0\n"
          ],
          "name": "stdout"
        }
      ]
    },
    {
      "cell_type": "markdown",
      "metadata": {
        "id": "-YGMGl7CaWUL"
      },
      "source": [
        "# Import Libraries"
      ]
    },
    {
      "cell_type": "code",
      "metadata": {
        "id": "EERkBk1waTs7",
        "colab": {
          "base_uri": "https://localhost:8080/",
          "height": 17
        },
        "outputId": "db3a0e57-0d0a-43f5-bce1-6d791f2dab92"
      },
      "source": [
        "# Fairness metrics and mitigation from the parity-fairness package\n",
        "from parity.fairness_metrics import *\n",
        "from parity.fair import *\n",
        "\n",
        "# For Exploratory Data Analysis\n",
        "import pandas_profiling\n",
        "from pandas_profiling import ProfileReport\n",
        "import seaborn as sns\n",
        "sns.set_palette('cool')\n",
        "\n",
        "\n",
        "%matplotlib inline\n",
        "# Data manipulation libraries\n",
        "import pandas as pd\n",
        "import numpy as np\n",
        "\n",
        "# ML libraries\n",
        "from sklearn.ensemble import RandomForestClassifier\n",
        "\n",
        "# Loads Model\n",
        "import joblib \n",
        "\n",
        "# Display\n",
        "from IPython.display import Markdown, display\n",
        "import warnings\n",
        "warnings.filterwarnings(\"ignore\")"
      ],
      "execution_count": 5,
      "outputs": [
        {
          "output_type": "display_data",
          "data": {
            "text/html": [
              "        <script type=\"text/javascript\">\n",
              "        window.PlotlyConfig = {MathJaxConfig: 'local'};\n",
              "        if (window.MathJax) {MathJax.Hub.Config({SVG: {font: \"STIX-Web\"}});}\n",
              "        if (typeof require !== 'undefined') {\n",
              "        require.undef(\"plotly\");\n",
              "        requirejs.config({\n",
              "            paths: {\n",
              "                'plotly': ['https://cdn.plot.ly/plotly-latest.min']\n",
              "            }\n",
              "        });\n",
              "        require(['plotly'], function(Plotly) {\n",
              "            window._Plotly = Plotly;\n",
              "        });\n",
              "        }\n",
              "        </script>\n",
              "        "
            ]
          },
          "metadata": {
            "tags": []
          }
        },
        {
          "output_type": "display_data",
          "data": {
            "text/html": [
              "        <script type=\"text/javascript\">\n",
              "        window.PlotlyConfig = {MathJaxConfig: 'local'};\n",
              "        if (window.MathJax) {MathJax.Hub.Config({SVG: {font: \"STIX-Web\"}});}\n",
              "        if (typeof require !== 'undefined') {\n",
              "        require.undef(\"plotly\");\n",
              "        requirejs.config({\n",
              "            paths: {\n",
              "                'plotly': ['https://cdn.plot.ly/plotly-latest.min']\n",
              "            }\n",
              "        });\n",
              "        require(['plotly'], function(Plotly) {\n",
              "            window._Plotly = Plotly;\n",
              "        });\n",
              "        }\n",
              "        </script>\n",
              "        "
            ]
          },
          "metadata": {
            "tags": []
          }
        }
      ]
    },
    {
      "cell_type": "markdown",
      "metadata": {
        "id": "Gl9woqTvaa-S"
      },
      "source": [
        "#Load Data"
      ]
    },
    {
      "cell_type": "code",
      "metadata": {
        "id": "tjBaPJV_acuC"
      },
      "source": [
        "data = pd.read_csv(filepath + 'data/compas_recidivism.csv')"
      ],
      "execution_count": 6,
      "outputs": []
    },
    {
      "cell_type": "markdown",
      "metadata": {
        "id": "_faFEQnGAea-"
      },
      "source": [
        "# EDA"
      ]
    },
    {
      "cell_type": "markdown",
      "metadata": {
        "id": "nv_rZylUAiGV"
      },
      "source": [
        "Generates a report of the profiling of the dataset"
      ]
    },
    {
      "cell_type": "code",
      "metadata": {
        "id": "a3H0mXstAgQA"
      },
      "source": [
        "dataset_profile = ProfileReport(data, title=\"Pandas Profiling Report\")"
      ],
      "execution_count": 50,
      "outputs": []
    },
    {
      "cell_type": "markdown",
      "metadata": {
        "id": "M3LkS1wwAnNn"
      },
      "source": [
        " Export it to an html\r\n"
      ]
    },
    {
      "cell_type": "code",
      "metadata": {
        "colab": {
          "base_uri": "https://localhost:8080/",
          "height": 145,
          "referenced_widgets": [
            "edb6a5046436469aa610a301447e67b1",
            "bbc0f991454b4dacb880146fc203f815",
            "8bd264e557df45fab50dda4e27f1daa7",
            "579a91f2b07a4261bdcc1e7def0bd7be",
            "c075ccedab5e4bbfb4dc54fac08ccd7d",
            "e8afaab565cc4389a596a575c0148f80",
            "c4ad5921479d4e7cafcc71343b594ec2",
            "14c4c122491c4ec9a363d0b39f9d625b",
            "259faee545ca4edf817139cd1b35a553",
            "d0c05f90ecbd45cfa997aa82805f64d8",
            "0746de4dfe9e4d7e85af5d72e4545fa9",
            "34923915b63b42c98ff12884d405d8b6",
            "da40640f8fc24659af71eb4a10fb14b7",
            "2aa1f2c2399b4408abe6b326437065af",
            "f27e4ef79aa2466780d386d2f9e655d3",
            "cacf90a2ac254f09ae576756500d3404",
            "919e45e63af74cedb31fe9767cea5987",
            "ef8cf2a465d94891a3f033bb8ecdd4ca",
            "5f6905c4a6d548a6ae5985dc1478e3da",
            "89bac482d83b41329f149dc28a74ea44",
            "00293556f10b4a558a8a2fb6f1f15a69",
            "faa7fd6ef2654e509d448c93843d0239",
            "8cda600b0dc4451abfe6fee91f485fc6",
            "595d4eee29ce47deb018e63f4b246d52",
            "5eeb34a5a782434eb95010226f6b2659",
            "39b4e14812eb4948a4e75df1bb609fbb",
            "b80e8529a85a495f93e0a513e022711c",
            "4dd8d8eda98f4c14b08e544a10cc3f7f",
            "802ddc6eecad459ba4894f194a34f944",
            "9d3f8f457501414296c89c2acbfee5c3",
            "fbf526fc43834f1790d0d62e8ff50e39",
            "98ada91409634753b6a6a971cb934193",
            "145e4110e1f542be910570887ebe4c38",
            "497931aecfa84799bee46cd9687361da",
            "cc34a371f57946559a336d28947a478c",
            "574e3a8ed2814f319a12a2bcd8757635",
            "56c35e63ded24b48a1353678068182e7",
            "cf02df499a03417c82386401347e9947",
            "b3cfedc92eac4c4382bb7596dae5ad39",
            "da3625c3d546420db050db55029628fc",
            "066bcd29ee014bfabb0745323a61c956",
            "ec3c504e3a5049789ffb38d41dbefbf4",
            "e7ecf491cb014d2e9734d0787b3b2f3b",
            "4a14ce3e3baf48cfb3d10e27f6ddebe5"
          ]
        },
        "id": "NR9adWocA1kS",
        "outputId": "6ea908aa-b242-402f-ce1d-fec4e5727e60"
      },
      "source": [
        "dataset_profile.to_file(filepath + \"pandas_profiling/reduced_violence_dataset_profilling.html\")"
      ],
      "execution_count": 51,
      "outputs": [
        {
          "output_type": "display_data",
          "data": {
            "application/vnd.jupyter.widget-view+json": {
              "model_id": "edb6a5046436469aa610a301447e67b1",
              "version_minor": 0,
              "version_major": 2
            },
            "text/plain": [
              "Summarize dataset:   0%|          | 0/24 [00:00<?, ?it/s]"
            ]
          },
          "metadata": {
            "tags": []
          }
        },
        {
          "output_type": "display_data",
          "data": {
            "application/vnd.jupyter.widget-view+json": {
              "model_id": "34923915b63b42c98ff12884d405d8b6",
              "version_minor": 0,
              "version_major": 2
            },
            "text/plain": [
              "Generate report structure:   0%|          | 0/1 [00:00<?, ?it/s]"
            ]
          },
          "metadata": {
            "tags": []
          }
        },
        {
          "output_type": "display_data",
          "data": {
            "application/vnd.jupyter.widget-view+json": {
              "model_id": "8cda600b0dc4451abfe6fee91f485fc6",
              "version_minor": 0,
              "version_major": 2
            },
            "text/plain": [
              "Render HTML:   0%|          | 0/1 [00:00<?, ?it/s]"
            ]
          },
          "metadata": {
            "tags": []
          }
        },
        {
          "output_type": "display_data",
          "data": {
            "application/vnd.jupyter.widget-view+json": {
              "model_id": "497931aecfa84799bee46cd9687361da",
              "version_minor": 0,
              "version_major": 2
            },
            "text/plain": [
              "Export report to file:   0%|          | 0/1 [00:00<?, ?it/s]"
            ]
          },
          "metadata": {
            "tags": []
          }
        }
      ]
    },
    {
      "cell_type": "markdown",
      "metadata": {
        "id": "kSgaiMqQ0IsR"
      },
      "source": [
        "# Check Bias on Dataset\n",
        "Next cells will evaluate the `whole dataset` using the `five fairness metrics` and display if there are bias in the three protected attributes namely `age_cat`, `sex`,  and `race`."
      ]
    },
    {
      "cell_type": "markdown",
      "metadata": {
        "id": "TI1jHoJu75B1"
      },
      "source": [
        "#### Age Group\r\n"
      ]
    },
    {
      "cell_type": "code",
      "metadata": {
        "id": "g90zu2g_8CqI",
        "colab": {
          "base_uri": "https://localhost:8080/",
          "height": 511
        },
        "outputId": "83c32add-f95a-4ebc-ae1c-1101dfa93023"
      },
      "source": [
        "priv_category = 'age_cat'\n",
        "priv_value = 'Greater than 45'\n",
        "target_label = 'is_recid'\n",
        "unencoded_target_label = 'No'\n",
        "cols_to_drop = ''\n",
        "\n",
        "show_bias(data, priv_category, priv_value, target_label, unencoded_target_label, cols_to_drop)"
      ],
      "execution_count": 7,
      "outputs": [
        {
          "output_type": "display_data",
          "data": {
            "text/markdown": "### Check bias metrics :",
            "text/plain": [
              "<IPython.core.display.Markdown object>"
            ]
          },
          "metadata": {
            "tags": []
          }
        },
        {
          "output_type": "display_data",
          "data": {
            "text/markdown": "A model can be considered bias if just one of these five metrics show that this model is biased.",
            "text/plain": [
              "<IPython.core.display.Markdown object>"
            ]
          },
          "metadata": {
            "tags": []
          }
        },
        {
          "output_type": "display_data",
          "data": {
            "text/markdown": "#### For the age_cat attribute :",
            "text/plain": [
              "<IPython.core.display.Markdown object>"
            ]
          },
          "metadata": {
            "tags": []
          }
        },
        {
          "output_type": "display_data",
          "data": {
            "text/markdown": "With default thresholds, bias against unprivileged group detected in **2** out of 5 metrics",
            "text/plain": [
              "<IPython.core.display.Markdown object>"
            ]
          },
          "metadata": {
            "tags": []
          }
        },
        {
          "output_type": "display_data",
          "data": {
            "text/html": [
              "<div>\n",
              "<style scoped>\n",
              "    .dataframe tbody tr th:only-of-type {\n",
              "        vertical-align: middle;\n",
              "    }\n",
              "\n",
              "    .dataframe tbody tr th {\n",
              "        vertical-align: top;\n",
              "    }\n",
              "\n",
              "    .dataframe thead th {\n",
              "        text-align: right;\n",
              "    }\n",
              "</style>\n",
              "<table border=\"1\" class=\"dataframe\">\n",
              "  <thead>\n",
              "    <tr style=\"text-align: right;\">\n",
              "      <th></th>\n",
              "      <th>statistical_parity_difference</th>\n",
              "      <th>equal_opportunity_difference</th>\n",
              "      <th>average_abs_odds_difference</th>\n",
              "      <th>disparate_impact</th>\n",
              "      <th>theil_index</th>\n",
              "    </tr>\n",
              "  </thead>\n",
              "  <tbody>\n",
              "    <tr>\n",
              "      <th>objective</th>\n",
              "      <td>0.000000</td>\n",
              "      <td>0.00000</td>\n",
              "      <td>0.00000</td>\n",
              "      <td>1.000000</td>\n",
              "      <td>0.00000</td>\n",
              "    </tr>\n",
              "    <tr>\n",
              "      <th>age_cat</th>\n",
              "      <td>-0.141911</td>\n",
              "      <td>-0.08795</td>\n",
              "      <td>0.13208</td>\n",
              "      <td>0.831188</td>\n",
              "      <td>0.16354</td>\n",
              "    </tr>\n",
              "  </tbody>\n",
              "</table>\n",
              "</div>"
            ],
            "text/plain": [
              "           statistical_parity_difference  ...  theil_index\n",
              "objective                       0.000000  ...      0.00000\n",
              "age_cat                        -0.141911  ...      0.16354\n",
              "\n",
              "[2 rows x 5 columns]"
            ]
          },
          "metadata": {
            "tags": []
          }
        },
        {
          "output_type": "display_data",
          "data": {
            "image/png": "[encoded data removed]",
            "text/plain": [
              "<Figure size 1440x288 with 5 Axes>"
            ]
          },
          "metadata": {
            "tags": [],
            "needs_background": "light"
          }
        }
      ]
    },
    {
      "cell_type": "markdown",
      "metadata": {
        "id": "-1q2zJwV7-0s"
      },
      "source": [
        "#### Sex"
      ]
    },
    {
      "cell_type": "code",
      "metadata": {
        "id": "SAyifvmy8DMB",
        "colab": {
          "base_uri": "https://localhost:8080/",
          "height": 574
        },
        "outputId": "eb3e1998-ab44-488c-8751-c1d6037aa13f"
      },
      "source": [
        "priv_category = 'sex'\n",
        "priv_value = 'Male'\n",
        "target_label = 'is_recid'\n",
        "unencoded_target_label = 'Yes'\n",
        "cols_to_drop = ''\n",
        "\n",
        "show_bias(data, priv_category, priv_value, target_label, unencoded_target_label, cols_to_drop)"
      ],
      "execution_count": 8,
      "outputs": [
        {
          "output_type": "display_data",
          "data": {
            "text/markdown": "### Check bias metrics :",
            "text/plain": [
              "<IPython.core.display.Markdown object>"
            ]
          },
          "metadata": {
            "tags": []
          }
        },
        {
          "output_type": "display_data",
          "data": {
            "text/markdown": "A model can be considered bias if just one of these five metrics show that this model is biased.",
            "text/plain": [
              "<IPython.core.display.Markdown object>"
            ]
          },
          "metadata": {
            "tags": []
          }
        },
        {
          "output_type": "display_data",
          "data": {
            "text/markdown": "#### For the sex attribute :",
            "text/plain": [
              "<IPython.core.display.Markdown object>"
            ]
          },
          "metadata": {
            "tags": []
          }
        },
        {
          "output_type": "display_data",
          "data": {
            "text/markdown": "With default thresholds, bias against unprivileged group detected in **4** out of 5 metrics",
            "text/plain": [
              "<IPython.core.display.Markdown object>"
            ]
          },
          "metadata": {
            "tags": []
          }
        },
        {
          "output_type": "display_data",
          "data": {
            "text/html": [
              "<div>\n",
              "<style scoped>\n",
              "    .dataframe tbody tr th:only-of-type {\n",
              "        vertical-align: middle;\n",
              "    }\n",
              "\n",
              "    .dataframe tbody tr th {\n",
              "        vertical-align: top;\n",
              "    }\n",
              "\n",
              "    .dataframe thead th {\n",
              "        text-align: right;\n",
              "    }\n",
              "</style>\n",
              "<table border=\"1\" class=\"dataframe\">\n",
              "  <thead>\n",
              "    <tr style=\"text-align: right;\">\n",
              "      <th></th>\n",
              "      <th>statistical_parity_difference</th>\n",
              "      <th>equal_opportunity_difference</th>\n",
              "      <th>average_abs_odds_difference</th>\n",
              "      <th>disparate_impact</th>\n",
              "      <th>theil_index</th>\n",
              "    </tr>\n",
              "  </thead>\n",
              "  <tbody>\n",
              "    <tr>\n",
              "      <th>objective</th>\n",
              "      <td>0.000000</td>\n",
              "      <td>0.000000</td>\n",
              "      <td>0.000000</td>\n",
              "      <td>1.000000</td>\n",
              "      <td>0.000000</td>\n",
              "    </tr>\n",
              "    <tr>\n",
              "      <th>sex</th>\n",
              "      <td>-0.130711</td>\n",
              "      <td>-0.115828</td>\n",
              "      <td>0.105802</td>\n",
              "      <td>0.576763</td>\n",
              "      <td>0.213012</td>\n",
              "    </tr>\n",
              "  </tbody>\n",
              "</table>\n",
              "</div>"
            ],
            "text/plain": [
              "           statistical_parity_difference  ...  theil_index\n",
              "objective                       0.000000  ...     0.000000\n",
              "sex                            -0.130711  ...     0.213012\n",
              "\n",
              "[2 rows x 5 columns]"
            ]
          },
          "metadata": {
            "tags": []
          }
        },
        {
          "output_type": "display_data",
          "data": {
            "image/png": "[encoded data removed]",
            "text/plain": [
              "<Figure size 1440x288 with 5 Axes>"
            ]
          },
          "metadata": {
            "tags": []
          }
        }
      ]
    },
    {
      "cell_type": "markdown",
      "metadata": {
        "id": "8bqudere7_Go"
      },
      "source": [
        "#### Race"
      ]
    },
    {
      "cell_type": "code",
      "metadata": {
        "id": "ZRVCeimS1gxb",
        "colab": {
          "base_uri": "https://localhost:8080/",
          "height": 574
        },
        "outputId": "47ca28d0-5698-498c-dae1-1048cef9b091"
      },
      "source": [
        "priv_category = 'race'\n",
        "priv_value = 'Caucasian'\n",
        "target_label = 'is_recid'\n",
        "unencoded_target_label = 'No'\n",
        "cols_to_drop = ''\n",
        "\n",
        "show_bias(data, priv_category, priv_value, target_label, unencoded_target_label, cols_to_drop)"
      ],
      "execution_count": 9,
      "outputs": [
        {
          "output_type": "display_data",
          "data": {
            "text/markdown": "### Check bias metrics :",
            "text/plain": [
              "<IPython.core.display.Markdown object>"
            ]
          },
          "metadata": {
            "tags": []
          }
        },
        {
          "output_type": "display_data",
          "data": {
            "text/markdown": "A model can be considered bias if just one of these five metrics show that this model is biased.",
            "text/plain": [
              "<IPython.core.display.Markdown object>"
            ]
          },
          "metadata": {
            "tags": []
          }
        },
        {
          "output_type": "display_data",
          "data": {
            "text/markdown": "#### For the race attribute :",
            "text/plain": [
              "<IPython.core.display.Markdown object>"
            ]
          },
          "metadata": {
            "tags": []
          }
        },
        {
          "output_type": "display_data",
          "data": {
            "text/markdown": "With default thresholds, bias against unprivileged group detected in **2** out of 5 metrics",
            "text/plain": [
              "<IPython.core.display.Markdown object>"
            ]
          },
          "metadata": {
            "tags": []
          }
        },
        {
          "output_type": "display_data",
          "data": {
            "text/html": [
              "<div>\n",
              "<style scoped>\n",
              "    .dataframe tbody tr th:only-of-type {\n",
              "        vertical-align: middle;\n",
              "    }\n",
              "\n",
              "    .dataframe tbody tr th {\n",
              "        vertical-align: top;\n",
              "    }\n",
              "\n",
              "    .dataframe thead th {\n",
              "        text-align: right;\n",
              "    }\n",
              "</style>\n",
              "<table border=\"1\" class=\"dataframe\">\n",
              "  <thead>\n",
              "    <tr style=\"text-align: right;\">\n",
              "      <th></th>\n",
              "      <th>statistical_parity_difference</th>\n",
              "      <th>equal_opportunity_difference</th>\n",
              "      <th>average_abs_odds_difference</th>\n",
              "      <th>disparate_impact</th>\n",
              "      <th>theil_index</th>\n",
              "    </tr>\n",
              "  </thead>\n",
              "  <tbody>\n",
              "    <tr>\n",
              "      <th>objective</th>\n",
              "      <td>0.000000</td>\n",
              "      <td>0.000000</td>\n",
              "      <td>0.000000</td>\n",
              "      <td>1.000000</td>\n",
              "      <td>0.000000</td>\n",
              "    </tr>\n",
              "    <tr>\n",
              "      <th>race</th>\n",
              "      <td>-0.124255</td>\n",
              "      <td>-0.077013</td>\n",
              "      <td>0.100028</td>\n",
              "      <td>0.843363</td>\n",
              "      <td>0.161839</td>\n",
              "    </tr>\n",
              "  </tbody>\n",
              "</table>\n",
              "</div>"
            ],
            "text/plain": [
              "           statistical_parity_difference  ...  theil_index\n",
              "objective                       0.000000  ...     0.000000\n",
              "race                           -0.124255  ...     0.161839\n",
              "\n",
              "[2 rows x 5 columns]"
            ]
          },
          "metadata": {
            "tags": []
          }
        },
        {
          "output_type": "display_data",
          "data": {
            "image/png": "[encoded data removed]",
            "text/plain": [
              "<Figure size 1440x288 with 5 Axes>"
            ]
          },
          "metadata": {
            "tags": []
          }
        }
      ]
    },
    {
      "cell_type": "markdown",
      "metadata": {
        "id": "1SpxhPCE02_H"
      },
      "source": [
        "# Fairness & Bias Mitigations"
      ]
    },
    {
      "cell_type": "markdown",
      "metadata": {
        "id": "aY4K_TQohsyS"
      },
      "source": [
        "To evaluate and mitigate the fairness of a different protected attribute, change the `priv_category` and `priv_value` accordingly."
      ]
    },
    {
      "cell_type": "markdown",
      "metadata": {
        "id": "j3WPMw2FJoSU"
      },
      "source": [
        "### Prepare Data\n",
        "It is important to setup the data such that the `target column` is a `binary string` target. Then specify out which feature are the `privileged category` and which value are `privileged value`. Before using the different bias mitigation functions, necessary objects must be also prepared using the function `prepare_data`. Once the dataset is processed into an aif360 standard dataset format which in this case is stored in `data_orig`, split this into testing and training datasets. Along with other different objects: `encoders`, `numerical_features` and `categorical_features`, these will all be fed appropriately when using mitigation tools."
      ]
    },
    {
      "cell_type": "markdown",
      "metadata": {
        "id": "EWjVKa8Kyfnj"
      },
      "source": [
        "Set the privilege category and value"
      ]
    },
    {
      "cell_type": "code",
      "metadata": {
        "id": "erWyiKvj4NQE"
      },
      "source": [
        "priv_category = 'race'\n",
        "priv_value = 'Caucasian'\n",
        "target_label = 'is_recid'\n",
        "unencoded_target_label = 'No'\n",
        "cols_to_drop = ''"
      ],
      "execution_count": 10,
      "outputs": []
    },
    {
      "cell_type": "markdown",
      "metadata": {
        "id": "VPWyt9BQyirz"
      },
      "source": [
        "Preparing datasets and other needed lists"
      ]
    },
    {
      "cell_type": "code",
      "metadata": {
        "id": "8e1dl34z4OO1"
      },
      "source": [
        "data_orig, encoders_orig, numerical_features_orig, categorical_features_orig = prepare_data(data, priv_category, priv_value, target_label, \n",
        "                             priv_target_value=unencoded_target_label, ignore_cols=cols_to_drop)"
      ],
      "execution_count": 11,
      "outputs": []
    },
    {
      "cell_type": "markdown",
      "metadata": {
        "id": "Kzn61eioylQK"
      },
      "source": [
        "Split train test dataset"
      ]
    },
    {
      "cell_type": "code",
      "metadata": {
        "id": "oPmsqwMM4PO2"
      },
      "source": [
        "np.random.seed(42)\n",
        "\n",
        "data_orig_train, data_orig_test = data_orig.split([0.7], shuffle = True)"
      ],
      "execution_count": 12,
      "outputs": []
    },
    {
      "cell_type": "markdown",
      "metadata": {
        "id": "9eS-c8Nq9mzf"
      },
      "source": [
        "# Check bias on Model"
      ]
    },
    {
      "cell_type": "markdown",
      "metadata": {
        "id": "ZLMCRyMu-MmO"
      },
      "source": [
        "Train model on original data"
      ]
    },
    {
      "cell_type": "code",
      "metadata": {
        "id": "PZd5qnlm-Qow"
      },
      "source": [
        "rf_orig_model = RandomForestClassifier().fit(data_orig_train.features, \n",
        "                     data_orig_train.labels.ravel(), \n",
        "                     sample_weight=data_orig_train.instance_weights)"
      ],
      "execution_count": 13,
      "outputs": []
    },
    {
      "cell_type": "markdown",
      "metadata": {
        "id": "1I9YF0E3-Sz1"
      },
      "source": [
        "Save model of original data"
      ]
    },
    {
      "cell_type": "code",
      "metadata": {
        "id": "nl1OK0tg-W-L",
        "colab": {
          "base_uri": "https://localhost:8080/"
        },
        "outputId": "e9a11303-0af5-4b22-ec07-80a4c34d14c2"
      },
      "source": [
        "joblib.dump(rf_orig_model, filepath+'models/rf_orig_model_' + priv_category + '.sav')"
      ],
      "execution_count": 14,
      "outputs": [
        {
          "output_type": "execute_result",
          "data": {
            "text/plain": [
              "['/content/drive/MyDrive/Violence Fairness/models/rf_orig_model_race.sav']"
            ]
          },
          "metadata": {
            "tags": []
          },
          "execution_count": 14
        }
      ]
    },
    {
      "cell_type": "markdown",
      "metadata": {
        "id": "tPzdrZ_6zKaA"
      },
      "source": [
        "## Load Original model"
      ]
    },
    {
      "cell_type": "markdown",
      "metadata": {
        "id": "knn2EzWSytuC"
      },
      "source": [
        "Load the previously saved model\n"
      ]
    },
    {
      "cell_type": "code",
      "metadata": {
        "id": "AqM0yeP5SbPc"
      },
      "source": [
        "rf_orig_model = joblib.load(filepath +'models/rf_orig_model_' + priv_category + '.sav')"
      ],
      "execution_count": 15,
      "outputs": []
    },
    {
      "cell_type": "code",
      "metadata": {
        "id": "vBJw0kUeQAKu"
      },
      "source": [
        "X_test = data_orig_test.features\n",
        "y_test = data_orig_test.labels.ravel()"
      ],
      "execution_count": 16,
      "outputs": []
    },
    {
      "cell_type": "markdown",
      "metadata": {
        "id": "f44deDtLywTC"
      },
      "source": [
        "Checks performance of the model"
      ]
    },
    {
      "cell_type": "code",
      "metadata": {
        "id": "uJShq-86QAK2",
        "colab": {
          "base_uri": "https://localhost:8080/",
          "height": 523
        },
        "outputId": "17189042-62f5-4eb1-d080-cbadc502e994"
      },
      "source": [
        "plot_model_performance(rf_orig_model, X_test, y_test)"
      ],
      "execution_count": 17,
      "outputs": [
        {
          "output_type": "display_data",
          "data": {
            "text/markdown": "#### Accuracy of the model :",
            "text/plain": [
              "<IPython.core.display.Markdown object>"
            ]
          },
          "metadata": {
            "tags": []
          }
        },
        {
          "output_type": "stream",
          "text": [
            "0.7155453951665578\n"
          ],
          "name": "stdout"
        },
        {
          "output_type": "display_data",
          "data": {
            "text/markdown": "#### F1 score of the model :",
            "text/plain": [
              "<IPython.core.display.Markdown object>"
            ]
          },
          "metadata": {
            "tags": []
          }
        },
        {
          "output_type": "stream",
          "text": [
            "0.5384207737148914\n"
          ],
          "name": "stdout"
        },
        {
          "output_type": "display_data",
          "data": {
            "image/png": "[encoded data removed]",
            "text/plain": [
              "<Figure size 1080x432 with 3 Axes>"
            ]
          },
          "metadata": {
            "tags": []
          }
        }
      ]
    },
    {
      "cell_type": "markdown",
      "metadata": {
        "id": "Ncw3FCf0QAK8"
      },
      "source": [
        "## Fairness Metrics\n",
        "\n",
        "A common problem with most machine learning models is bias from data. This notebook shows how to measure those biases and perform bias mitigation. A python package called [aif360](https://github.com/IBM/AIF360) can give us metrics and algorithms for bias measurement and mitigation\n",
        "\n",
        "\n",
        "* Statistical Parity Difference\n",
        "* Equal Opportunity Difference\n",
        "* Average Absolute Odds Difference\n",
        "* Disparate Impact\n",
        "* Theil Index\n",
        "\n",
        "### Statistical Parity Difference\n",
        "\n",
        "This measure is based on the following formula : \n",
        "\n",
        "$$ Pr(Y=1|D=unprivileged) - Pr(Y=1|D=privileged) $$\n",
        "\n",
        "*Statistical imparity* is the difference between the probability that a random individual drawn from unprivileged is labeled 0 and the probability that a random individual from privileged is labeled 1.\n",
        "\n",
        "Fairer scores are close to **0**.\n",
        "\n",
        "More documentation here [One definition of algorithmic fairness: statistical parity](https://jeremykun.com/2015/10/19/one-definition-of-algorithmic-fairness-statistical-parity/).\n",
        "\n",
        "\n",
        "### Equal Opportunity Difference\n",
        "\n",
        "This metric is just a difference between the true positive rate of unprivileged group and the true positive rate of privileged group.\n",
        "\n",
        "$$ TPR_{D=unprivileged} - TPR_{D=privileged} $$ \n",
        "\n",
        "Fairer scores are close to **0**.\n",
        "\n",
        "### Average Absolute Odds Difference\n",
        "\n",
        "This measure is using both false positive rate and true positive rate to calculate the bias.\n",
        "\n",
        "$$ \\frac{1}{2}[|FPR_{D=unprivileged} - FPR_{D=privileged} | + | TPR_{D=unprivileged} - TPR_{D=privileged}|]$$\n",
        "\n",
        "Fairer scores are close to **0**.\n",
        "\n",
        "### Disparate Impact\n",
        "\n",
        "For this metric we use the following formula :\n",
        "\n",
        "$$ \\frac{Pr(Y=1|D=unprivileged)}{Pr(Y=1|D=privileged)} $$\n",
        "\n",
        "Like the first metric we use both probabities of a random individual drawn from unprivileged or privileged with a label of 1 but here it's a ratio. \n",
        "\n",
        "Better disparate impact should be closer to **1**.\n",
        "\n",
        "### Theil Index\n",
        "\n",
        "This measure is also known as the generalized entropy index but with $\\alpha$ equals to 1. More information here [Generalized Entropy Index](https://en.wikipedia.org/wiki/Generalized_entropy_index)).\n",
        "\n",
        "$$ \\frac{1}{n} \\sum_{i=0}^{n} \\frac{b_i}{\\mu} ln \\frac{b_i}{\\mu} $$ \n",
        "\n",
        "Where $b_i = \\hat{y}_i - y_i + 1 $\n",
        "\n",
        "Fairer scores are close to **0**.\n",
        "\n",
        "\n",
        "Some metrics need predictions while others just the original dataset. This is why we will use 2 classes of the aif360 package : `ClassificationMetric` and `BinaryLabelDatasetMetric`. \n",
        "\n",
        "### For `ClassificationMetric` : \n",
        "* [Equal Opportunity Difference: ](https://aif360.readthedocs.io/en/latest/modules/metrics.html#aif360.metrics.ClassificationMetric.equal_opportunity_difference) `equal_opportunity_difference()`\n",
        "* [Average Absolute Odds Difference: ](https://aif360.readthedocs.io/en/latest/modules/metrics.html#aif360.metrics.ClassificationMetric.average_abs_odds_difference) `average_abs_odds_difference()`\n",
        "* [Theil Index : ](https://aif360.readthedocs.io/en/latest/modules/metrics.html#aif360.metrics.ClassificationMetric.theil_index) `theil_index()`\n",
        "\n",
        "### For `BinaryLabelDatasetMetric` : \n",
        "* [Statistical Parity Difference: ](https://aif360.readthedocs.io/en/latest/modules/metrics.html#aif360.metrics.BinaryLabelDatasetMetric.statistical_parity_difference) `statistical_parity_difference()`\n",
        "* [Disparate Impact: ](https://aif360.readthedocs.io/en/latest/modules/metrics.html#aif360.metrics.ClassificationMetric.disparate_impact) `disparate_impact()`"
      ]
    },
    {
      "cell_type": "code",
      "metadata": {
        "id": "diFO5sTEAbyU"
      },
      "source": [
        "algo_metrics = pd.DataFrame(columns=['model', 'fair_metrics', 'prediction', 'probs'])"
      ],
      "execution_count": 18,
      "outputs": []
    },
    {
      "cell_type": "markdown",
      "metadata": {
        "id": "WwiwcdMhQALA"
      },
      "source": [
        "### Display Bias\n",
        "\n",
        "The following codes will display the fairness metrics on the protected attribute. In this case `original test dataset` given the `original model` were used to evaluate the bias."
      ]
    },
    {
      "cell_type": "code",
      "metadata": {
        "id": "aeYFzp6rQALB",
        "colab": {
          "base_uri": "https://localhost:8080/",
          "height": 598
        },
        "outputId": "9d426552-e34e-43f4-b9c5-2ec6047a5881"
      },
      "source": [
        "%%time\n",
        "\n",
        "# Display bias on unmitigated original test data\n",
        "display(Markdown('# Bias metrics for the model with protected attribute: ' + priv_category))\n",
        "fair = get_fair_metrics_and_plot(data_orig_test, rf_orig_model)"
      ],
      "execution_count": 19,
      "outputs": [
        {
          "output_type": "display_data",
          "data": {
            "text/markdown": "# Bias metrics for the model with protected attribute: race",
            "text/plain": [
              "<IPython.core.display.Markdown object>"
            ]
          },
          "metadata": {
            "tags": []
          }
        },
        {
          "output_type": "display_data",
          "data": {
            "text/markdown": "### Check bias metrics :",
            "text/plain": [
              "<IPython.core.display.Markdown object>"
            ]
          },
          "metadata": {
            "tags": []
          }
        },
        {
          "output_type": "display_data",
          "data": {
            "text/markdown": "A model can be considered bias if just one of these five metrics show that this model is biased.",
            "text/plain": [
              "<IPython.core.display.Markdown object>"
            ]
          },
          "metadata": {
            "tags": []
          }
        },
        {
          "output_type": "display_data",
          "data": {
            "text/markdown": "#### For the race attribute :",
            "text/plain": [
              "<IPython.core.display.Markdown object>"
            ]
          },
          "metadata": {
            "tags": []
          }
        },
        {
          "output_type": "display_data",
          "data": {
            "text/markdown": "With default thresholds, bias against unprivileged group detected in **2** out of 5 metrics",
            "text/plain": [
              "<IPython.core.display.Markdown object>"
            ]
          },
          "metadata": {
            "tags": []
          }
        },
        {
          "output_type": "display_data",
          "data": {
            "text/html": [
              "<div>\n",
              "<style scoped>\n",
              "    .dataframe tbody tr th:only-of-type {\n",
              "        vertical-align: middle;\n",
              "    }\n",
              "\n",
              "    .dataframe tbody tr th {\n",
              "        vertical-align: top;\n",
              "    }\n",
              "\n",
              "    .dataframe thead th {\n",
              "        text-align: right;\n",
              "    }\n",
              "</style>\n",
              "<table border=\"1\" class=\"dataframe\">\n",
              "  <thead>\n",
              "    <tr style=\"text-align: right;\">\n",
              "      <th></th>\n",
              "      <th>statistical_parity_difference</th>\n",
              "      <th>equal_opportunity_difference</th>\n",
              "      <th>average_abs_odds_difference</th>\n",
              "      <th>disparate_impact</th>\n",
              "      <th>theil_index</th>\n",
              "    </tr>\n",
              "  </thead>\n",
              "  <tbody>\n",
              "    <tr>\n",
              "      <th>objective</th>\n",
              "      <td>0.000000</td>\n",
              "      <td>0.000000</td>\n",
              "      <td>0.000000</td>\n",
              "      <td>1.000000</td>\n",
              "      <td>0.000000</td>\n",
              "    </tr>\n",
              "    <tr>\n",
              "      <th>race</th>\n",
              "      <td>-0.140322</td>\n",
              "      <td>-0.088268</td>\n",
              "      <td>0.123412</td>\n",
              "      <td>0.823634</td>\n",
              "      <td>0.164798</td>\n",
              "    </tr>\n",
              "  </tbody>\n",
              "</table>\n",
              "</div>"
            ],
            "text/plain": [
              "           statistical_parity_difference  ...  theil_index\n",
              "objective                       0.000000  ...     0.000000\n",
              "race                           -0.140322  ...     0.164798\n",
              "\n",
              "[2 rows x 5 columns]"
            ]
          },
          "metadata": {
            "tags": []
          }
        },
        {
          "output_type": "stream",
          "text": [
            "CPU times: user 591 ms, sys: 209 ms, total: 800 ms\n",
            "Wall time: 591 ms\n"
          ],
          "name": "stdout"
        },
        {
          "output_type": "display_data",
          "data": {
            "image/png": "[encoded data removed]",
            "text/plain": [
              "<Figure size 1440x288 with 5 Axes>"
            ]
          },
          "metadata": {
            "tags": []
          }
        }
      ]
    },
    {
      "cell_type": "markdown",
      "metadata": {
        "id": "As0cwGnbipJV"
      },
      "source": [
        "Next codes will derive the probabilities and predictions to be stacked on the algo_metrics dataframe along with the fairness metrics result and other information such as the original model."
      ]
    },
    {
      "cell_type": "code",
      "metadata": {
        "id": "8POzd6ICwbg8"
      },
      "source": [
        "# Get probabilities and predictions of the model\n",
        "probs = rf_orig_model.predict_proba(data_orig_test.features)\n",
        "preds = rf_orig_model.predict(data_orig_test.features)\n",
        "\n",
        "# Add details in the algo_metrics dataframe\n",
        "algo_metrics = add_to_df_algo_metrics(algo_metrics, rf_orig_model, fair, preds, probs, 'Origin')"
      ],
      "execution_count": 20,
      "outputs": []
    },
    {
      "cell_type": "markdown",
      "metadata": {
        "id": "d3zYXY7VQALW"
      },
      "source": [
        "# Bias Mitigation\n",
        "\n",
        "There are three types of bias mitigation:\n",
        "- Pre-processing algorithms : they are used before training the model\n",
        "- In-processing algorithms : they are fair classifiers so it's during the training\n",
        "- Post-processing algorithms : they are used after training the model\n"
      ]
    },
    {
      "cell_type": "markdown",
      "metadata": {
        "id": "vl3hf5Y7_8LT"
      },
      "source": [
        "## Pre-processing Algorithms\n",
        "\n",
        "### Disparate Impact Remover\n",
        "\n",
        "Disparate impact remover is a preprocessing technique that edits feature values increase group fairness while preserving rank-ordering within groups. This method doesn't need predictions to fix bias.\n",
        "If you want to see how it works you can take a look on [an example Notebook from the GitHub of AIF360](https://github.com/IBM/AIF360/blob/master/examples/demo_disparate_impact_remover.ipynb).\n",
        "\n",
        "Source : [Feldman et al., 2015](https://dl.acm.org/citation.cfm?doid=2783258.2783311)\n",
        "\n",
        "### Learning Fair Representation\n",
        "\n",
        "Learning fair representations is a pre-processing technique that finds a latent representation which encodes the data well but obfuscates information about protected attributes.\n",
        "You can find more information on [the demo notebook](https://github.com/IBM/AIF360/blob/master/examples/demo_lfr.ipynb).\n",
        "\n",
        "Source : [Zemel et al., 2013](http://proceedings.mlr.press/v28/zemel13.html)\n",
        "\n",
        "### Reweighing\n",
        "\n",
        "Reweighing is a preprocessing technique that Weights the examples in each (group, label) combination differently to ensure fairness before classification.\n",
        "\n",
        "Source : [Kamiran and Calders, 2012](https://link.springer.com/article/10.1007%2Fs10115-011-0463-8)"
      ]
    },
    {
      "cell_type": "markdown",
      "metadata": {
        "id": "U6iQyHKlnGpi"
      },
      "source": [
        "In order to mitigate fairness using the pre-processing algorithm, `original dataset` is fed on the mitigation tool and transformed into a readable dataframe. The mitigated data will then be split to training and testing dataset. Using the mitigated training dataset, retrain a new model. This mitigated model will then be reavaluated with the fairness metrics. Probabilities and predictions using the mitigated models will also be derived and inlcuded in the master dataframe called `algo_metrics`."
      ]
    },
    {
      "cell_type": "markdown",
      "metadata": {
        "id": "rpLFeVlwQALW"
      },
      "source": [
        "#### Disparate Impact Remover\n"
      ]
    },
    {
      "cell_type": "code",
      "metadata": {
        "id": "fmkJ5Wy_QALX",
        "colab": {
          "base_uri": "https://localhost:8080/",
          "height": 592
        },
        "outputId": "fdb10616-3ed4-4329-a16b-89baa4e31b18"
      },
      "source": [
        "# Remove bias through disparate impact remover\n",
        "data_transf_df = disparate_impact_remover(data_orig)\n",
        "\n",
        "# Decode to pandas dataframe for readability\n",
        "decoded_df = decode_dataset(data_transf_df, encoders_orig, numerical_features_orig, categorical_features_orig)\n",
        "decoded_df"
      ],
      "execution_count": 22,
      "outputs": [
        {
          "output_type": "execute_result",
          "data": {
            "text/html": [
              "<div>\n",
              "<style scoped>\n",
              "    .dataframe tbody tr th:only-of-type {\n",
              "        vertical-align: middle;\n",
              "    }\n",
              "\n",
              "    .dataframe tbody tr th {\n",
              "        vertical-align: top;\n",
              "    }\n",
              "\n",
              "    .dataframe thead th {\n",
              "        text-align: right;\n",
              "    }\n",
              "</style>\n",
              "<table border=\"1\" class=\"dataframe\">\n",
              "  <thead>\n",
              "    <tr style=\"text-align: right;\">\n",
              "      <th></th>\n",
              "      <th>sex</th>\n",
              "      <th>age</th>\n",
              "      <th>age_cat</th>\n",
              "      <th>race</th>\n",
              "      <th>juv_fel_count</th>\n",
              "      <th>decile_score</th>\n",
              "      <th>juv_misd_count</th>\n",
              "      <th>juv_other_count</th>\n",
              "      <th>priors_count</th>\n",
              "      <th>is_violent_recid</th>\n",
              "      <th>is_recid</th>\n",
              "    </tr>\n",
              "  </thead>\n",
              "  <tbody>\n",
              "    <tr>\n",
              "      <th>0</th>\n",
              "      <td>Male</td>\n",
              "      <td>67.0</td>\n",
              "      <td>Greater than 45</td>\n",
              "      <td>Other</td>\n",
              "      <td>1.0</td>\n",
              "      <td>1.0</td>\n",
              "      <td>0.0</td>\n",
              "      <td>0.0</td>\n",
              "      <td>0.0</td>\n",
              "      <td>0.0</td>\n",
              "      <td>No</td>\n",
              "    </tr>\n",
              "    <tr>\n",
              "      <th>1</th>\n",
              "      <td>Male</td>\n",
              "      <td>34.0</td>\n",
              "      <td>25 - 45</td>\n",
              "      <td>African-American</td>\n",
              "      <td>1.0</td>\n",
              "      <td>3.0</td>\n",
              "      <td>0.0</td>\n",
              "      <td>0.0</td>\n",
              "      <td>0.0</td>\n",
              "      <td>1.0</td>\n",
              "      <td>Yes</td>\n",
              "    </tr>\n",
              "    <tr>\n",
              "      <th>2</th>\n",
              "      <td>Male</td>\n",
              "      <td>23.0</td>\n",
              "      <td>Less than 25</td>\n",
              "      <td>African-American</td>\n",
              "      <td>1.0</td>\n",
              "      <td>4.0</td>\n",
              "      <td>0.0</td>\n",
              "      <td>0.0</td>\n",
              "      <td>0.0</td>\n",
              "      <td>0.0</td>\n",
              "      <td>Yes</td>\n",
              "    </tr>\n",
              "    <tr>\n",
              "      <th>3</th>\n",
              "      <td>Male</td>\n",
              "      <td>23.0</td>\n",
              "      <td>Less than 25</td>\n",
              "      <td>African-American</td>\n",
              "      <td>1.0</td>\n",
              "      <td>8.0</td>\n",
              "      <td>0.0</td>\n",
              "      <td>0.0</td>\n",
              "      <td>0.0</td>\n",
              "      <td>0.0</td>\n",
              "      <td>No</td>\n",
              "    </tr>\n",
              "    <tr>\n",
              "      <th>4</th>\n",
              "      <td>Male</td>\n",
              "      <td>43.0</td>\n",
              "      <td>25 - 45</td>\n",
              "      <td>Other</td>\n",
              "      <td>1.0</td>\n",
              "      <td>1.0</td>\n",
              "      <td>0.0</td>\n",
              "      <td>0.0</td>\n",
              "      <td>3.0</td>\n",
              "      <td>0.0</td>\n",
              "      <td>No</td>\n",
              "    </tr>\n",
              "    <tr>\n",
              "      <th>...</th>\n",
              "      <td>...</td>\n",
              "      <td>...</td>\n",
              "      <td>...</td>\n",
              "      <td>...</td>\n",
              "      <td>...</td>\n",
              "      <td>...</td>\n",
              "      <td>...</td>\n",
              "      <td>...</td>\n",
              "      <td>...</td>\n",
              "      <td>...</td>\n",
              "      <td>...</td>\n",
              "    </tr>\n",
              "    <tr>\n",
              "      <th>10200</th>\n",
              "      <td>Male</td>\n",
              "      <td>23.0</td>\n",
              "      <td>Less than 25</td>\n",
              "      <td>African-American</td>\n",
              "      <td>1.0</td>\n",
              "      <td>3.0</td>\n",
              "      <td>0.0</td>\n",
              "      <td>0.0</td>\n",
              "      <td>0.0</td>\n",
              "      <td>0.0</td>\n",
              "      <td>No</td>\n",
              "    </tr>\n",
              "    <tr>\n",
              "      <th>10201</th>\n",
              "      <td>Female</td>\n",
              "      <td>31.0</td>\n",
              "      <td>25 - 45</td>\n",
              "      <td>African-American</td>\n",
              "      <td>1.0</td>\n",
              "      <td>6.0</td>\n",
              "      <td>0.0</td>\n",
              "      <td>0.0</td>\n",
              "      <td>3.0</td>\n",
              "      <td>0.0</td>\n",
              "      <td>No</td>\n",
              "    </tr>\n",
              "    <tr>\n",
              "      <th>10202</th>\n",
              "      <td>Male</td>\n",
              "      <td>57.0</td>\n",
              "      <td>Greater than 45</td>\n",
              "      <td>Other</td>\n",
              "      <td>1.0</td>\n",
              "      <td>1.0</td>\n",
              "      <td>0.0</td>\n",
              "      <td>0.0</td>\n",
              "      <td>0.0</td>\n",
              "      <td>0.0</td>\n",
              "      <td>No</td>\n",
              "    </tr>\n",
              "    <tr>\n",
              "      <th>10203</th>\n",
              "      <td>Female</td>\n",
              "      <td>31.0</td>\n",
              "      <td>25 - 45</td>\n",
              "      <td>African-American</td>\n",
              "      <td>1.0</td>\n",
              "      <td>1.0</td>\n",
              "      <td>0.0</td>\n",
              "      <td>0.0</td>\n",
              "      <td>0.0</td>\n",
              "      <td>0.0</td>\n",
              "      <td>No</td>\n",
              "    </tr>\n",
              "    <tr>\n",
              "      <th>10204</th>\n",
              "      <td>Female</td>\n",
              "      <td>23.0</td>\n",
              "      <td>Less than 25</td>\n",
              "      <td>Hispanic</td>\n",
              "      <td>1.0</td>\n",
              "      <td>3.0</td>\n",
              "      <td>0.0</td>\n",
              "      <td>0.0</td>\n",
              "      <td>0.0</td>\n",
              "      <td>0.0</td>\n",
              "      <td>Yes</td>\n",
              "    </tr>\n",
              "  </tbody>\n",
              "</table>\n",
              "<p>10205 rows × 11 columns</p>\n",
              "</div>"
            ],
            "text/plain": [
              "          sex   age          age_cat  ... priors_count  is_violent_recid  is_recid\n",
              "0        Male  67.0  Greater than 45  ...          0.0               0.0        No\n",
              "1        Male  34.0          25 - 45  ...          0.0               1.0       Yes\n",
              "2        Male  23.0     Less than 25  ...          0.0               0.0       Yes\n",
              "3        Male  23.0     Less than 25  ...          0.0               0.0        No\n",
              "4        Male  43.0          25 - 45  ...          3.0               0.0        No\n",
              "...       ...   ...              ...  ...          ...               ...       ...\n",
              "10200    Male  23.0     Less than 25  ...          0.0               0.0        No\n",
              "10201  Female  31.0          25 - 45  ...          3.0               0.0        No\n",
              "10202    Male  57.0  Greater than 45  ...          0.0               0.0        No\n",
              "10203  Female  31.0          25 - 45  ...          0.0               0.0        No\n",
              "10204  Female  23.0     Less than 25  ...          0.0               0.0       Yes\n",
              "\n",
              "[10205 rows x 11 columns]"
            ]
          },
          "metadata": {
            "tags": []
          },
          "execution_count": 22
        }
      ]
    },
    {
      "cell_type": "code",
      "metadata": {
        "id": "LSBB8D_4RTBI",
        "colab": {
          "base_uri": "https://localhost:8080/",
          "height": 564
        },
        "outputId": "cafdf570-043b-4933-deb6-c99cff075ef2"
      },
      "source": [
        "# Preparing the mitigated dataset\n",
        "data_mitigated, encoders, numerical_features, categorical_features = prepare_data(data_transf_df, priv_category, priv_value, target_label, \n",
        "                             priv_target_value=unencoded_target_label, ignore_cols=cols_to_drop)\n",
        "\n",
        "# Split mitigated data to train and test dataset\n",
        "np.random.seed(42)\n",
        "data_mitigated_train, data_mitigated_test = data_mitigated.split([0.7], shuffle=True) \n",
        "\n",
        "# Retrain a model using the mitigated data\n",
        "rf_mitigated = RandomForestClassifier().fit(data_mitigated_train.features, \n",
        "                     data_mitigated_train.labels.ravel(), \n",
        "                     sample_weight=data_mitigated_train.instance_weights)\n",
        "\n",
        "# Get the new probabilities and predictions using the retrained model\n",
        "probs = rf_mitigated.predict_proba(data_orig_test.features)\n",
        "preds = rf_mitigated.predict(data_orig_test.features)\n",
        "\n",
        "# Evaluate fairness given the mitigated data\n",
        "display(Markdown('# Bias metrics for the model with protected attribute: ' + priv_category))\n",
        "fair = get_fair_metrics_and_plot(data_orig_test, rf_mitigated)\n",
        "\n",
        "# Add details in the algo_metrics dataframe\n",
        "algo_metrics = add_to_df_algo_metrics(algo_metrics, rf_mitigated, fair, preds, probs, 'Disparate Impact Remover')"
      ],
      "execution_count": 23,
      "outputs": [
        {
          "output_type": "display_data",
          "data": {
            "text/markdown": "# Bias metrics for the model with protected attribute: race",
            "text/plain": [
              "<IPython.core.display.Markdown object>"
            ]
          },
          "metadata": {
            "tags": []
          }
        },
        {
          "output_type": "display_data",
          "data": {
            "text/markdown": "### Check bias metrics :",
            "text/plain": [
              "<IPython.core.display.Markdown object>"
            ]
          },
          "metadata": {
            "tags": []
          }
        },
        {
          "output_type": "display_data",
          "data": {
            "text/markdown": "A model can be considered bias if just one of these five metrics show that this model is biased.",
            "text/plain": [
              "<IPython.core.display.Markdown object>"
            ]
          },
          "metadata": {
            "tags": []
          }
        },
        {
          "output_type": "display_data",
          "data": {
            "text/markdown": "#### For the race attribute :",
            "text/plain": [
              "<IPython.core.display.Markdown object>"
            ]
          },
          "metadata": {
            "tags": []
          }
        },
        {
          "output_type": "display_data",
          "data": {
            "text/markdown": "With default thresholds, bias against unprivileged group detected in **4** out of 5 metrics",
            "text/plain": [
              "<IPython.core.display.Markdown object>"
            ]
          },
          "metadata": {
            "tags": []
          }
        },
        {
          "output_type": "display_data",
          "data": {
            "text/html": [
              "<div>\n",
              "<style scoped>\n",
              "    .dataframe tbody tr th:only-of-type {\n",
              "        vertical-align: middle;\n",
              "    }\n",
              "\n",
              "    .dataframe tbody tr th {\n",
              "        vertical-align: top;\n",
              "    }\n",
              "\n",
              "    .dataframe thead th {\n",
              "        text-align: right;\n",
              "    }\n",
              "</style>\n",
              "<table border=\"1\" class=\"dataframe\">\n",
              "  <thead>\n",
              "    <tr style=\"text-align: right;\">\n",
              "      <th></th>\n",
              "      <th>statistical_parity_difference</th>\n",
              "      <th>equal_opportunity_difference</th>\n",
              "      <th>average_abs_odds_difference</th>\n",
              "      <th>disparate_impact</th>\n",
              "      <th>theil_index</th>\n",
              "    </tr>\n",
              "  </thead>\n",
              "  <tbody>\n",
              "    <tr>\n",
              "      <th>objective</th>\n",
              "      <td>0.000000</td>\n",
              "      <td>0.000000</td>\n",
              "      <td>0.000000</td>\n",
              "      <td>1.000000</td>\n",
              "      <td>0.000000</td>\n",
              "    </tr>\n",
              "    <tr>\n",
              "      <th>race</th>\n",
              "      <td>-0.200043</td>\n",
              "      <td>-0.150399</td>\n",
              "      <td>0.182142</td>\n",
              "      <td>0.756992</td>\n",
              "      <td>0.165682</td>\n",
              "    </tr>\n",
              "  </tbody>\n",
              "</table>\n",
              "</div>"
            ],
            "text/plain": [
              "           statistical_parity_difference  ...  theil_index\n",
              "objective                       0.000000  ...     0.000000\n",
              "race                           -0.200043  ...     0.165682\n",
              "\n",
              "[2 rows x 5 columns]"
            ]
          },
          "metadata": {
            "tags": []
          }
        },
        {
          "output_type": "display_data",
          "data": {
            "image/png": "[encoded data removed]",
            "text/plain": [
              "<Figure size 1440x288 with 5 Axes>"
            ]
          },
          "metadata": {
            "tags": []
          }
        }
      ]
    },
    {
      "cell_type": "markdown",
      "metadata": {
        "id": "otna62iqQALc"
      },
      "source": [
        "#### Learning Fair Representation\n",
        "\n",
        "Learning fair representations is a pre-processing technique that finds a latent representation which encodes the data well but obfuscates information about protected attributes.\n",
        "You can find more information on [the demo notebook](https://github.com/IBM/AIF360/blob/master/examples/demo_lfr.ipynb).\n",
        "\n",
        "Source : [Zemel et al., 2013](http://proceedings.mlr.press/v28/zemel13.html)"
      ]
    },
    {
      "cell_type": "code",
      "metadata": {
        "id": "3yNV64BpFR9q",
        "colab": {
          "base_uri": "https://localhost:8080/",
          "height": 558
        },
        "outputId": "10ad9300-0e43-4374-f12f-16f3037d917c"
      },
      "source": [
        "# Remove bias through LFR\n",
        "data_transf_df = learning_fair_representation(data_orig, priv_category)\n",
        "\n",
        "# Decode to pandas dataframe for readability\n",
        "decoded_df = decode_dataset(data_transf_df, encoders_orig, numerical_features_orig, categorical_features_orig)\n",
        "decoded_df"
      ],
      "execution_count": 25,
      "outputs": [
        {
          "output_type": "stream",
          "text": [
            "250 6827.000416529158\n"
          ],
          "name": "stdout"
        },
        {
          "output_type": "execute_result",
          "data": {
            "text/html": [
              "<div>\n",
              "<style scoped>\n",
              "    .dataframe tbody tr th:only-of-type {\n",
              "        vertical-align: middle;\n",
              "    }\n",
              "\n",
              "    .dataframe tbody tr th {\n",
              "        vertical-align: top;\n",
              "    }\n",
              "\n",
              "    .dataframe thead th {\n",
              "        text-align: right;\n",
              "    }\n",
              "</style>\n",
              "<table border=\"1\" class=\"dataframe\">\n",
              "  <thead>\n",
              "    <tr style=\"text-align: right;\">\n",
              "      <th></th>\n",
              "      <th>sex</th>\n",
              "      <th>age</th>\n",
              "      <th>age_cat</th>\n",
              "      <th>race</th>\n",
              "      <th>juv_fel_count</th>\n",
              "      <th>decile_score</th>\n",
              "      <th>juv_misd_count</th>\n",
              "      <th>juv_other_count</th>\n",
              "      <th>priors_count</th>\n",
              "      <th>is_violent_recid</th>\n",
              "      <th>is_recid</th>\n",
              "    </tr>\n",
              "  </thead>\n",
              "  <tbody>\n",
              "    <tr>\n",
              "      <th>0</th>\n",
              "      <td>Female</td>\n",
              "      <td>34.987888</td>\n",
              "      <td>25 - 45</td>\n",
              "      <td>Other</td>\n",
              "      <td>0.064817</td>\n",
              "      <td>4.400959</td>\n",
              "      <td>0.079932</td>\n",
              "      <td>0.101042</td>\n",
              "      <td>3.253476</td>\n",
              "      <td>0.07927</td>\n",
              "      <td>No</td>\n",
              "    </tr>\n",
              "    <tr>\n",
              "      <th>1</th>\n",
              "      <td>Female</td>\n",
              "      <td>34.987888</td>\n",
              "      <td>25 - 45</td>\n",
              "      <td>African-American</td>\n",
              "      <td>0.064817</td>\n",
              "      <td>4.400959</td>\n",
              "      <td>0.079932</td>\n",
              "      <td>0.101042</td>\n",
              "      <td>3.253476</td>\n",
              "      <td>0.07927</td>\n",
              "      <td>No</td>\n",
              "    </tr>\n",
              "    <tr>\n",
              "      <th>2</th>\n",
              "      <td>Female</td>\n",
              "      <td>34.987888</td>\n",
              "      <td>25 - 45</td>\n",
              "      <td>African-American</td>\n",
              "      <td>0.064817</td>\n",
              "      <td>4.400959</td>\n",
              "      <td>0.079932</td>\n",
              "      <td>0.101042</td>\n",
              "      <td>3.253476</td>\n",
              "      <td>0.07927</td>\n",
              "      <td>No</td>\n",
              "    </tr>\n",
              "    <tr>\n",
              "      <th>3</th>\n",
              "      <td>Female</td>\n",
              "      <td>34.987888</td>\n",
              "      <td>25 - 45</td>\n",
              "      <td>African-American</td>\n",
              "      <td>0.064817</td>\n",
              "      <td>4.400959</td>\n",
              "      <td>0.079932</td>\n",
              "      <td>0.101042</td>\n",
              "      <td>3.253476</td>\n",
              "      <td>0.07927</td>\n",
              "      <td>No</td>\n",
              "    </tr>\n",
              "    <tr>\n",
              "      <th>4</th>\n",
              "      <td>Female</td>\n",
              "      <td>34.987888</td>\n",
              "      <td>25 - 45</td>\n",
              "      <td>Other</td>\n",
              "      <td>0.064817</td>\n",
              "      <td>4.400959</td>\n",
              "      <td>0.079932</td>\n",
              "      <td>0.101042</td>\n",
              "      <td>3.253476</td>\n",
              "      <td>0.07927</td>\n",
              "      <td>No</td>\n",
              "    </tr>\n",
              "    <tr>\n",
              "      <th>...</th>\n",
              "      <td>...</td>\n",
              "      <td>...</td>\n",
              "      <td>...</td>\n",
              "      <td>...</td>\n",
              "      <td>...</td>\n",
              "      <td>...</td>\n",
              "      <td>...</td>\n",
              "      <td>...</td>\n",
              "      <td>...</td>\n",
              "      <td>...</td>\n",
              "      <td>...</td>\n",
              "    </tr>\n",
              "    <tr>\n",
              "      <th>10200</th>\n",
              "      <td>Female</td>\n",
              "      <td>34.987888</td>\n",
              "      <td>25 - 45</td>\n",
              "      <td>African-American</td>\n",
              "      <td>0.064817</td>\n",
              "      <td>4.400959</td>\n",
              "      <td>0.079932</td>\n",
              "      <td>0.101042</td>\n",
              "      <td>3.253476</td>\n",
              "      <td>0.07927</td>\n",
              "      <td>No</td>\n",
              "    </tr>\n",
              "    <tr>\n",
              "      <th>10201</th>\n",
              "      <td>Female</td>\n",
              "      <td>34.987888</td>\n",
              "      <td>25 - 45</td>\n",
              "      <td>African-American</td>\n",
              "      <td>0.064817</td>\n",
              "      <td>4.400959</td>\n",
              "      <td>0.079932</td>\n",
              "      <td>0.101042</td>\n",
              "      <td>3.253476</td>\n",
              "      <td>0.07927</td>\n",
              "      <td>No</td>\n",
              "    </tr>\n",
              "    <tr>\n",
              "      <th>10202</th>\n",
              "      <td>Female</td>\n",
              "      <td>34.987888</td>\n",
              "      <td>25 - 45</td>\n",
              "      <td>Other</td>\n",
              "      <td>0.064817</td>\n",
              "      <td>4.400959</td>\n",
              "      <td>0.079932</td>\n",
              "      <td>0.101042</td>\n",
              "      <td>3.253476</td>\n",
              "      <td>0.07927</td>\n",
              "      <td>No</td>\n",
              "    </tr>\n",
              "    <tr>\n",
              "      <th>10203</th>\n",
              "      <td>Female</td>\n",
              "      <td>34.987888</td>\n",
              "      <td>25 - 45</td>\n",
              "      <td>African-American</td>\n",
              "      <td>0.064817</td>\n",
              "      <td>4.400959</td>\n",
              "      <td>0.079932</td>\n",
              "      <td>0.101042</td>\n",
              "      <td>3.253476</td>\n",
              "      <td>0.07927</td>\n",
              "      <td>No</td>\n",
              "    </tr>\n",
              "    <tr>\n",
              "      <th>10204</th>\n",
              "      <td>Female</td>\n",
              "      <td>34.987888</td>\n",
              "      <td>25 - 45</td>\n",
              "      <td>Hispanic</td>\n",
              "      <td>0.064817</td>\n",
              "      <td>4.400959</td>\n",
              "      <td>0.079932</td>\n",
              "      <td>0.101042</td>\n",
              "      <td>3.253476</td>\n",
              "      <td>0.07927</td>\n",
              "      <td>No</td>\n",
              "    </tr>\n",
              "  </tbody>\n",
              "</table>\n",
              "<p>10205 rows × 11 columns</p>\n",
              "</div>"
            ],
            "text/plain": [
              "          sex        age  age_cat  ... priors_count  is_violent_recid  is_recid\n",
              "0      Female  34.987888  25 - 45  ...     3.253476           0.07927        No\n",
              "1      Female  34.987888  25 - 45  ...     3.253476           0.07927        No\n",
              "2      Female  34.987888  25 - 45  ...     3.253476           0.07927        No\n",
              "3      Female  34.987888  25 - 45  ...     3.253476           0.07927        No\n",
              "4      Female  34.987888  25 - 45  ...     3.253476           0.07927        No\n",
              "...       ...        ...      ...  ...          ...               ...       ...\n",
              "10200  Female  34.987888  25 - 45  ...     3.253476           0.07927        No\n",
              "10201  Female  34.987888  25 - 45  ...     3.253476           0.07927        No\n",
              "10202  Female  34.987888  25 - 45  ...     3.253476           0.07927        No\n",
              "10203  Female  34.987888  25 - 45  ...     3.253476           0.07927        No\n",
              "10204  Female  34.987888  25 - 45  ...     3.253476           0.07927        No\n",
              "\n",
              "[10205 rows x 11 columns]"
            ]
          },
          "metadata": {
            "tags": []
          },
          "execution_count": 25
        }
      ]
    },
    {
      "cell_type": "code",
      "metadata": {
        "id": "ENvEI5mxJnya",
        "colab": {
          "base_uri": "https://localhost:8080/",
          "height": 615
        },
        "outputId": "6a5f9c9c-1708-4f60-9cdb-b56cbeefe812"
      },
      "source": [
        "# Preparing the mitigated dataset\n",
        "data_mitigated, encoders, numerical_features, categorical_features = prepare_data(decoded_df, priv_category, priv_value, target_label, \n",
        "                             priv_target_value=unencoded_target_label, ignore_cols=cols_to_drop)\n",
        "\n",
        "# Split mitigated data to train and test dataset\n",
        "np.random.seed(42)\n",
        "data_mitigated_train, data_mitigated_test = data_mitigated.split([0.7], shuffle=True) \n",
        "\n",
        "# Retrain a model using the mitigated data\n",
        "rf_mitigated = RandomForestClassifier().fit(data_mitigated_train.features, \n",
        "                     data_mitigated_train.labels.ravel(), \n",
        "                     sample_weight=data_mitigated_train.instance_weights)\n",
        "\n",
        "# Get the new probabilities and predictions using the retrained model\n",
        "probs = rf_mitigated.predict_proba(data_orig_test.features)\n",
        "preds = rf_mitigated.predict(data_orig_test.features)\n",
        "\n",
        "# Evaluate fairness given the mitigated data\n",
        "display(Markdown('# Bias metrics for the model with protected attribute: ' + priv_category))\n",
        "fair = get_fair_metrics_and_plot(data_orig_test, rf_mitigated)\n",
        "\n",
        "# Add details in the algo_metrics dataframe\n",
        "algo_metrics = add_to_df_algo_metrics(algo_metrics, rf_mitigated, fair, preds, probs, 'Learning Fair Representation')"
      ],
      "execution_count": 26,
      "outputs": [
        {
          "output_type": "display_data",
          "data": {
            "text/markdown": "# Bias metrics for the model with protected attribute: race",
            "text/plain": [
              "<IPython.core.display.Markdown object>"
            ]
          },
          "metadata": {
            "tags": []
          }
        },
        {
          "output_type": "display_data",
          "data": {
            "text/markdown": "### Check bias metrics :",
            "text/plain": [
              "<IPython.core.display.Markdown object>"
            ]
          },
          "metadata": {
            "tags": []
          }
        },
        {
          "output_type": "display_data",
          "data": {
            "text/markdown": "A model can be considered bias if just one of these five metrics show that this model is biased.",
            "text/plain": [
              "<IPython.core.display.Markdown object>"
            ]
          },
          "metadata": {
            "tags": []
          }
        },
        {
          "output_type": "display_data",
          "data": {
            "text/markdown": "#### For the race attribute :",
            "text/plain": [
              "<IPython.core.display.Markdown object>"
            ]
          },
          "metadata": {
            "tags": []
          }
        },
        {
          "output_type": "display_data",
          "data": {
            "text/markdown": "With default thresholds, bias against unprivileged group detected in **2** out of 5 metrics",
            "text/plain": [
              "<IPython.core.display.Markdown object>"
            ]
          },
          "metadata": {
            "tags": []
          }
        },
        {
          "output_type": "display_data",
          "data": {
            "text/html": [
              "<div>\n",
              "<style scoped>\n",
              "    .dataframe tbody tr th:only-of-type {\n",
              "        vertical-align: middle;\n",
              "    }\n",
              "\n",
              "    .dataframe tbody tr th {\n",
              "        vertical-align: top;\n",
              "    }\n",
              "\n",
              "    .dataframe thead th {\n",
              "        text-align: right;\n",
              "    }\n",
              "</style>\n",
              "<table border=\"1\" class=\"dataframe\">\n",
              "  <thead>\n",
              "    <tr style=\"text-align: right;\">\n",
              "      <th></th>\n",
              "      <th>statistical_parity_difference</th>\n",
              "      <th>equal_opportunity_difference</th>\n",
              "      <th>average_abs_odds_difference</th>\n",
              "      <th>disparate_impact</th>\n",
              "      <th>theil_index</th>\n",
              "    </tr>\n",
              "  </thead>\n",
              "  <tbody>\n",
              "    <tr>\n",
              "      <th>objective</th>\n",
              "      <td>0.0</td>\n",
              "      <td>0.0</td>\n",
              "      <td>0.0</td>\n",
              "      <td>1.0</td>\n",
              "      <td>0.000000</td>\n",
              "    </tr>\n",
              "    <tr>\n",
              "      <th>race</th>\n",
              "      <td>0.0</td>\n",
              "      <td>0.0</td>\n",
              "      <td>0.0</td>\n",
              "      <td>NaN</td>\n",
              "      <td>1.077926</td>\n",
              "    </tr>\n",
              "  </tbody>\n",
              "</table>\n",
              "</div>"
            ],
            "text/plain": [
              "           statistical_parity_difference  ...  theil_index\n",
              "objective                            0.0  ...     0.000000\n",
              "race                                 0.0  ...     1.077926\n",
              "\n",
              "[2 rows x 5 columns]"
            ]
          },
          "metadata": {
            "tags": []
          }
        },
        {
          "output_type": "stream",
          "text": [
            "posx and posy should be finite values\n",
            "posx and posy should be finite values\n",
            "posx and posy should be finite values\n"
          ],
          "name": "stderr"
        },
        {
          "output_type": "display_data",
          "data": {
            "image/png": "[encoded data removed]",
            "text/plain": [
              "<Figure size 1440x288 with 5 Axes>"
            ]
          },
          "metadata": {
            "tags": []
          }
        }
      ]
    },
    {
      "cell_type": "markdown",
      "metadata": {
        "id": "ZQ9MfXsCQALi"
      },
      "source": [
        "#### Reweighing\n",
        "\n",
        "Reweighing is a preprocessing technique that Weights the examples in each (group, label) combination differently to ensure fairness before classification.\n",
        "\n",
        "Source : [Kamiran and Calders, 2012](https://link.springer.com/article/10.1007%2Fs10115-011-0463-8)"
      ]
    },
    {
      "cell_type": "code",
      "metadata": {
        "id": "J5LvsDZxKy4r",
        "colab": {
          "base_uri": "https://localhost:8080/",
          "height": 592
        },
        "outputId": "13cc39b2-c0c2-49d3-bee5-f8d7da12af69"
      },
      "source": [
        "# Remove bias through reweighing\n",
        "data_transf_df = reweight(data_orig, priv_category)\n",
        "\n",
        "# Decode to pandas dataframe for readability\n",
        "decoded_df = decode_dataset(data_transf_df, encoders_orig, numerical_features_orig, categorical_features_orig)\n",
        "decoded_df"
      ],
      "execution_count": 28,
      "outputs": [
        {
          "output_type": "execute_result",
          "data": {
            "text/html": [
              "<div>\n",
              "<style scoped>\n",
              "    .dataframe tbody tr th:only-of-type {\n",
              "        vertical-align: middle;\n",
              "    }\n",
              "\n",
              "    .dataframe tbody tr th {\n",
              "        vertical-align: top;\n",
              "    }\n",
              "\n",
              "    .dataframe thead th {\n",
              "        text-align: right;\n",
              "    }\n",
              "</style>\n",
              "<table border=\"1\" class=\"dataframe\">\n",
              "  <thead>\n",
              "    <tr style=\"text-align: right;\">\n",
              "      <th></th>\n",
              "      <th>sex</th>\n",
              "      <th>age</th>\n",
              "      <th>age_cat</th>\n",
              "      <th>race</th>\n",
              "      <th>juv_fel_count</th>\n",
              "      <th>decile_score</th>\n",
              "      <th>juv_misd_count</th>\n",
              "      <th>juv_other_count</th>\n",
              "      <th>priors_count</th>\n",
              "      <th>is_violent_recid</th>\n",
              "      <th>is_recid</th>\n",
              "    </tr>\n",
              "  </thead>\n",
              "  <tbody>\n",
              "    <tr>\n",
              "      <th>0</th>\n",
              "      <td>Male</td>\n",
              "      <td>69.0</td>\n",
              "      <td>Greater than 45</td>\n",
              "      <td>Other</td>\n",
              "      <td>0.0</td>\n",
              "      <td>1.0</td>\n",
              "      <td>0.0</td>\n",
              "      <td>0.0</td>\n",
              "      <td>0.0</td>\n",
              "      <td>0.0</td>\n",
              "      <td>No</td>\n",
              "    </tr>\n",
              "    <tr>\n",
              "      <th>1</th>\n",
              "      <td>Male</td>\n",
              "      <td>34.0</td>\n",
              "      <td>25 - 45</td>\n",
              "      <td>African-American</td>\n",
              "      <td>0.0</td>\n",
              "      <td>3.0</td>\n",
              "      <td>0.0</td>\n",
              "      <td>0.0</td>\n",
              "      <td>0.0</td>\n",
              "      <td>1.0</td>\n",
              "      <td>Yes</td>\n",
              "    </tr>\n",
              "    <tr>\n",
              "      <th>2</th>\n",
              "      <td>Male</td>\n",
              "      <td>24.0</td>\n",
              "      <td>Less than 25</td>\n",
              "      <td>African-American</td>\n",
              "      <td>0.0</td>\n",
              "      <td>4.0</td>\n",
              "      <td>0.0</td>\n",
              "      <td>1.0</td>\n",
              "      <td>4.0</td>\n",
              "      <td>0.0</td>\n",
              "      <td>Yes</td>\n",
              "    </tr>\n",
              "    <tr>\n",
              "      <th>3</th>\n",
              "      <td>Male</td>\n",
              "      <td>23.0</td>\n",
              "      <td>Less than 25</td>\n",
              "      <td>African-American</td>\n",
              "      <td>0.0</td>\n",
              "      <td>8.0</td>\n",
              "      <td>1.0</td>\n",
              "      <td>0.0</td>\n",
              "      <td>1.0</td>\n",
              "      <td>0.0</td>\n",
              "      <td>No</td>\n",
              "    </tr>\n",
              "    <tr>\n",
              "      <th>4</th>\n",
              "      <td>Male</td>\n",
              "      <td>43.0</td>\n",
              "      <td>25 - 45</td>\n",
              "      <td>Other</td>\n",
              "      <td>0.0</td>\n",
              "      <td>1.0</td>\n",
              "      <td>0.0</td>\n",
              "      <td>0.0</td>\n",
              "      <td>2.0</td>\n",
              "      <td>0.0</td>\n",
              "      <td>No</td>\n",
              "    </tr>\n",
              "    <tr>\n",
              "      <th>...</th>\n",
              "      <td>...</td>\n",
              "      <td>...</td>\n",
              "      <td>...</td>\n",
              "      <td>...</td>\n",
              "      <td>...</td>\n",
              "      <td>...</td>\n",
              "      <td>...</td>\n",
              "      <td>...</td>\n",
              "      <td>...</td>\n",
              "      <td>...</td>\n",
              "      <td>...</td>\n",
              "    </tr>\n",
              "    <tr>\n",
              "      <th>10200</th>\n",
              "      <td>Male</td>\n",
              "      <td>23.0</td>\n",
              "      <td>Less than 25</td>\n",
              "      <td>African-American</td>\n",
              "      <td>0.0</td>\n",
              "      <td>3.0</td>\n",
              "      <td>0.0</td>\n",
              "      <td>0.0</td>\n",
              "      <td>0.0</td>\n",
              "      <td>0.0</td>\n",
              "      <td>No</td>\n",
              "    </tr>\n",
              "    <tr>\n",
              "      <th>10201</th>\n",
              "      <td>Female</td>\n",
              "      <td>31.0</td>\n",
              "      <td>25 - 45</td>\n",
              "      <td>African-American</td>\n",
              "      <td>0.0</td>\n",
              "      <td>6.0</td>\n",
              "      <td>0.0</td>\n",
              "      <td>0.0</td>\n",
              "      <td>5.0</td>\n",
              "      <td>0.0</td>\n",
              "      <td>No</td>\n",
              "    </tr>\n",
              "    <tr>\n",
              "      <th>10202</th>\n",
              "      <td>Male</td>\n",
              "      <td>57.0</td>\n",
              "      <td>Greater than 45</td>\n",
              "      <td>Other</td>\n",
              "      <td>0.0</td>\n",
              "      <td>1.0</td>\n",
              "      <td>0.0</td>\n",
              "      <td>0.0</td>\n",
              "      <td>0.0</td>\n",
              "      <td>0.0</td>\n",
              "      <td>No</td>\n",
              "    </tr>\n",
              "    <tr>\n",
              "      <th>10203</th>\n",
              "      <td>Female</td>\n",
              "      <td>33.0</td>\n",
              "      <td>25 - 45</td>\n",
              "      <td>African-American</td>\n",
              "      <td>0.0</td>\n",
              "      <td>2.0</td>\n",
              "      <td>0.0</td>\n",
              "      <td>0.0</td>\n",
              "      <td>3.0</td>\n",
              "      <td>0.0</td>\n",
              "      <td>No</td>\n",
              "    </tr>\n",
              "    <tr>\n",
              "      <th>10204</th>\n",
              "      <td>Female</td>\n",
              "      <td>23.0</td>\n",
              "      <td>Less than 25</td>\n",
              "      <td>Hispanic</td>\n",
              "      <td>0.0</td>\n",
              "      <td>4.0</td>\n",
              "      <td>0.0</td>\n",
              "      <td>0.0</td>\n",
              "      <td>2.0</td>\n",
              "      <td>0.0</td>\n",
              "      <td>Yes</td>\n",
              "    </tr>\n",
              "  </tbody>\n",
              "</table>\n",
              "<p>10205 rows × 11 columns</p>\n",
              "</div>"
            ],
            "text/plain": [
              "          sex   age          age_cat  ... priors_count  is_violent_recid  is_recid\n",
              "0        Male  69.0  Greater than 45  ...          0.0               0.0        No\n",
              "1        Male  34.0          25 - 45  ...          0.0               1.0       Yes\n",
              "2        Male  24.0     Less than 25  ...          4.0               0.0       Yes\n",
              "3        Male  23.0     Less than 25  ...          1.0               0.0        No\n",
              "4        Male  43.0          25 - 45  ...          2.0               0.0        No\n",
              "...       ...   ...              ...  ...          ...               ...       ...\n",
              "10200    Male  23.0     Less than 25  ...          0.0               0.0        No\n",
              "10201  Female  31.0          25 - 45  ...          5.0               0.0        No\n",
              "10202    Male  57.0  Greater than 45  ...          0.0               0.0        No\n",
              "10203  Female  33.0          25 - 45  ...          3.0               0.0        No\n",
              "10204  Female  23.0     Less than 25  ...          2.0               0.0       Yes\n",
              "\n",
              "[10205 rows x 11 columns]"
            ]
          },
          "metadata": {
            "tags": []
          },
          "execution_count": 28
        }
      ]
    },
    {
      "cell_type": "code",
      "metadata": {
        "id": "ftFuGBZNK5x2",
        "colab": {
          "base_uri": "https://localhost:8080/",
          "height": 564
        },
        "outputId": "76c4e80f-354c-4ae7-b3d4-63e38b489824"
      },
      "source": [
        "# Preparing the mitigated dataset\n",
        "data_mitigated, encoders, numerical_features, categorical_features = prepare_data(decoded_df, priv_category, priv_value, target_label, \n",
        "                             priv_target_value=unencoded_target_label, ignore_cols=cols_to_drop)\n",
        "\n",
        "# Split mitigated data to train and test dataset\n",
        "data_mitigated_train, data_mitigated_test = data_mitigated.split([0.7], shuffle=True) \n",
        "\n",
        "# Retrain a model using the mitigated data\n",
        "np.random.seed(42)\n",
        "rf_mitigated = RandomForestClassifier().fit(data_mitigated_train.features, \n",
        "                     data_mitigated_train.labels.ravel(), \n",
        "                     sample_weight=data_mitigated_train.instance_weights)\n",
        "\n",
        "# Get the new probabilities and predictions using the retrained model\n",
        "probs = rf_mitigated.predict_proba(data_orig_test.features)\n",
        "preds = rf_mitigated.predict(data_orig_test.features)\n",
        "\n",
        "# Evaluate fairness given the mitigated data\n",
        "display(Markdown('# Bias metrics for the model with protected attribute: ' + priv_category))\n",
        "fair = get_fair_metrics_and_plot(data_orig_test, rf_mitigated)\n",
        "\n",
        "# Add details in the algo_metrics dataframe\n",
        "algo_metrics = add_to_df_algo_metrics(algo_metrics, rf_mitigated, fair, preds, probs, 'Reweighing')"
      ],
      "execution_count": 29,
      "outputs": [
        {
          "output_type": "display_data",
          "data": {
            "text/markdown": "# Bias metrics for the model with protected attribute: race",
            "text/plain": [
              "<IPython.core.display.Markdown object>"
            ]
          },
          "metadata": {
            "tags": []
          }
        },
        {
          "output_type": "display_data",
          "data": {
            "text/markdown": "### Check bias metrics :",
            "text/plain": [
              "<IPython.core.display.Markdown object>"
            ]
          },
          "metadata": {
            "tags": []
          }
        },
        {
          "output_type": "display_data",
          "data": {
            "text/markdown": "A model can be considered bias if just one of these five metrics show that this model is biased.",
            "text/plain": [
              "<IPython.core.display.Markdown object>"
            ]
          },
          "metadata": {
            "tags": []
          }
        },
        {
          "output_type": "display_data",
          "data": {
            "text/markdown": "#### For the race attribute :",
            "text/plain": [
              "<IPython.core.display.Markdown object>"
            ]
          },
          "metadata": {
            "tags": []
          }
        },
        {
          "output_type": "display_data",
          "data": {
            "text/markdown": "With default thresholds, bias against unprivileged group detected in **1** out of 5 metrics",
            "text/plain": [
              "<IPython.core.display.Markdown object>"
            ]
          },
          "metadata": {
            "tags": []
          }
        },
        {
          "output_type": "display_data",
          "data": {
            "text/html": [
              "<div>\n",
              "<style scoped>\n",
              "    .dataframe tbody tr th:only-of-type {\n",
              "        vertical-align: middle;\n",
              "    }\n",
              "\n",
              "    .dataframe tbody tr th {\n",
              "        vertical-align: top;\n",
              "    }\n",
              "\n",
              "    .dataframe thead th {\n",
              "        text-align: right;\n",
              "    }\n",
              "</style>\n",
              "<table border=\"1\" class=\"dataframe\">\n",
              "  <thead>\n",
              "    <tr style=\"text-align: right;\">\n",
              "      <th></th>\n",
              "      <th>statistical_parity_difference</th>\n",
              "      <th>equal_opportunity_difference</th>\n",
              "      <th>average_abs_odds_difference</th>\n",
              "      <th>disparate_impact</th>\n",
              "      <th>theil_index</th>\n",
              "    </tr>\n",
              "  </thead>\n",
              "  <tbody>\n",
              "    <tr>\n",
              "      <th>objective</th>\n",
              "      <td>0.000000</td>\n",
              "      <td>0.000000</td>\n",
              "      <td>0.000000</td>\n",
              "      <td>1.000000</td>\n",
              "      <td>0.000000</td>\n",
              "    </tr>\n",
              "    <tr>\n",
              "      <th>race</th>\n",
              "      <td>-0.110744</td>\n",
              "      <td>-0.032078</td>\n",
              "      <td>0.057604</td>\n",
              "      <td>0.852715</td>\n",
              "      <td>0.080127</td>\n",
              "    </tr>\n",
              "  </tbody>\n",
              "</table>\n",
              "</div>"
            ],
            "text/plain": [
              "           statistical_parity_difference  ...  theil_index\n",
              "objective                       0.000000  ...     0.000000\n",
              "race                           -0.110744  ...     0.080127\n",
              "\n",
              "[2 rows x 5 columns]"
            ]
          },
          "metadata": {
            "tags": []
          }
        },
        {
          "output_type": "display_data",
          "data": {
            "image/png": "[encoded data removed]",
            "text/plain": [
              "<Figure size 1440x288 with 5 Axes>"
            ]
          },
          "metadata": {
            "tags": []
          }
        }
      ]
    },
    {
      "cell_type": "markdown",
      "metadata": {
        "id": "qorioKtzQALs"
      },
      "source": [
        "## In-process Algorithm\n",
        "The `original training dataset` is fed on the mitigation tool and transformed into a readable dataframe. The mitigated data will then be again processed into the standard format and retrain a new model using this mitigated data. This mitigated model will then be reavaluated with the fairness metrics. Probabilities and predictions using the mitigated models were also then derived and inlcuded in the master dataframe called `algo_metrics`."
      ]
    },
    {
      "cell_type": "markdown",
      "metadata": {
        "id": "Xs9Zwg7dQAMA"
      },
      "source": [
        "\n",
        "### Prejudice Remover Regularizer\n",
        "\n",
        "Prejudice remover is an in-processing technique that adds a discrimination-aware regularization term to the learning objective.\n",
        "\n",
        "Source : [Kamishima et al., 2012](https://rd.springer.com/chapter/10.1007/978-3-642-33486-3_3)"
      ]
    },
    {
      "cell_type": "code",
      "metadata": {
        "id": "EKt3HF96K8J3",
        "colab": {
          "base_uri": "https://localhost:8080/"
        },
        "outputId": "987a87cc-39d7-426e-8b6f-a84ee2e04443"
      },
      "source": [
        "%%time\n",
        "data_transf_train_df, data_transf_test_df = prejudice_remover(data_orig_train, data_orig_test, priv_category, eta=25)"
      ],
      "execution_count": 31,
      "outputs": [
        {
          "output_type": "stream",
          "text": [
            "CPU times: user 269 ms, sys: 45.5 ms, total: 315 ms\n",
            "Wall time: 30.1 s\n"
          ],
          "name": "stdout"
        }
      ]
    },
    {
      "cell_type": "code",
      "metadata": {
        "id": "bO6ZFgUVQAMD",
        "colab": {
          "base_uri": "https://localhost:8080/",
          "height": 609
        },
        "outputId": "bf243375-c98f-46b0-ea70-ecad0f14ee17"
      },
      "source": [
        "# Decode to pandas dataframe using encoders from preprocessed data\n",
        "decoded_train_df = decode_dataset(data_transf_train_df, encoders_orig, numerical_features_orig, categorical_features_orig)\n",
        "decoded_train_df"
      ],
      "execution_count": 32,
      "outputs": [
        {
          "output_type": "execute_result",
          "data": {
            "text/html": [
              "<div>\n",
              "<style scoped>\n",
              "    .dataframe tbody tr th:only-of-type {\n",
              "        vertical-align: middle;\n",
              "    }\n",
              "\n",
              "    .dataframe tbody tr th {\n",
              "        vertical-align: top;\n",
              "    }\n",
              "\n",
              "    .dataframe thead th {\n",
              "        text-align: right;\n",
              "    }\n",
              "</style>\n",
              "<table border=\"1\" class=\"dataframe\">\n",
              "  <thead>\n",
              "    <tr style=\"text-align: right;\">\n",
              "      <th></th>\n",
              "      <th>sex</th>\n",
              "      <th>age</th>\n",
              "      <th>age_cat</th>\n",
              "      <th>race</th>\n",
              "      <th>juv_fel_count</th>\n",
              "      <th>decile_score</th>\n",
              "      <th>juv_misd_count</th>\n",
              "      <th>juv_other_count</th>\n",
              "      <th>priors_count</th>\n",
              "      <th>is_violent_recid</th>\n",
              "      <th>is_recid</th>\n",
              "    </tr>\n",
              "  </thead>\n",
              "  <tbody>\n",
              "    <tr>\n",
              "      <th>5140</th>\n",
              "      <td>Male</td>\n",
              "      <td>55.0</td>\n",
              "      <td>Greater than 45</td>\n",
              "      <td>Caucasian</td>\n",
              "      <td>0.0</td>\n",
              "      <td>1.0</td>\n",
              "      <td>0.0</td>\n",
              "      <td>0.0</td>\n",
              "      <td>0.0</td>\n",
              "      <td>0.0</td>\n",
              "      <td>Yes</td>\n",
              "    </tr>\n",
              "    <tr>\n",
              "      <th>6192</th>\n",
              "      <td>Male</td>\n",
              "      <td>45.0</td>\n",
              "      <td>Greater than 45</td>\n",
              "      <td>Caucasian</td>\n",
              "      <td>0.0</td>\n",
              "      <td>1.0</td>\n",
              "      <td>0.0</td>\n",
              "      <td>0.0</td>\n",
              "      <td>1.0</td>\n",
              "      <td>0.0</td>\n",
              "      <td>Yes</td>\n",
              "    </tr>\n",
              "    <tr>\n",
              "      <th>1087</th>\n",
              "      <td>Male</td>\n",
              "      <td>37.0</td>\n",
              "      <td>25 - 45</td>\n",
              "      <td>African-American</td>\n",
              "      <td>0.0</td>\n",
              "      <td>2.0</td>\n",
              "      <td>0.0</td>\n",
              "      <td>0.0</td>\n",
              "      <td>4.0</td>\n",
              "      <td>0.0</td>\n",
              "      <td>Yes</td>\n",
              "    </tr>\n",
              "    <tr>\n",
              "      <th>2245</th>\n",
              "      <td>Male</td>\n",
              "      <td>45.0</td>\n",
              "      <td>Greater than 45</td>\n",
              "      <td>Caucasian</td>\n",
              "      <td>0.0</td>\n",
              "      <td>1.0</td>\n",
              "      <td>0.0</td>\n",
              "      <td>0.0</td>\n",
              "      <td>8.0</td>\n",
              "      <td>0.0</td>\n",
              "      <td>Yes</td>\n",
              "    </tr>\n",
              "    <tr>\n",
              "      <th>10063</th>\n",
              "      <td>Female</td>\n",
              "      <td>29.0</td>\n",
              "      <td>25 - 45</td>\n",
              "      <td>African-American</td>\n",
              "      <td>0.0</td>\n",
              "      <td>3.0</td>\n",
              "      <td>0.0</td>\n",
              "      <td>0.0</td>\n",
              "      <td>2.0</td>\n",
              "      <td>0.0</td>\n",
              "      <td>Yes</td>\n",
              "    </tr>\n",
              "    <tr>\n",
              "      <th>...</th>\n",
              "      <td>...</td>\n",
              "      <td>...</td>\n",
              "      <td>...</td>\n",
              "      <td>...</td>\n",
              "      <td>...</td>\n",
              "      <td>...</td>\n",
              "      <td>...</td>\n",
              "      <td>...</td>\n",
              "      <td>...</td>\n",
              "      <td>...</td>\n",
              "      <td>...</td>\n",
              "    </tr>\n",
              "    <tr>\n",
              "      <th>8603</th>\n",
              "      <td>Male</td>\n",
              "      <td>39.0</td>\n",
              "      <td>25 - 45</td>\n",
              "      <td>African-American</td>\n",
              "      <td>0.0</td>\n",
              "      <td>9.0</td>\n",
              "      <td>0.0</td>\n",
              "      <td>0.0</td>\n",
              "      <td>4.0</td>\n",
              "      <td>0.0</td>\n",
              "      <td>Yes</td>\n",
              "    </tr>\n",
              "    <tr>\n",
              "      <th>9512</th>\n",
              "      <td>Male</td>\n",
              "      <td>39.0</td>\n",
              "      <td>25 - 45</td>\n",
              "      <td>African-American</td>\n",
              "      <td>0.0</td>\n",
              "      <td>6.0</td>\n",
              "      <td>0.0</td>\n",
              "      <td>0.0</td>\n",
              "      <td>1.0</td>\n",
              "      <td>0.0</td>\n",
              "      <td>Yes</td>\n",
              "    </tr>\n",
              "    <tr>\n",
              "      <th>5659</th>\n",
              "      <td>Male</td>\n",
              "      <td>34.0</td>\n",
              "      <td>25 - 45</td>\n",
              "      <td>African-American</td>\n",
              "      <td>0.0</td>\n",
              "      <td>1.0</td>\n",
              "      <td>0.0</td>\n",
              "      <td>0.0</td>\n",
              "      <td>0.0</td>\n",
              "      <td>0.0</td>\n",
              "      <td>Yes</td>\n",
              "    </tr>\n",
              "    <tr>\n",
              "      <th>6856</th>\n",
              "      <td>Male</td>\n",
              "      <td>63.0</td>\n",
              "      <td>Greater than 45</td>\n",
              "      <td>African-American</td>\n",
              "      <td>0.0</td>\n",
              "      <td>6.0</td>\n",
              "      <td>0.0</td>\n",
              "      <td>0.0</td>\n",
              "      <td>8.0</td>\n",
              "      <td>0.0</td>\n",
              "      <td>Yes</td>\n",
              "    </tr>\n",
              "    <tr>\n",
              "      <th>3189</th>\n",
              "      <td>Male</td>\n",
              "      <td>46.0</td>\n",
              "      <td>Greater than 45</td>\n",
              "      <td>Caucasian</td>\n",
              "      <td>0.0</td>\n",
              "      <td>2.0</td>\n",
              "      <td>0.0</td>\n",
              "      <td>0.0</td>\n",
              "      <td>2.0</td>\n",
              "      <td>0.0</td>\n",
              "      <td>Yes</td>\n",
              "    </tr>\n",
              "  </tbody>\n",
              "</table>\n",
              "<p>7143 rows × 11 columns</p>\n",
              "</div>"
            ],
            "text/plain": [
              "          sex   age          age_cat  ... priors_count  is_violent_recid  is_recid\n",
              "5140     Male  55.0  Greater than 45  ...          0.0               0.0       Yes\n",
              "6192     Male  45.0  Greater than 45  ...          1.0               0.0       Yes\n",
              "1087     Male  37.0          25 - 45  ...          4.0               0.0       Yes\n",
              "2245     Male  45.0  Greater than 45  ...          8.0               0.0       Yes\n",
              "10063  Female  29.0          25 - 45  ...          2.0               0.0       Yes\n",
              "...       ...   ...              ...  ...          ...               ...       ...\n",
              "8603     Male  39.0          25 - 45  ...          4.0               0.0       Yes\n",
              "9512     Male  39.0          25 - 45  ...          1.0               0.0       Yes\n",
              "5659     Male  34.0          25 - 45  ...          0.0               0.0       Yes\n",
              "6856     Male  63.0  Greater than 45  ...          8.0               0.0       Yes\n",
              "3189     Male  46.0  Greater than 45  ...          2.0               0.0       Yes\n",
              "\n",
              "[7143 rows x 11 columns]"
            ]
          },
          "metadata": {
            "tags": []
          },
          "execution_count": 32
        }
      ]
    },
    {
      "cell_type": "code",
      "metadata": {
        "id": "LFVKwlLsLbtO",
        "colab": {
          "base_uri": "https://localhost:8080/",
          "height": 575
        },
        "outputId": "486078df-2867-45c8-a962-5e816809ce58"
      },
      "source": [
        "# Decode to pandas dataframe using encoders from preprocessed data\n",
        "decoded_test_df = decode_dataset(data_transf_test_df, encoders_orig, numerical_features_orig, categorical_features_orig)\n",
        "decoded_test_df"
      ],
      "execution_count": 33,
      "outputs": [
        {
          "output_type": "execute_result",
          "data": {
            "text/html": [
              "<div>\n",
              "<style scoped>\n",
              "    .dataframe tbody tr th:only-of-type {\n",
              "        vertical-align: middle;\n",
              "    }\n",
              "\n",
              "    .dataframe tbody tr th {\n",
              "        vertical-align: top;\n",
              "    }\n",
              "\n",
              "    .dataframe thead th {\n",
              "        text-align: right;\n",
              "    }\n",
              "</style>\n",
              "<table border=\"1\" class=\"dataframe\">\n",
              "  <thead>\n",
              "    <tr style=\"text-align: right;\">\n",
              "      <th></th>\n",
              "      <th>sex</th>\n",
              "      <th>age</th>\n",
              "      <th>age_cat</th>\n",
              "      <th>race</th>\n",
              "      <th>juv_fel_count</th>\n",
              "      <th>decile_score</th>\n",
              "      <th>juv_misd_count</th>\n",
              "      <th>juv_other_count</th>\n",
              "      <th>priors_count</th>\n",
              "      <th>is_violent_recid</th>\n",
              "      <th>is_recid</th>\n",
              "    </tr>\n",
              "  </thead>\n",
              "  <tbody>\n",
              "    <tr>\n",
              "      <th>10172</th>\n",
              "      <td>Male</td>\n",
              "      <td>22.0</td>\n",
              "      <td>Less than 25</td>\n",
              "      <td>African-American</td>\n",
              "      <td>0.0</td>\n",
              "      <td>6.0</td>\n",
              "      <td>0.0</td>\n",
              "      <td>0.0</td>\n",
              "      <td>4.0</td>\n",
              "      <td>0.0</td>\n",
              "      <td>Yes</td>\n",
              "    </tr>\n",
              "    <tr>\n",
              "      <th>4305</th>\n",
              "      <td>Male</td>\n",
              "      <td>49.0</td>\n",
              "      <td>Greater than 45</td>\n",
              "      <td>Caucasian</td>\n",
              "      <td>0.0</td>\n",
              "      <td>6.0</td>\n",
              "      <td>0.0</td>\n",
              "      <td>0.0</td>\n",
              "      <td>5.0</td>\n",
              "      <td>0.0</td>\n",
              "      <td>Yes</td>\n",
              "    </tr>\n",
              "    <tr>\n",
              "      <th>909</th>\n",
              "      <td>Male</td>\n",
              "      <td>53.0</td>\n",
              "      <td>Greater than 45</td>\n",
              "      <td>Hispanic</td>\n",
              "      <td>0.0</td>\n",
              "      <td>1.0</td>\n",
              "      <td>0.0</td>\n",
              "      <td>0.0</td>\n",
              "      <td>0.0</td>\n",
              "      <td>0.0</td>\n",
              "      <td>Yes</td>\n",
              "    </tr>\n",
              "    <tr>\n",
              "      <th>5385</th>\n",
              "      <td>Male</td>\n",
              "      <td>21.0</td>\n",
              "      <td>Less than 25</td>\n",
              "      <td>Caucasian</td>\n",
              "      <td>0.0</td>\n",
              "      <td>7.0</td>\n",
              "      <td>0.0</td>\n",
              "      <td>0.0</td>\n",
              "      <td>2.0</td>\n",
              "      <td>0.0</td>\n",
              "      <td>Yes</td>\n",
              "    </tr>\n",
              "    <tr>\n",
              "      <th>1996</th>\n",
              "      <td>Male</td>\n",
              "      <td>41.0</td>\n",
              "      <td>25 - 45</td>\n",
              "      <td>African-American</td>\n",
              "      <td>0.0</td>\n",
              "      <td>7.0</td>\n",
              "      <td>0.0</td>\n",
              "      <td>0.0</td>\n",
              "      <td>7.0</td>\n",
              "      <td>0.0</td>\n",
              "      <td>Yes</td>\n",
              "    </tr>\n",
              "    <tr>\n",
              "      <th>...</th>\n",
              "      <td>...</td>\n",
              "      <td>...</td>\n",
              "      <td>...</td>\n",
              "      <td>...</td>\n",
              "      <td>...</td>\n",
              "      <td>...</td>\n",
              "      <td>...</td>\n",
              "      <td>...</td>\n",
              "      <td>...</td>\n",
              "      <td>...</td>\n",
              "      <td>...</td>\n",
              "    </tr>\n",
              "    <tr>\n",
              "      <th>5734</th>\n",
              "      <td>Male</td>\n",
              "      <td>45.0</td>\n",
              "      <td>Greater than 45</td>\n",
              "      <td>Caucasian</td>\n",
              "      <td>0.0</td>\n",
              "      <td>2.0</td>\n",
              "      <td>0.0</td>\n",
              "      <td>0.0</td>\n",
              "      <td>7.0</td>\n",
              "      <td>0.0</td>\n",
              "      <td>Yes</td>\n",
              "    </tr>\n",
              "    <tr>\n",
              "      <th>5191</th>\n",
              "      <td>Male</td>\n",
              "      <td>57.0</td>\n",
              "      <td>Greater than 45</td>\n",
              "      <td>African-American</td>\n",
              "      <td>0.0</td>\n",
              "      <td>5.0</td>\n",
              "      <td>0.0</td>\n",
              "      <td>0.0</td>\n",
              "      <td>9.0</td>\n",
              "      <td>0.0</td>\n",
              "      <td>Yes</td>\n",
              "    </tr>\n",
              "    <tr>\n",
              "      <th>5390</th>\n",
              "      <td>Male</td>\n",
              "      <td>24.0</td>\n",
              "      <td>Less than 25</td>\n",
              "      <td>African-American</td>\n",
              "      <td>0.0</td>\n",
              "      <td>9.0</td>\n",
              "      <td>0.0</td>\n",
              "      <td>0.0</td>\n",
              "      <td>11.0</td>\n",
              "      <td>0.0</td>\n",
              "      <td>No</td>\n",
              "    </tr>\n",
              "    <tr>\n",
              "      <th>860</th>\n",
              "      <td>Male</td>\n",
              "      <td>28.0</td>\n",
              "      <td>25 - 45</td>\n",
              "      <td>Caucasian</td>\n",
              "      <td>0.0</td>\n",
              "      <td>9.0</td>\n",
              "      <td>0.0</td>\n",
              "      <td>0.0</td>\n",
              "      <td>1.0</td>\n",
              "      <td>0.0</td>\n",
              "      <td>Yes</td>\n",
              "    </tr>\n",
              "    <tr>\n",
              "      <th>7270</th>\n",
              "      <td>Male</td>\n",
              "      <td>34.0</td>\n",
              "      <td>25 - 45</td>\n",
              "      <td>Caucasian</td>\n",
              "      <td>0.0</td>\n",
              "      <td>5.0</td>\n",
              "      <td>0.0</td>\n",
              "      <td>0.0</td>\n",
              "      <td>4.0</td>\n",
              "      <td>0.0</td>\n",
              "      <td>Yes</td>\n",
              "    </tr>\n",
              "  </tbody>\n",
              "</table>\n",
              "<p>3062 rows × 11 columns</p>\n",
              "</div>"
            ],
            "text/plain": [
              "        sex   age          age_cat  ... priors_count  is_violent_recid  is_recid\n",
              "10172  Male  22.0     Less than 25  ...          4.0               0.0       Yes\n",
              "4305   Male  49.0  Greater than 45  ...          5.0               0.0       Yes\n",
              "909    Male  53.0  Greater than 45  ...          0.0               0.0       Yes\n",
              "5385   Male  21.0     Less than 25  ...          2.0               0.0       Yes\n",
              "1996   Male  41.0          25 - 45  ...          7.0               0.0       Yes\n",
              "...     ...   ...              ...  ...          ...               ...       ...\n",
              "5734   Male  45.0  Greater than 45  ...          7.0               0.0       Yes\n",
              "5191   Male  57.0  Greater than 45  ...          9.0               0.0       Yes\n",
              "5390   Male  24.0     Less than 25  ...         11.0               0.0        No\n",
              "860    Male  28.0          25 - 45  ...          1.0               0.0       Yes\n",
              "7270   Male  34.0          25 - 45  ...          4.0               0.0       Yes\n",
              "\n",
              "[3062 rows x 11 columns]"
            ]
          },
          "metadata": {
            "tags": []
          },
          "execution_count": 33
        }
      ]
    },
    {
      "cell_type": "code",
      "metadata": {
        "id": "bjbmStkCLnfy",
        "colab": {
          "base_uri": "https://localhost:8080/",
          "height": 564
        },
        "outputId": "a7a4a222-aa3b-47b2-e814-51d4472c4fa2"
      },
      "source": [
        "# preparing the mitigated dataset\n",
        "data_mitigated_train, encoders, numerical_features, categorical_features = prepare_data(decoded_train_df, priv_category, priv_value, target_label, \n",
        "                             priv_target_value=unencoded_target_label, ignore_cols=cols_to_drop)\n",
        "\n",
        "# Retrain a model using the mitigated data\n",
        "rf_mitigated = RandomForestClassifier().fit(data_mitigated_train.features, \n",
        "                     data_mitigated_train.labels.ravel(), \n",
        "                     sample_weight=data_mitigated_train.instance_weights)\n",
        "\n",
        "\n",
        "# Get the new probabilities and predictions using the retrained model\n",
        "probs = rf_mitigated.predict_proba(data_orig_test.features)\n",
        "preds = rf_mitigated.predict(data_orig_test.features)\n",
        "\n",
        "# Evaluate fairness given the mitigated data\n",
        "display(Markdown('# Bias metrics for the model with protected attribute: ' + priv_category))\n",
        "fair = get_fair_metrics_and_plot(data_orig_test, rf_mitigated)\n",
        "\n",
        "# Add details in the algo_metrics dataframe\n",
        "algo_metrics = add_to_df_algo_metrics(algo_metrics, rf_mitigated, fair, preds, probs, 'Prejudice Remover Regularizer')"
      ],
      "execution_count": 34,
      "outputs": [
        {
          "output_type": "display_data",
          "data": {
            "text/markdown": "# Bias metrics for the model with protected attribute: race",
            "text/plain": [
              "<IPython.core.display.Markdown object>"
            ]
          },
          "metadata": {
            "tags": []
          }
        },
        {
          "output_type": "display_data",
          "data": {
            "text/markdown": "### Check bias metrics :",
            "text/plain": [
              "<IPython.core.display.Markdown object>"
            ]
          },
          "metadata": {
            "tags": []
          }
        },
        {
          "output_type": "display_data",
          "data": {
            "text/markdown": "A model can be considered bias if just one of these five metrics show that this model is biased.",
            "text/plain": [
              "<IPython.core.display.Markdown object>"
            ]
          },
          "metadata": {
            "tags": []
          }
        },
        {
          "output_type": "display_data",
          "data": {
            "text/markdown": "#### For the race attribute :",
            "text/plain": [
              "<IPython.core.display.Markdown object>"
            ]
          },
          "metadata": {
            "tags": []
          }
        },
        {
          "output_type": "display_data",
          "data": {
            "text/markdown": "With default thresholds, bias against unprivileged group detected in **3** out of 5 metrics",
            "text/plain": [
              "<IPython.core.display.Markdown object>"
            ]
          },
          "metadata": {
            "tags": []
          }
        },
        {
          "output_type": "display_data",
          "data": {
            "text/html": [
              "<div>\n",
              "<style scoped>\n",
              "    .dataframe tbody tr th:only-of-type {\n",
              "        vertical-align: middle;\n",
              "    }\n",
              "\n",
              "    .dataframe tbody tr th {\n",
              "        vertical-align: top;\n",
              "    }\n",
              "\n",
              "    .dataframe thead th {\n",
              "        text-align: right;\n",
              "    }\n",
              "</style>\n",
              "<table border=\"1\" class=\"dataframe\">\n",
              "  <thead>\n",
              "    <tr style=\"text-align: right;\">\n",
              "      <th></th>\n",
              "      <th>statistical_parity_difference</th>\n",
              "      <th>equal_opportunity_difference</th>\n",
              "      <th>average_abs_odds_difference</th>\n",
              "      <th>disparate_impact</th>\n",
              "      <th>theil_index</th>\n",
              "    </tr>\n",
              "  </thead>\n",
              "  <tbody>\n",
              "    <tr>\n",
              "      <th>objective</th>\n",
              "      <td>0.000000</td>\n",
              "      <td>0.000000</td>\n",
              "      <td>0.000000</td>\n",
              "      <td>1.000000</td>\n",
              "      <td>0.000000</td>\n",
              "    </tr>\n",
              "    <tr>\n",
              "      <th>race</th>\n",
              "      <td>0.112632</td>\n",
              "      <td>0.057136</td>\n",
              "      <td>0.097467</td>\n",
              "      <td>2.209069</td>\n",
              "      <td>1.054776</td>\n",
              "    </tr>\n",
              "  </tbody>\n",
              "</table>\n",
              "</div>"
            ],
            "text/plain": [
              "           statistical_parity_difference  ...  theil_index\n",
              "objective                       0.000000  ...     0.000000\n",
              "race                            0.112632  ...     1.054776\n",
              "\n",
              "[2 rows x 5 columns]"
            ]
          },
          "metadata": {
            "tags": []
          }
        },
        {
          "output_type": "display_data",
          "data": {
            "image/png": "[encoded data removed]",
            "text/plain": [
              "<Figure size 1440x288 with 5 Axes>"
            ]
          },
          "metadata": {
            "tags": []
          }
        }
      ]
    },
    {
      "cell_type": "markdown",
      "metadata": {
        "id": "pNvY-BcWQAMQ"
      },
      "source": [
        "## Post-processing algorithm\n",
        "\n",
        "### Calibrated Equality of Odds\n",
        "\n",
        "Calibrated equalized odds postprocessing is a post-processing technique that optimizes over calibrated classifier score outputs to find probabilities with which to change output labels with an equalized odds objective.\n",
        "\n",
        "Source : [Pleiss et al., 2017](https://papers.nips.cc/paper/7151-on-fairness-and-calibration)"
      ]
    },
    {
      "cell_type": "markdown",
      "metadata": {
        "id": "ZmfViF2tpJyp"
      },
      "source": [
        "For post-processing, a different way of preparation is needed. `Predictions and scores` are also formated which will be done in the next cell. Along with the original training and testing dataset, the original testing predictions are fed on the mitigation tool."
      ]
    },
    {
      "cell_type": "code",
      "metadata": {
        "id": "S-riRtbwBKVh"
      },
      "source": [
        "data_orig_test_pred = data_orig_test.copy(deepcopy=True)\n",
        "\n",
        "# Prediction with the original RandomForest model\n",
        "scores = np.zeros_like(data_orig_test.labels)\n",
        "scores = rf_orig_model.predict_proba(data_orig_test.features)[:,1].reshape(-1,1)\n",
        "data_orig_test_pred.scores = scores\n",
        "\n",
        "preds = np.zeros_like(data_orig_test.labels)\n",
        "preds = rf_orig_model.predict(data_orig_test.features).reshape(-1,1)\n",
        "data_orig_test_pred.labels = preds\n",
        "\n",
        "def format_probs(probs1):\n",
        "    probs1 = np.array(probs1)\n",
        "    probs0 = np.array(1-probs1)\n",
        "    return np.concatenate((probs0, probs1), axis=1)"
      ],
      "execution_count": 36,
      "outputs": []
    },
    {
      "cell_type": "markdown",
      "metadata": {
        "id": "QTdH1QroHyXc"
      },
      "source": [
        "### Calibrated Equality of Odds"
      ]
    },
    {
      "cell_type": "code",
      "metadata": {
        "id": "v13quPTMQAMa",
        "colab": {
          "base_uri": "https://localhost:8080/"
        },
        "outputId": "cf900e9c-7d9d-4046-b0bc-fb1e65b83161"
      },
      "source": [
        "%%time\n",
        "data_trans_pred, CPP = calibrate_equality_of_odds(data_orig_train, data_orig_test, data_orig_test_pred, priv_category)"
      ],
      "execution_count": 37,
      "outputs": [
        {
          "output_type": "stream",
          "text": [
            "CPU times: user 41.7 ms, sys: 2.6 ms, total: 44.3 ms\n",
            "Wall time: 47.2 ms\n"
          ],
          "name": "stdout"
        }
      ]
    },
    {
      "cell_type": "code",
      "metadata": {
        "id": "q93o2i9r6UTU",
        "colab": {
          "base_uri": "https://localhost:8080/",
          "height": 188
        },
        "outputId": "e4ff658b-9fe0-4e2c-9a28-c13673de209c"
      },
      "source": [
        "#fair = fair_metrics(data_orig_test, data_orig_test_pred, pred_is_dataset=True)\n",
        "display(Markdown('# Bias metrics for the model with protected attribute: ' + priv_category))\n",
        "fair = get_fair_metrics(data_orig_test, data_trans_pred, pred_is_dataset=True)\n",
        "\n",
        "# Add details in the algo_metrics dataframe\n",
        "algo_metrics = add_to_df_algo_metrics(algo_metrics, CPP, fair, data_trans_pred.labels, format_probs(data_trans_pred.scores), 'Calibrated Equality of Odds')\n",
        "\n",
        "fair"
      ],
      "execution_count": 38,
      "outputs": [
        {
          "output_type": "display_data",
          "data": {
            "text/markdown": "# Bias metrics for the model with protected attribute: race",
            "text/plain": [
              "<IPython.core.display.Markdown object>"
            ]
          },
          "metadata": {
            "tags": []
          }
        },
        {
          "output_type": "execute_result",
          "data": {
            "text/html": [
              "<div>\n",
              "<style scoped>\n",
              "    .dataframe tbody tr th:only-of-type {\n",
              "        vertical-align: middle;\n",
              "    }\n",
              "\n",
              "    .dataframe tbody tr th {\n",
              "        vertical-align: top;\n",
              "    }\n",
              "\n",
              "    .dataframe thead th {\n",
              "        text-align: right;\n",
              "    }\n",
              "</style>\n",
              "<table border=\"1\" class=\"dataframe\">\n",
              "  <thead>\n",
              "    <tr style=\"text-align: right;\">\n",
              "      <th></th>\n",
              "      <th>statistical_parity_difference</th>\n",
              "      <th>equal_opportunity_difference</th>\n",
              "      <th>average_abs_odds_difference</th>\n",
              "      <th>disparate_impact</th>\n",
              "      <th>theil_index</th>\n",
              "    </tr>\n",
              "  </thead>\n",
              "  <tbody>\n",
              "    <tr>\n",
              "      <th>objective</th>\n",
              "      <td>0.000000</td>\n",
              "      <td>0.000000</td>\n",
              "      <td>0.000000</td>\n",
              "      <td>1.0</td>\n",
              "      <td>0.000000</td>\n",
              "    </tr>\n",
              "    <tr>\n",
              "      <th>race</th>\n",
              "      <td>-0.206274</td>\n",
              "      <td>-0.129555</td>\n",
              "      <td>0.259311</td>\n",
              "      <td>0.0</td>\n",
              "      <td>1.021985</td>\n",
              "    </tr>\n",
              "  </tbody>\n",
              "</table>\n",
              "</div>"
            ],
            "text/plain": [
              "           statistical_parity_difference  ...  theil_index\n",
              "objective                       0.000000  ...     0.000000\n",
              "race                           -0.206274  ...     1.021985\n",
              "\n",
              "[2 rows x 5 columns]"
            ]
          },
          "metadata": {
            "tags": []
          },
          "execution_count": 38
        }
      ]
    },
    {
      "cell_type": "markdown",
      "metadata": {
        "id": "o_v4HJI4qMdK"
      },
      "source": [
        "# Backend Helper Tools\n",
        "The following codes creates tables that are extracted from the `algo_metrics` master dataframe and exports it into a csv/json file. These are then used for creating visualization reports in the parity platform."
      ]
    },
    {
      "cell_type": "markdown",
      "metadata": {
        "id": "-_WeFmSPwqCl"
      },
      "source": [
        "## Compare Bias Metric Results\n",
        "The next cell creates a new table consisting each mitigation tool and its corresponding new results of the different fairness metrics."
      ]
    },
    {
      "cell_type": "code",
      "metadata": {
        "id": "9liPQZCLjV6K",
        "colab": {
          "base_uri": "https://localhost:8080/",
          "height": 374
        },
        "outputId": "f398afd4-f7b7-444a-a926-5905ae732cd0"
      },
      "source": [
        "compare_df = compare_fair_metrics(algo_metrics, priv_category)\n",
        "compare_df"
      ],
      "execution_count": 40,
      "outputs": [
        {
          "output_type": "execute_result",
          "data": {
            "text/html": [
              "<div>\n",
              "<style scoped>\n",
              "    .dataframe tbody tr th:only-of-type {\n",
              "        vertical-align: middle;\n",
              "    }\n",
              "\n",
              "    .dataframe tbody tr th {\n",
              "        vertical-align: top;\n",
              "    }\n",
              "\n",
              "    .dataframe thead th {\n",
              "        text-align: right;\n",
              "    }\n",
              "</style>\n",
              "<table border=\"1\" class=\"dataframe\">\n",
              "  <thead>\n",
              "    <tr style=\"text-align: right;\">\n",
              "      <th></th>\n",
              "      <th>statistical_parity_difference</th>\n",
              "      <th>equal_opportunity_difference</th>\n",
              "      <th>average_abs_odds_difference</th>\n",
              "      <th>disparate_impact</th>\n",
              "      <th>theil_index</th>\n",
              "    </tr>\n",
              "  </thead>\n",
              "  <tbody>\n",
              "    <tr>\n",
              "      <th>Origin</th>\n",
              "      <td>-0.140322</td>\n",
              "      <td>-0.088268</td>\n",
              "      <td>0.123412</td>\n",
              "      <td>0.823634</td>\n",
              "      <td>0.164798</td>\n",
              "    </tr>\n",
              "    <tr>\n",
              "      <th>Disparate Impact Remover</th>\n",
              "      <td>-0.200043</td>\n",
              "      <td>-0.150399</td>\n",
              "      <td>0.182142</td>\n",
              "      <td>0.756992</td>\n",
              "      <td>0.165682</td>\n",
              "    </tr>\n",
              "    <tr>\n",
              "      <th>Learning Fair Representation</th>\n",
              "      <td>0.000000</td>\n",
              "      <td>0.000000</td>\n",
              "      <td>0.000000</td>\n",
              "      <td>NaN</td>\n",
              "      <td>1.077926</td>\n",
              "    </tr>\n",
              "    <tr>\n",
              "      <th>Reweighing</th>\n",
              "      <td>-0.110744</td>\n",
              "      <td>-0.032078</td>\n",
              "      <td>0.057604</td>\n",
              "      <td>0.852715</td>\n",
              "      <td>0.080127</td>\n",
              "    </tr>\n",
              "    <tr>\n",
              "      <th>Prejudice Remover Regularizer</th>\n",
              "      <td>0.112632</td>\n",
              "      <td>0.057136</td>\n",
              "      <td>0.097467</td>\n",
              "      <td>2.209069</td>\n",
              "      <td>1.054776</td>\n",
              "    </tr>\n",
              "    <tr>\n",
              "      <th>Calibrated Equality of Odds</th>\n",
              "      <td>-0.206274</td>\n",
              "      <td>-0.129555</td>\n",
              "      <td>0.259311</td>\n",
              "      <td>0.000000</td>\n",
              "      <td>1.021985</td>\n",
              "    </tr>\n",
              "  </tbody>\n",
              "</table>\n",
              "</div>"
            ],
            "text/plain": [
              "                               statistical_parity_difference  ...  theil_index\n",
              "Origin                                             -0.140322  ...     0.164798\n",
              "Disparate Impact Remover                           -0.200043  ...     0.165682\n",
              "Learning Fair Representation                        0.000000  ...     1.077926\n",
              "Reweighing                                         -0.110744  ...     0.080127\n",
              "Prejudice Remover Regularizer                       0.112632  ...     1.054776\n",
              "Calibrated Equality of Odds                        -0.206274  ...     1.021985\n",
              "\n",
              "[6 rows x 5 columns]"
            ]
          },
          "metadata": {
            "tags": []
          },
          "execution_count": 40
        }
      ]
    },
    {
      "cell_type": "markdown",
      "metadata": {
        "id": "AGZ-A6usx-3E"
      },
      "source": [
        "## Additional Columns\n",
        "Succeeding cells add new columns that store the percentage change of the different fairness metric results after mitigation, using `Origin` (which contains the metric results before mitigation). Another column to add is the `target_value` which is the metric value that reflects a completely no bias. While `upper_bound` and `lower_bound` are values of the threshold or boundaries that determines whether results shows"
      ]
    },
    {
      "cell_type": "markdown",
      "metadata": {
        "id": "jms5kCdV6nqj"
      },
      "source": [
        "Put metrics in a list"
      ]
    },
    {
      "cell_type": "code",
      "metadata": {
        "id": "BkTfm8BoLpe0"
      },
      "source": [
        "all_metrics = list(compare_df.columns)"
      ],
      "execution_count": 43,
      "outputs": []
    },
    {
      "cell_type": "markdown",
      "metadata": {
        "id": "7cf5Lr-36knb"
      },
      "source": [
        "Get all the percentage difference of the metric results per mitigation"
      ]
    },
    {
      "cell_type": "code",
      "metadata": {
        "id": "ilReWwON5ZD7",
        "colab": {
          "base_uri": "https://localhost:8080/",
          "height": 374
        },
        "outputId": "8316f753-b101-4a6a-cfb0-751b630855f1"
      },
      "source": [
        "for metric in all_metrics:\n",
        "  compare_df[metric+'_%change'] = compare_df[metric].apply(lambda x: round((abs(abs(compare_df.loc['Origin', metric]) - abs(x)) * 100), 2))\n",
        "compare_df"
      ],
      "execution_count": 44,
      "outputs": [
        {
          "output_type": "execute_result",
          "data": {
            "text/html": [
              "<div>\n",
              "<style scoped>\n",
              "    .dataframe tbody tr th:only-of-type {\n",
              "        vertical-align: middle;\n",
              "    }\n",
              "\n",
              "    .dataframe tbody tr th {\n",
              "        vertical-align: top;\n",
              "    }\n",
              "\n",
              "    .dataframe thead th {\n",
              "        text-align: right;\n",
              "    }\n",
              "</style>\n",
              "<table border=\"1\" class=\"dataframe\">\n",
              "  <thead>\n",
              "    <tr style=\"text-align: right;\">\n",
              "      <th></th>\n",
              "      <th>statistical_parity_difference</th>\n",
              "      <th>equal_opportunity_difference</th>\n",
              "      <th>average_abs_odds_difference</th>\n",
              "      <th>disparate_impact</th>\n",
              "      <th>theil_index</th>\n",
              "      <th>statistical_parity_difference_%change</th>\n",
              "      <th>equal_opportunity_difference_%change</th>\n",
              "      <th>average_abs_odds_difference_%change</th>\n",
              "      <th>disparate_impact_%change</th>\n",
              "      <th>theil_index_%change</th>\n",
              "    </tr>\n",
              "  </thead>\n",
              "  <tbody>\n",
              "    <tr>\n",
              "      <th>Origin</th>\n",
              "      <td>-0.140322</td>\n",
              "      <td>-0.088268</td>\n",
              "      <td>0.123412</td>\n",
              "      <td>0.823634</td>\n",
              "      <td>0.164798</td>\n",
              "      <td>0.00</td>\n",
              "      <td>0.00</td>\n",
              "      <td>0.00</td>\n",
              "      <td>0.00</td>\n",
              "      <td>0.00</td>\n",
              "    </tr>\n",
              "    <tr>\n",
              "      <th>Disparate Impact Remover</th>\n",
              "      <td>-0.200043</td>\n",
              "      <td>-0.150399</td>\n",
              "      <td>0.182142</td>\n",
              "      <td>0.756992</td>\n",
              "      <td>0.165682</td>\n",
              "      <td>5.97</td>\n",
              "      <td>6.21</td>\n",
              "      <td>5.87</td>\n",
              "      <td>6.66</td>\n",
              "      <td>0.09</td>\n",
              "    </tr>\n",
              "    <tr>\n",
              "      <th>Learning Fair Representation</th>\n",
              "      <td>0.000000</td>\n",
              "      <td>0.000000</td>\n",
              "      <td>0.000000</td>\n",
              "      <td>NaN</td>\n",
              "      <td>1.077926</td>\n",
              "      <td>14.03</td>\n",
              "      <td>8.83</td>\n",
              "      <td>12.34</td>\n",
              "      <td>NaN</td>\n",
              "      <td>91.31</td>\n",
              "    </tr>\n",
              "    <tr>\n",
              "      <th>Reweighing</th>\n",
              "      <td>-0.110744</td>\n",
              "      <td>-0.032078</td>\n",
              "      <td>0.057604</td>\n",
              "      <td>0.852715</td>\n",
              "      <td>0.080127</td>\n",
              "      <td>2.96</td>\n",
              "      <td>5.62</td>\n",
              "      <td>6.58</td>\n",
              "      <td>2.91</td>\n",
              "      <td>8.47</td>\n",
              "    </tr>\n",
              "    <tr>\n",
              "      <th>Prejudice Remover Regularizer</th>\n",
              "      <td>0.112632</td>\n",
              "      <td>0.057136</td>\n",
              "      <td>0.097467</td>\n",
              "      <td>2.209069</td>\n",
              "      <td>1.054776</td>\n",
              "      <td>2.77</td>\n",
              "      <td>3.11</td>\n",
              "      <td>2.59</td>\n",
              "      <td>138.54</td>\n",
              "      <td>89.00</td>\n",
              "    </tr>\n",
              "    <tr>\n",
              "      <th>Calibrated Equality of Odds</th>\n",
              "      <td>-0.206274</td>\n",
              "      <td>-0.129555</td>\n",
              "      <td>0.259311</td>\n",
              "      <td>0.000000</td>\n",
              "      <td>1.021985</td>\n",
              "      <td>6.60</td>\n",
              "      <td>4.13</td>\n",
              "      <td>13.59</td>\n",
              "      <td>82.36</td>\n",
              "      <td>85.72</td>\n",
              "    </tr>\n",
              "  </tbody>\n",
              "</table>\n",
              "</div>"
            ],
            "text/plain": [
              "                               statistical_parity_difference  ...  theil_index_%change\n",
              "Origin                                             -0.140322  ...                 0.00\n",
              "Disparate Impact Remover                           -0.200043  ...                 0.09\n",
              "Learning Fair Representation                        0.000000  ...                91.31\n",
              "Reweighing                                         -0.110744  ...                 8.47\n",
              "Prejudice Remover Regularizer                       0.112632  ...                89.00\n",
              "Calibrated Equality of Odds                        -0.206274  ...                85.72\n",
              "\n",
              "[6 rows x 10 columns]"
            ]
          },
          "metadata": {
            "tags": []
          },
          "execution_count": 44
        }
      ]
    },
    {
      "cell_type": "markdown",
      "metadata": {
        "id": "AtyYRi0S6bmU"
      },
      "source": [
        "Threshold of the different metrics are as follows:\n",
        "- [-0.1, 0.1] - Statistical Parity Difference, Equal Opportunity Difference, and Average Absolute Odds Difference \n",
        "- [0.8, 1.2] - Disparate Impact Remover\n",
        "- [0, 0.25] - Theil Index"
      ]
    },
    {
      "cell_type": "markdown",
      "metadata": {
        "id": "L7f6UEPU6hdC"
      },
      "source": [
        "List of all metrics that has a threshold of [-0.1, 0.1]"
      ]
    },
    {
      "cell_type": "code",
      "metadata": {
        "id": "6i60II2m5dRA"
      },
      "source": [
        "metrics_SEA =  ['statistical_parity_difference', 'equal_opportunity_difference', 'average_abs_odds_difference']"
      ],
      "execution_count": 45,
      "outputs": []
    },
    {
      "cell_type": "markdown",
      "metadata": {
        "id": "V5-FreAK6J1p"
      },
      "source": [
        "Add new columns such as a bool col (whether if mitigated or not), target_value and, lower and upper bound columns"
      ]
    },
    {
      "cell_type": "code",
      "metadata": {
        "id": "lVjDYCRA6IBk"
      },
      "source": [
        "for metric in metrics_SEA:\n",
        "  compare_df[metric+ '_target_value'] = 0\n",
        "  compare_df[metric+ '_upper_bound'] = 0.1\n",
        "  compare_df[metric+ '_lower_bound'] = -0.1\n",
        "  compare_df[metric+'_isMitigated'] = compare_df[metric].apply(lambda x: 'Yes' if (x >= -0.1) and (x <= 0.1) else 'No')\n",
        "  \n",
        "compare_df['disparate_impact_isMitigated'] = compare_df['disparate_impact'].apply(lambda x: 'Yes' if (x >= 0.8) and (x <= 1.2) else 'No')\n",
        "compare_df['disparate_impact_target_value'] = 1\n",
        "compare_df['disparate_impact_upper_bound'] = 1.2\n",
        "compare_df['disparate_impact_lower_bound'] = 0.8\n",
        "\n",
        "compare_df['theil_index_isMitigated'] = compare_df['theil_index'].apply(lambda x: 'Yes' if (x >= 0) and (x <= 0.25) else 'No')\n",
        "compare_df['theil_index_value'] = 0\n",
        "compare_df['theil_index_upper_bound'] = 0.25\n",
        "compare_df['theil_index_lower_bound'] = 0"
      ],
      "execution_count": 46,
      "outputs": []
    },
    {
      "cell_type": "markdown",
      "metadata": {
        "id": "jkv-YsOO5_ko"
      },
      "source": [
        "Create a new table containing only the additional columns"
      ]
    },
    {
      "cell_type": "code",
      "metadata": {
        "id": "aCdaUbKm5fHM",
        "colab": {
          "base_uri": "https://localhost:8080/",
          "height": 374
        },
        "outputId": "20194056-b9f0-49a5-fc38-2a7aaec71255"
      },
      "source": [
        "metrics_col = ['statistical_parity_difference', 'equal_opportunity_difference', 'average_abs_odds_difference', 'disparate_impact', 'theil_index']\n",
        "compare_diff_df = compare_df.drop(columns = metrics_col, axis = 0)\n",
        "compare_diff_df"
      ],
      "execution_count": 47,
      "outputs": [
        {
          "output_type": "execute_result",
          "data": {
            "text/html": [
              "<div>\n",
              "<style scoped>\n",
              "    .dataframe tbody tr th:only-of-type {\n",
              "        vertical-align: middle;\n",
              "    }\n",
              "\n",
              "    .dataframe tbody tr th {\n",
              "        vertical-align: top;\n",
              "    }\n",
              "\n",
              "    .dataframe thead th {\n",
              "        text-align: right;\n",
              "    }\n",
              "</style>\n",
              "<table border=\"1\" class=\"dataframe\">\n",
              "  <thead>\n",
              "    <tr style=\"text-align: right;\">\n",
              "      <th></th>\n",
              "      <th>statistical_parity_difference_%change</th>\n",
              "      <th>equal_opportunity_difference_%change</th>\n",
              "      <th>average_abs_odds_difference_%change</th>\n",
              "      <th>disparate_impact_%change</th>\n",
              "      <th>theil_index_%change</th>\n",
              "      <th>statistical_parity_difference_target_value</th>\n",
              "      <th>statistical_parity_difference_upper_bound</th>\n",
              "      <th>statistical_parity_difference_lower_bound</th>\n",
              "      <th>statistical_parity_difference_isMitigated</th>\n",
              "      <th>equal_opportunity_difference_target_value</th>\n",
              "      <th>equal_opportunity_difference_upper_bound</th>\n",
              "      <th>equal_opportunity_difference_lower_bound</th>\n",
              "      <th>equal_opportunity_difference_isMitigated</th>\n",
              "      <th>average_abs_odds_difference_target_value</th>\n",
              "      <th>average_abs_odds_difference_upper_bound</th>\n",
              "      <th>average_abs_odds_difference_lower_bound</th>\n",
              "      <th>average_abs_odds_difference_isMitigated</th>\n",
              "      <th>disparate_impact_isMitigated</th>\n",
              "      <th>disparate_impact_target_value</th>\n",
              "      <th>disparate_impact_upper_bound</th>\n",
              "      <th>disparate_impact_lower_bound</th>\n",
              "      <th>theil_index_isMitigated</th>\n",
              "      <th>theil_index_value</th>\n",
              "      <th>theil_index_upper_bound</th>\n",
              "      <th>theil_index_lower_bound</th>\n",
              "    </tr>\n",
              "  </thead>\n",
              "  <tbody>\n",
              "    <tr>\n",
              "      <th>Origin</th>\n",
              "      <td>0.00</td>\n",
              "      <td>0.00</td>\n",
              "      <td>0.00</td>\n",
              "      <td>0.00</td>\n",
              "      <td>0.00</td>\n",
              "      <td>0</td>\n",
              "      <td>0.1</td>\n",
              "      <td>-0.1</td>\n",
              "      <td>No</td>\n",
              "      <td>0</td>\n",
              "      <td>0.1</td>\n",
              "      <td>-0.1</td>\n",
              "      <td>Yes</td>\n",
              "      <td>0</td>\n",
              "      <td>0.1</td>\n",
              "      <td>-0.1</td>\n",
              "      <td>No</td>\n",
              "      <td>Yes</td>\n",
              "      <td>1</td>\n",
              "      <td>1.2</td>\n",
              "      <td>0.8</td>\n",
              "      <td>Yes</td>\n",
              "      <td>0</td>\n",
              "      <td>0.25</td>\n",
              "      <td>0</td>\n",
              "    </tr>\n",
              "    <tr>\n",
              "      <th>Disparate Impact Remover</th>\n",
              "      <td>5.97</td>\n",
              "      <td>6.21</td>\n",
              "      <td>5.87</td>\n",
              "      <td>6.66</td>\n",
              "      <td>0.09</td>\n",
              "      <td>0</td>\n",
              "      <td>0.1</td>\n",
              "      <td>-0.1</td>\n",
              "      <td>No</td>\n",
              "      <td>0</td>\n",
              "      <td>0.1</td>\n",
              "      <td>-0.1</td>\n",
              "      <td>No</td>\n",
              "      <td>0</td>\n",
              "      <td>0.1</td>\n",
              "      <td>-0.1</td>\n",
              "      <td>No</td>\n",
              "      <td>No</td>\n",
              "      <td>1</td>\n",
              "      <td>1.2</td>\n",
              "      <td>0.8</td>\n",
              "      <td>Yes</td>\n",
              "      <td>0</td>\n",
              "      <td>0.25</td>\n",
              "      <td>0</td>\n",
              "    </tr>\n",
              "    <tr>\n",
              "      <th>Learning Fair Representation</th>\n",
              "      <td>14.03</td>\n",
              "      <td>8.83</td>\n",
              "      <td>12.34</td>\n",
              "      <td>NaN</td>\n",
              "      <td>91.31</td>\n",
              "      <td>0</td>\n",
              "      <td>0.1</td>\n",
              "      <td>-0.1</td>\n",
              "      <td>Yes</td>\n",
              "      <td>0</td>\n",
              "      <td>0.1</td>\n",
              "      <td>-0.1</td>\n",
              "      <td>Yes</td>\n",
              "      <td>0</td>\n",
              "      <td>0.1</td>\n",
              "      <td>-0.1</td>\n",
              "      <td>Yes</td>\n",
              "      <td>No</td>\n",
              "      <td>1</td>\n",
              "      <td>1.2</td>\n",
              "      <td>0.8</td>\n",
              "      <td>No</td>\n",
              "      <td>0</td>\n",
              "      <td>0.25</td>\n",
              "      <td>0</td>\n",
              "    </tr>\n",
              "    <tr>\n",
              "      <th>Reweighing</th>\n",
              "      <td>2.96</td>\n",
              "      <td>5.62</td>\n",
              "      <td>6.58</td>\n",
              "      <td>2.91</td>\n",
              "      <td>8.47</td>\n",
              "      <td>0</td>\n",
              "      <td>0.1</td>\n",
              "      <td>-0.1</td>\n",
              "      <td>No</td>\n",
              "      <td>0</td>\n",
              "      <td>0.1</td>\n",
              "      <td>-0.1</td>\n",
              "      <td>Yes</td>\n",
              "      <td>0</td>\n",
              "      <td>0.1</td>\n",
              "      <td>-0.1</td>\n",
              "      <td>Yes</td>\n",
              "      <td>Yes</td>\n",
              "      <td>1</td>\n",
              "      <td>1.2</td>\n",
              "      <td>0.8</td>\n",
              "      <td>Yes</td>\n",
              "      <td>0</td>\n",
              "      <td>0.25</td>\n",
              "      <td>0</td>\n",
              "    </tr>\n",
              "    <tr>\n",
              "      <th>Prejudice Remover Regularizer</th>\n",
              "      <td>2.77</td>\n",
              "      <td>3.11</td>\n",
              "      <td>2.59</td>\n",
              "      <td>138.54</td>\n",
              "      <td>89.00</td>\n",
              "      <td>0</td>\n",
              "      <td>0.1</td>\n",
              "      <td>-0.1</td>\n",
              "      <td>No</td>\n",
              "      <td>0</td>\n",
              "      <td>0.1</td>\n",
              "      <td>-0.1</td>\n",
              "      <td>Yes</td>\n",
              "      <td>0</td>\n",
              "      <td>0.1</td>\n",
              "      <td>-0.1</td>\n",
              "      <td>Yes</td>\n",
              "      <td>No</td>\n",
              "      <td>1</td>\n",
              "      <td>1.2</td>\n",
              "      <td>0.8</td>\n",
              "      <td>No</td>\n",
              "      <td>0</td>\n",
              "      <td>0.25</td>\n",
              "      <td>0</td>\n",
              "    </tr>\n",
              "    <tr>\n",
              "      <th>Calibrated Equality of Odds</th>\n",
              "      <td>6.60</td>\n",
              "      <td>4.13</td>\n",
              "      <td>13.59</td>\n",
              "      <td>82.36</td>\n",
              "      <td>85.72</td>\n",
              "      <td>0</td>\n",
              "      <td>0.1</td>\n",
              "      <td>-0.1</td>\n",
              "      <td>No</td>\n",
              "      <td>0</td>\n",
              "      <td>0.1</td>\n",
              "      <td>-0.1</td>\n",
              "      <td>No</td>\n",
              "      <td>0</td>\n",
              "      <td>0.1</td>\n",
              "      <td>-0.1</td>\n",
              "      <td>No</td>\n",
              "      <td>No</td>\n",
              "      <td>1</td>\n",
              "      <td>1.2</td>\n",
              "      <td>0.8</td>\n",
              "      <td>No</td>\n",
              "      <td>0</td>\n",
              "      <td>0.25</td>\n",
              "      <td>0</td>\n",
              "    </tr>\n",
              "  </tbody>\n",
              "</table>\n",
              "</div>"
            ],
            "text/plain": [
              "                               statistical_parity_difference_%change  ...  theil_index_lower_bound\n",
              "Origin                                                          0.00  ...                        0\n",
              "Disparate Impact Remover                                        5.97  ...                        0\n",
              "Learning Fair Representation                                   14.03  ...                        0\n",
              "Reweighing                                                      2.96  ...                        0\n",
              "Prejudice Remover Regularizer                                   2.77  ...                        0\n",
              "Calibrated Equality of Odds                                     6.60  ...                        0\n",
              "\n",
              "[6 rows x 25 columns]"
            ]
          },
          "metadata": {
            "tags": []
          },
          "execution_count": 47
        }
      ]
    },
    {
      "cell_type": "markdown",
      "metadata": {
        "id": "OZvkGeDCqJZJ"
      },
      "source": [
        "### Add column for counting the number of biases mitigated by each algorithm. \r\n",
        "\r\n",
        "---\r\n",
        "\r\n",
        "\r\n",
        "(Best algorithm to mitigate bias is shown in the last column)\r\n"
      ]
    },
    {
      "cell_type": "code",
      "metadata": {
        "id": "Pu1qncYjZuOg"
      },
      "source": [
        "metrics_col_mitigated = [x + '_isMitigated' for x in metrics_col]\n",
        "compare_diff_df['Total Number of Mitigated Biases'] = (compare_diff_df[metrics_col_mitigated] == 'Yes').sum(1)"
      ],
      "execution_count": 48,
      "outputs": []
    },
    {
      "cell_type": "code",
      "metadata": {
        "id": "fJSzsSTZp2lZ",
        "colab": {
          "base_uri": "https://localhost:8080/",
          "height": 425
        },
        "outputId": "bc167d66-537f-4892-d3d2-99ae21cd5a90"
      },
      "source": [
        "compare_diff_df"
      ],
      "execution_count": 49,
      "outputs": [
        {
          "output_type": "execute_result",
          "data": {
            "text/html": [
              "<div>\n",
              "<style scoped>\n",
              "    .dataframe tbody tr th:only-of-type {\n",
              "        vertical-align: middle;\n",
              "    }\n",
              "\n",
              "    .dataframe tbody tr th {\n",
              "        vertical-align: top;\n",
              "    }\n",
              "\n",
              "    .dataframe thead th {\n",
              "        text-align: right;\n",
              "    }\n",
              "</style>\n",
              "<table border=\"1\" class=\"dataframe\">\n",
              "  <thead>\n",
              "    <tr style=\"text-align: right;\">\n",
              "      <th></th>\n",
              "      <th>statistical_parity_difference_%change</th>\n",
              "      <th>equal_opportunity_difference_%change</th>\n",
              "      <th>average_abs_odds_difference_%change</th>\n",
              "      <th>disparate_impact_%change</th>\n",
              "      <th>theil_index_%change</th>\n",
              "      <th>statistical_parity_difference_target_value</th>\n",
              "      <th>statistical_parity_difference_upper_bound</th>\n",
              "      <th>statistical_parity_difference_lower_bound</th>\n",
              "      <th>statistical_parity_difference_isMitigated</th>\n",
              "      <th>equal_opportunity_difference_target_value</th>\n",
              "      <th>equal_opportunity_difference_upper_bound</th>\n",
              "      <th>equal_opportunity_difference_lower_bound</th>\n",
              "      <th>equal_opportunity_difference_isMitigated</th>\n",
              "      <th>average_abs_odds_difference_target_value</th>\n",
              "      <th>average_abs_odds_difference_upper_bound</th>\n",
              "      <th>average_abs_odds_difference_lower_bound</th>\n",
              "      <th>average_abs_odds_difference_isMitigated</th>\n",
              "      <th>disparate_impact_isMitigated</th>\n",
              "      <th>disparate_impact_target_value</th>\n",
              "      <th>disparate_impact_upper_bound</th>\n",
              "      <th>disparate_impact_lower_bound</th>\n",
              "      <th>theil_index_isMitigated</th>\n",
              "      <th>theil_index_value</th>\n",
              "      <th>theil_index_upper_bound</th>\n",
              "      <th>theil_index_lower_bound</th>\n",
              "      <th>Total Number of Mitigated Biases</th>\n",
              "    </tr>\n",
              "  </thead>\n",
              "  <tbody>\n",
              "    <tr>\n",
              "      <th>Origin</th>\n",
              "      <td>0.00</td>\n",
              "      <td>0.00</td>\n",
              "      <td>0.00</td>\n",
              "      <td>0.00</td>\n",
              "      <td>0.00</td>\n",
              "      <td>0</td>\n",
              "      <td>0.1</td>\n",
              "      <td>-0.1</td>\n",
              "      <td>No</td>\n",
              "      <td>0</td>\n",
              "      <td>0.1</td>\n",
              "      <td>-0.1</td>\n",
              "      <td>Yes</td>\n",
              "      <td>0</td>\n",
              "      <td>0.1</td>\n",
              "      <td>-0.1</td>\n",
              "      <td>No</td>\n",
              "      <td>Yes</td>\n",
              "      <td>1</td>\n",
              "      <td>1.2</td>\n",
              "      <td>0.8</td>\n",
              "      <td>Yes</td>\n",
              "      <td>0</td>\n",
              "      <td>0.25</td>\n",
              "      <td>0</td>\n",
              "      <td>3</td>\n",
              "    </tr>\n",
              "    <tr>\n",
              "      <th>Disparate Impact Remover</th>\n",
              "      <td>5.97</td>\n",
              "      <td>6.21</td>\n",
              "      <td>5.87</td>\n",
              "      <td>6.66</td>\n",
              "      <td>0.09</td>\n",
              "      <td>0</td>\n",
              "      <td>0.1</td>\n",
              "      <td>-0.1</td>\n",
              "      <td>No</td>\n",
              "      <td>0</td>\n",
              "      <td>0.1</td>\n",
              "      <td>-0.1</td>\n",
              "      <td>No</td>\n",
              "      <td>0</td>\n",
              "      <td>0.1</td>\n",
              "      <td>-0.1</td>\n",
              "      <td>No</td>\n",
              "      <td>No</td>\n",
              "      <td>1</td>\n",
              "      <td>1.2</td>\n",
              "      <td>0.8</td>\n",
              "      <td>Yes</td>\n",
              "      <td>0</td>\n",
              "      <td>0.25</td>\n",
              "      <td>0</td>\n",
              "      <td>1</td>\n",
              "    </tr>\n",
              "    <tr>\n",
              "      <th>Learning Fair Representation</th>\n",
              "      <td>14.03</td>\n",
              "      <td>8.83</td>\n",
              "      <td>12.34</td>\n",
              "      <td>NaN</td>\n",
              "      <td>91.31</td>\n",
              "      <td>0</td>\n",
              "      <td>0.1</td>\n",
              "      <td>-0.1</td>\n",
              "      <td>Yes</td>\n",
              "      <td>0</td>\n",
              "      <td>0.1</td>\n",
              "      <td>-0.1</td>\n",
              "      <td>Yes</td>\n",
              "      <td>0</td>\n",
              "      <td>0.1</td>\n",
              "      <td>-0.1</td>\n",
              "      <td>Yes</td>\n",
              "      <td>No</td>\n",
              "      <td>1</td>\n",
              "      <td>1.2</td>\n",
              "      <td>0.8</td>\n",
              "      <td>No</td>\n",
              "      <td>0</td>\n",
              "      <td>0.25</td>\n",
              "      <td>0</td>\n",
              "      <td>3</td>\n",
              "    </tr>\n",
              "    <tr>\n",
              "      <th>Reweighing</th>\n",
              "      <td>2.96</td>\n",
              "      <td>5.62</td>\n",
              "      <td>6.58</td>\n",
              "      <td>2.91</td>\n",
              "      <td>8.47</td>\n",
              "      <td>0</td>\n",
              "      <td>0.1</td>\n",
              "      <td>-0.1</td>\n",
              "      <td>No</td>\n",
              "      <td>0</td>\n",
              "      <td>0.1</td>\n",
              "      <td>-0.1</td>\n",
              "      <td>Yes</td>\n",
              "      <td>0</td>\n",
              "      <td>0.1</td>\n",
              "      <td>-0.1</td>\n",
              "      <td>Yes</td>\n",
              "      <td>Yes</td>\n",
              "      <td>1</td>\n",
              "      <td>1.2</td>\n",
              "      <td>0.8</td>\n",
              "      <td>Yes</td>\n",
              "      <td>0</td>\n",
              "      <td>0.25</td>\n",
              "      <td>0</td>\n",
              "      <td>4</td>\n",
              "    </tr>\n",
              "    <tr>\n",
              "      <th>Prejudice Remover Regularizer</th>\n",
              "      <td>2.77</td>\n",
              "      <td>3.11</td>\n",
              "      <td>2.59</td>\n",
              "      <td>138.54</td>\n",
              "      <td>89.00</td>\n",
              "      <td>0</td>\n",
              "      <td>0.1</td>\n",
              "      <td>-0.1</td>\n",
              "      <td>No</td>\n",
              "      <td>0</td>\n",
              "      <td>0.1</td>\n",
              "      <td>-0.1</td>\n",
              "      <td>Yes</td>\n",
              "      <td>0</td>\n",
              "      <td>0.1</td>\n",
              "      <td>-0.1</td>\n",
              "      <td>Yes</td>\n",
              "      <td>No</td>\n",
              "      <td>1</td>\n",
              "      <td>1.2</td>\n",
              "      <td>0.8</td>\n",
              "      <td>No</td>\n",
              "      <td>0</td>\n",
              "      <td>0.25</td>\n",
              "      <td>0</td>\n",
              "      <td>2</td>\n",
              "    </tr>\n",
              "    <tr>\n",
              "      <th>Calibrated Equality of Odds</th>\n",
              "      <td>6.60</td>\n",
              "      <td>4.13</td>\n",
              "      <td>13.59</td>\n",
              "      <td>82.36</td>\n",
              "      <td>85.72</td>\n",
              "      <td>0</td>\n",
              "      <td>0.1</td>\n",
              "      <td>-0.1</td>\n",
              "      <td>No</td>\n",
              "      <td>0</td>\n",
              "      <td>0.1</td>\n",
              "      <td>-0.1</td>\n",
              "      <td>No</td>\n",
              "      <td>0</td>\n",
              "      <td>0.1</td>\n",
              "      <td>-0.1</td>\n",
              "      <td>No</td>\n",
              "      <td>No</td>\n",
              "      <td>1</td>\n",
              "      <td>1.2</td>\n",
              "      <td>0.8</td>\n",
              "      <td>No</td>\n",
              "      <td>0</td>\n",
              "      <td>0.25</td>\n",
              "      <td>0</td>\n",
              "      <td>0</td>\n",
              "    </tr>\n",
              "  </tbody>\n",
              "</table>\n",
              "</div>"
            ],
            "text/plain": [
              "                               statistical_parity_difference_%change  ...  Total Number of Mitigated Biases\n",
              "Origin                                                          0.00  ...                                 3\n",
              "Disparate Impact Remover                                        5.97  ...                                 1\n",
              "Learning Fair Representation                                   14.03  ...                                 3\n",
              "Reweighing                                                      2.96  ...                                 4\n",
              "Prejudice Remover Regularizer                                   2.77  ...                                 2\n",
              "Calibrated Equality of Odds                                     6.60  ...                                 0\n",
              "\n",
              "[6 rows x 26 columns]"
            ]
          },
          "metadata": {
            "tags": []
          },
          "execution_count": 49
        }
      ]
    },
    {
      "cell_type": "code",
      "metadata": {
        "id": "KeHAXOlRyKD5"
      },
      "source": [
        ""
      ],
      "execution_count": 49,
      "outputs": []
    }
  ]
}